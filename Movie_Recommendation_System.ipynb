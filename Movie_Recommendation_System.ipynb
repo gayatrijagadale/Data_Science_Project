{
  "nbformat": 4,
  "nbformat_minor": 0,
  "metadata": {
    "colab": {
      "provenance": []
    },
    "kernelspec": {
      "name": "python3",
      "display_name": "Python 3"
    },
    "language_info": {
      "name": "python"
    }
  },
  "cells": [
    {
      "cell_type": "code",
      "execution_count": null,
      "metadata": {
        "id": "A46Fmj1jdqgv"
      },
      "outputs": [],
      "source": []
    },
    {
      "cell_type": "markdown",
      "source": [
        "## **Movie Recommendation System**"
      ],
      "metadata": {
        "id": "YtfsdameeAgk"
      }
    },
    {
      "cell_type": "code",
      "source": [],
      "metadata": {
        "id": "VSYvBzOaeGoS"
      },
      "execution_count": null,
      "outputs": []
    },
    {
      "cell_type": "markdown",
      "source": [
        "**Recommender System** is system that seek to predict or filter preference according to the user's choices.Recommender system are utillized in a variety of areas includeing movies, news boos ,research articles, search queries,social tags, and products in general.Recommender system produce a list of recommendations in any two ways -\n",
        "\n",
        "**Collaborative filtering**:Collaborative filtering approach use a series of discrete chracteristics of an item in order to recommend addition items with similar properties.Content-based filtering method are totally based on description of the item and a profile  of the user's preference .It recommends items based on the user's past preferences .Let's develop a basic recommendation system using python and Pandas.\n",
        "\n",
        "Let's develop a basic recommendation system by suggesting items that are most similar to a particular item,in this case movies,it just tells what movies/items are most similar to the user's movies choice"
      ],
      "metadata": {
        "id": "08EmZf55eX6E"
      }
    },
    {
      "cell_type": "code",
      "source": [],
      "metadata": {
        "id": "6gfQb41Xg8NT"
      },
      "execution_count": null,
      "outputs": []
    },
    {
      "cell_type": "markdown",
      "source": [
        "## **Import Library**"
      ],
      "metadata": {
        "id": "BxRLD_4zi025"
      }
    },
    {
      "cell_type": "code",
      "source": [
        "!pip install pyspark"
      ],
      "metadata": {
        "colab": {
          "base_uri": "https://localhost:8080/"
        },
        "id": "wA8nISmFqdEZ",
        "outputId": "d18b592b-3118-4d9e-9926-6404c1c11882"
      },
      "execution_count": null,
      "outputs": [
        {
          "output_type": "stream",
          "name": "stdout",
          "text": [
            "Collecting pyspark\n",
            "  Downloading pyspark-3.4.1.tar.gz (310.8 MB)\n",
            "\u001b[2K     \u001b[90m━━━━━━━━━━━━━━━━━━━━━━━━━━━━━━━━━━━━━━━\u001b[0m \u001b[32m310.8/310.8 MB\u001b[0m \u001b[31m1.8 MB/s\u001b[0m eta \u001b[36m0:00:00\u001b[0m\n",
            "\u001b[?25h  Preparing metadata (setup.py) ... \u001b[?25l\u001b[?25hdone\n",
            "Requirement already satisfied: py4j==0.10.9.7 in /usr/local/lib/python3.10/dist-packages (from pyspark) (0.10.9.7)\n",
            "Building wheels for collected packages: pyspark\n",
            "  Building wheel for pyspark (setup.py) ... \u001b[?25l\u001b[?25hdone\n",
            "  Created wheel for pyspark: filename=pyspark-3.4.1-py2.py3-none-any.whl size=311285397 sha256=07610ec11de2276c5210f32697cccba33388a5ad30947aa8cc29818064d48974\n",
            "  Stored in directory: /root/.cache/pip/wheels/0d/77/a3/ff2f74cc9ab41f8f594dabf0579c2a7c6de920d584206e0834\n",
            "Successfully built pyspark\n",
            "Installing collected packages: pyspark\n",
            "Successfully installed pyspark-3.4.1\n"
          ]
        }
      ]
    },
    {
      "cell_type": "code",
      "source": [
        "import pandas as pd"
      ],
      "metadata": {
        "id": "qXl6bCwli60o"
      },
      "execution_count": null,
      "outputs": []
    },
    {
      "cell_type": "code",
      "source": [
        "import numpy as np"
      ],
      "metadata": {
        "id": "kWrS8ROAjAUY"
      },
      "execution_count": null,
      "outputs": []
    },
    {
      "cell_type": "code",
      "source": [],
      "metadata": {
        "id": "6nuRHI_tjDh3"
      },
      "execution_count": null,
      "outputs": []
    },
    {
      "cell_type": "markdown",
      "source": [
        "## **Import Dataset**"
      ],
      "metadata": {
        "id": "04EgPUoijEdO"
      }
    },
    {
      "cell_type": "code",
      "source": [
        "df = pd.read_csv('https://github.com/YBIFoundation/Dataset/raw/main/Movies%20Recommendation.csv')"
      ],
      "metadata": {
        "id": "ZTGdLZ8mjHxR"
      },
      "execution_count": null,
      "outputs": []
    },
    {
      "cell_type": "code",
      "source": [
        "df.head()"
      ],
      "metadata": {
        "colab": {
          "base_uri": "https://localhost:8080/",
          "height": 716
        },
        "id": "P8hbU_ojkYbF",
        "outputId": "d3836181-5e29-4e42-9534-eb44dea8b52d"
      },
      "execution_count": null,
      "outputs": [
        {
          "output_type": "execute_result",
          "data": {
            "text/plain": [
              "   Movie_ID      Movie_Title                       Movie_Genre Movie_Language  \\\n",
              "0         1       Four Rooms                      Crime Comedy             en   \n",
              "1         2        Star Wars  Adventure Action Science Fiction             en   \n",
              "2         3     Finding Nemo                  Animation Family             en   \n",
              "3         4     Forrest Gump              Comedy Drama Romance             en   \n",
              "4         5  American Beauty                             Drama             en   \n",
              "\n",
              "   Movie_Budget  Movie_Popularity Movie_Release_Date  Movie_Revenue  \\\n",
              "0       4000000         22.876230         09-12-1995        4300000   \n",
              "1      11000000        126.393695         25-05-1977      775398007   \n",
              "2      94000000         85.688789         30-05-2003      940335536   \n",
              "3      55000000        138.133331         06-07-1994      677945399   \n",
              "4      15000000         80.878605         15-09-1999      356296601   \n",
              "\n",
              "   Movie_Runtime  Movie_Vote  ...  \\\n",
              "0           98.0         6.5  ...   \n",
              "1          121.0         8.1  ...   \n",
              "2          100.0         7.6  ...   \n",
              "3          142.0         8.2  ...   \n",
              "4          122.0         7.9  ...   \n",
              "\n",
              "                                      Movie_Homepage  \\\n",
              "0                                                NaN   \n",
              "1  http://www.starwars.com/films/star-wars-episod...   \n",
              "2              http://movies.disney.com/finding-nemo   \n",
              "3                                                NaN   \n",
              "4                      http://www.dreamworks.com/ab/   \n",
              "\n",
              "                                      Movie_Keywords  \\\n",
              "0          hotel new year's eve witch bet hotel room   \n",
              "1        android galaxy hermit death star lightsaber   \n",
              "2  father son relationship harbor underwater fish...   \n",
              "3  vietnam veteran hippie mentally disabled runni...   \n",
              "4  male nudity female nudity adultery midlife cri...   \n",
              "\n",
              "                                      Movie_Overview  \\\n",
              "0  It's Ted the Bellhop's first night on the job....   \n",
              "1  Princess Leia is captured and held hostage by ...   \n",
              "2  Nemo, an adventurous young clownfish, is unexp...   \n",
              "3  A man with a low IQ has accomplished great thi...   \n",
              "4  Lester Burnham, a depressed suburban father in...   \n",
              "\n",
              "                              Movie_Production_House  \\\n",
              "0  [{\"name\": \"Miramax Films\", \"id\": 14}, {\"name\":...   \n",
              "1  [{\"name\": \"Lucasfilm\", \"id\": 1}, {\"name\": \"Twe...   \n",
              "2     [{\"name\": \"Pixar Animation Studios\", \"id\": 3}]   \n",
              "3          [{\"name\": \"Paramount Pictures\", \"id\": 4}]   \n",
              "4  [{\"name\": \"DreamWorks SKG\", \"id\": 27}, {\"name\"...   \n",
              "\n",
              "                            Movie_Production_Country  \\\n",
              "0  [{\"iso_3166_1\": \"US\", \"name\": \"United States o...   \n",
              "1  [{\"iso_3166_1\": \"US\", \"name\": \"United States o...   \n",
              "2  [{\"iso_3166_1\": \"US\", \"name\": \"United States o...   \n",
              "3  [{\"iso_3166_1\": \"US\", \"name\": \"United States o...   \n",
              "4  [{\"iso_3166_1\": \"US\", \"name\": \"United States o...   \n",
              "\n",
              "                      Movie_Spoken_Language  \\\n",
              "0  [{\"iso_639_1\": \"en\", \"name\": \"English\"}]   \n",
              "1  [{\"iso_639_1\": \"en\", \"name\": \"English\"}]   \n",
              "2  [{\"iso_639_1\": \"en\", \"name\": \"English\"}]   \n",
              "3  [{\"iso_639_1\": \"en\", \"name\": \"English\"}]   \n",
              "4  [{\"iso_639_1\": \"en\", \"name\": \"English\"}]   \n",
              "\n",
              "                                       Movie_Tagline  \\\n",
              "0  Twelve outrageous guests. Four scandalous requ...   \n",
              "1       A long time ago in a galaxy far, far away...   \n",
              "2  There are 3.7 trillion fish in the ocean, they...   \n",
              "3  The world will never be the same, once you've ...   \n",
              "4                                       Look closer.   \n",
              "\n",
              "                                          Movie_Cast  \\\n",
              "0  Tim Roth Antonio Banderas Jennifer Beals Madon...   \n",
              "1  Mark Hamill Harrison Ford Carrie Fisher Peter ...   \n",
              "2  Albert Brooks Ellen DeGeneres Alexander Gould ...   \n",
              "3  Tom Hanks Robin Wright Gary Sinise Mykelti Wil...   \n",
              "4  Kevin Spacey Annette Bening Thora Birch Wes Be...   \n",
              "\n",
              "                                          Movie_Crew   Movie_Director  \n",
              "0  [{'name': 'Allison Anders', 'gender': 1, 'depa...   Allison Anders  \n",
              "1  [{'name': 'George Lucas', 'gender': 2, 'depart...     George Lucas  \n",
              "2  [{'name': 'Andrew Stanton', 'gender': 2, 'depa...   Andrew Stanton  \n",
              "3  [{'name': 'Alan Silvestri', 'gender': 2, 'depa...  Robert Zemeckis  \n",
              "4  [{'name': 'Thomas Newman', 'gender': 2, 'depar...       Sam Mendes  \n",
              "\n",
              "[5 rows x 21 columns]"
            ],
            "text/html": [
              "\n",
              "\n",
              "  <div id=\"df-85749ac6-fee4-4c0b-8447-18af01952e8e\">\n",
              "    <div class=\"colab-df-container\">\n",
              "      <div>\n",
              "<style scoped>\n",
              "    .dataframe tbody tr th:only-of-type {\n",
              "        vertical-align: middle;\n",
              "    }\n",
              "\n",
              "    .dataframe tbody tr th {\n",
              "        vertical-align: top;\n",
              "    }\n",
              "\n",
              "    .dataframe thead th {\n",
              "        text-align: right;\n",
              "    }\n",
              "</style>\n",
              "<table border=\"1\" class=\"dataframe\">\n",
              "  <thead>\n",
              "    <tr style=\"text-align: right;\">\n",
              "      <th></th>\n",
              "      <th>Movie_ID</th>\n",
              "      <th>Movie_Title</th>\n",
              "      <th>Movie_Genre</th>\n",
              "      <th>Movie_Language</th>\n",
              "      <th>Movie_Budget</th>\n",
              "      <th>Movie_Popularity</th>\n",
              "      <th>Movie_Release_Date</th>\n",
              "      <th>Movie_Revenue</th>\n",
              "      <th>Movie_Runtime</th>\n",
              "      <th>Movie_Vote</th>\n",
              "      <th>...</th>\n",
              "      <th>Movie_Homepage</th>\n",
              "      <th>Movie_Keywords</th>\n",
              "      <th>Movie_Overview</th>\n",
              "      <th>Movie_Production_House</th>\n",
              "      <th>Movie_Production_Country</th>\n",
              "      <th>Movie_Spoken_Language</th>\n",
              "      <th>Movie_Tagline</th>\n",
              "      <th>Movie_Cast</th>\n",
              "      <th>Movie_Crew</th>\n",
              "      <th>Movie_Director</th>\n",
              "    </tr>\n",
              "  </thead>\n",
              "  <tbody>\n",
              "    <tr>\n",
              "      <th>0</th>\n",
              "      <td>1</td>\n",
              "      <td>Four Rooms</td>\n",
              "      <td>Crime Comedy</td>\n",
              "      <td>en</td>\n",
              "      <td>4000000</td>\n",
              "      <td>22.876230</td>\n",
              "      <td>09-12-1995</td>\n",
              "      <td>4300000</td>\n",
              "      <td>98.0</td>\n",
              "      <td>6.5</td>\n",
              "      <td>...</td>\n",
              "      <td>NaN</td>\n",
              "      <td>hotel new year's eve witch bet hotel room</td>\n",
              "      <td>It's Ted the Bellhop's first night on the job....</td>\n",
              "      <td>[{\"name\": \"Miramax Films\", \"id\": 14}, {\"name\":...</td>\n",
              "      <td>[{\"iso_3166_1\": \"US\", \"name\": \"United States o...</td>\n",
              "      <td>[{\"iso_639_1\": \"en\", \"name\": \"English\"}]</td>\n",
              "      <td>Twelve outrageous guests. Four scandalous requ...</td>\n",
              "      <td>Tim Roth Antonio Banderas Jennifer Beals Madon...</td>\n",
              "      <td>[{'name': 'Allison Anders', 'gender': 1, 'depa...</td>\n",
              "      <td>Allison Anders</td>\n",
              "    </tr>\n",
              "    <tr>\n",
              "      <th>1</th>\n",
              "      <td>2</td>\n",
              "      <td>Star Wars</td>\n",
              "      <td>Adventure Action Science Fiction</td>\n",
              "      <td>en</td>\n",
              "      <td>11000000</td>\n",
              "      <td>126.393695</td>\n",
              "      <td>25-05-1977</td>\n",
              "      <td>775398007</td>\n",
              "      <td>121.0</td>\n",
              "      <td>8.1</td>\n",
              "      <td>...</td>\n",
              "      <td>http://www.starwars.com/films/star-wars-episod...</td>\n",
              "      <td>android galaxy hermit death star lightsaber</td>\n",
              "      <td>Princess Leia is captured and held hostage by ...</td>\n",
              "      <td>[{\"name\": \"Lucasfilm\", \"id\": 1}, {\"name\": \"Twe...</td>\n",
              "      <td>[{\"iso_3166_1\": \"US\", \"name\": \"United States o...</td>\n",
              "      <td>[{\"iso_639_1\": \"en\", \"name\": \"English\"}]</td>\n",
              "      <td>A long time ago in a galaxy far, far away...</td>\n",
              "      <td>Mark Hamill Harrison Ford Carrie Fisher Peter ...</td>\n",
              "      <td>[{'name': 'George Lucas', 'gender': 2, 'depart...</td>\n",
              "      <td>George Lucas</td>\n",
              "    </tr>\n",
              "    <tr>\n",
              "      <th>2</th>\n",
              "      <td>3</td>\n",
              "      <td>Finding Nemo</td>\n",
              "      <td>Animation Family</td>\n",
              "      <td>en</td>\n",
              "      <td>94000000</td>\n",
              "      <td>85.688789</td>\n",
              "      <td>30-05-2003</td>\n",
              "      <td>940335536</td>\n",
              "      <td>100.0</td>\n",
              "      <td>7.6</td>\n",
              "      <td>...</td>\n",
              "      <td>http://movies.disney.com/finding-nemo</td>\n",
              "      <td>father son relationship harbor underwater fish...</td>\n",
              "      <td>Nemo, an adventurous young clownfish, is unexp...</td>\n",
              "      <td>[{\"name\": \"Pixar Animation Studios\", \"id\": 3}]</td>\n",
              "      <td>[{\"iso_3166_1\": \"US\", \"name\": \"United States o...</td>\n",
              "      <td>[{\"iso_639_1\": \"en\", \"name\": \"English\"}]</td>\n",
              "      <td>There are 3.7 trillion fish in the ocean, they...</td>\n",
              "      <td>Albert Brooks Ellen DeGeneres Alexander Gould ...</td>\n",
              "      <td>[{'name': 'Andrew Stanton', 'gender': 2, 'depa...</td>\n",
              "      <td>Andrew Stanton</td>\n",
              "    </tr>\n",
              "    <tr>\n",
              "      <th>3</th>\n",
              "      <td>4</td>\n",
              "      <td>Forrest Gump</td>\n",
              "      <td>Comedy Drama Romance</td>\n",
              "      <td>en</td>\n",
              "      <td>55000000</td>\n",
              "      <td>138.133331</td>\n",
              "      <td>06-07-1994</td>\n",
              "      <td>677945399</td>\n",
              "      <td>142.0</td>\n",
              "      <td>8.2</td>\n",
              "      <td>...</td>\n",
              "      <td>NaN</td>\n",
              "      <td>vietnam veteran hippie mentally disabled runni...</td>\n",
              "      <td>A man with a low IQ has accomplished great thi...</td>\n",
              "      <td>[{\"name\": \"Paramount Pictures\", \"id\": 4}]</td>\n",
              "      <td>[{\"iso_3166_1\": \"US\", \"name\": \"United States o...</td>\n",
              "      <td>[{\"iso_639_1\": \"en\", \"name\": \"English\"}]</td>\n",
              "      <td>The world will never be the same, once you've ...</td>\n",
              "      <td>Tom Hanks Robin Wright Gary Sinise Mykelti Wil...</td>\n",
              "      <td>[{'name': 'Alan Silvestri', 'gender': 2, 'depa...</td>\n",
              "      <td>Robert Zemeckis</td>\n",
              "    </tr>\n",
              "    <tr>\n",
              "      <th>4</th>\n",
              "      <td>5</td>\n",
              "      <td>American Beauty</td>\n",
              "      <td>Drama</td>\n",
              "      <td>en</td>\n",
              "      <td>15000000</td>\n",
              "      <td>80.878605</td>\n",
              "      <td>15-09-1999</td>\n",
              "      <td>356296601</td>\n",
              "      <td>122.0</td>\n",
              "      <td>7.9</td>\n",
              "      <td>...</td>\n",
              "      <td>http://www.dreamworks.com/ab/</td>\n",
              "      <td>male nudity female nudity adultery midlife cri...</td>\n",
              "      <td>Lester Burnham, a depressed suburban father in...</td>\n",
              "      <td>[{\"name\": \"DreamWorks SKG\", \"id\": 27}, {\"name\"...</td>\n",
              "      <td>[{\"iso_3166_1\": \"US\", \"name\": \"United States o...</td>\n",
              "      <td>[{\"iso_639_1\": \"en\", \"name\": \"English\"}]</td>\n",
              "      <td>Look closer.</td>\n",
              "      <td>Kevin Spacey Annette Bening Thora Birch Wes Be...</td>\n",
              "      <td>[{'name': 'Thomas Newman', 'gender': 2, 'depar...</td>\n",
              "      <td>Sam Mendes</td>\n",
              "    </tr>\n",
              "  </tbody>\n",
              "</table>\n",
              "<p>5 rows × 21 columns</p>\n",
              "</div>\n",
              "      <button class=\"colab-df-convert\" onclick=\"convertToInteractive('df-85749ac6-fee4-4c0b-8447-18af01952e8e')\"\n",
              "              title=\"Convert this dataframe to an interactive table.\"\n",
              "              style=\"display:none;\">\n",
              "\n",
              "  <svg xmlns=\"http://www.w3.org/2000/svg\" height=\"24px\"viewBox=\"0 0 24 24\"\n",
              "       width=\"24px\">\n",
              "    <path d=\"M0 0h24v24H0V0z\" fill=\"none\"/>\n",
              "    <path d=\"M18.56 5.44l.94 2.06.94-2.06 2.06-.94-2.06-.94-.94-2.06-.94 2.06-2.06.94zm-11 1L8.5 8.5l.94-2.06 2.06-.94-2.06-.94L8.5 2.5l-.94 2.06-2.06.94zm10 10l.94 2.06.94-2.06 2.06-.94-2.06-.94-.94-2.06-.94 2.06-2.06.94z\"/><path d=\"M17.41 7.96l-1.37-1.37c-.4-.4-.92-.59-1.43-.59-.52 0-1.04.2-1.43.59L10.3 9.45l-7.72 7.72c-.78.78-.78 2.05 0 2.83L4 21.41c.39.39.9.59 1.41.59.51 0 1.02-.2 1.41-.59l7.78-7.78 2.81-2.81c.8-.78.8-2.07 0-2.86zM5.41 20L4 18.59l7.72-7.72 1.47 1.35L5.41 20z\"/>\n",
              "  </svg>\n",
              "      </button>\n",
              "\n",
              "\n",
              "\n",
              "    <div id=\"df-69e75742-80aa-449c-8d5b-021112d4c7fd\">\n",
              "      <button class=\"colab-df-quickchart\" onclick=\"quickchart('df-69e75742-80aa-449c-8d5b-021112d4c7fd')\"\n",
              "              title=\"Suggest charts.\"\n",
              "              style=\"display:none;\">\n",
              "\n",
              "<svg xmlns=\"http://www.w3.org/2000/svg\" height=\"24px\"viewBox=\"0 0 24 24\"\n",
              "     width=\"24px\">\n",
              "    <g>\n",
              "        <path d=\"M19 3H5c-1.1 0-2 .9-2 2v14c0 1.1.9 2 2 2h14c1.1 0 2-.9 2-2V5c0-1.1-.9-2-2-2zM9 17H7v-7h2v7zm4 0h-2V7h2v10zm4 0h-2v-4h2v4z\"/>\n",
              "    </g>\n",
              "</svg>\n",
              "      </button>\n",
              "    </div>\n",
              "\n",
              "<style>\n",
              "  .colab-df-quickchart {\n",
              "    background-color: #E8F0FE;\n",
              "    border: none;\n",
              "    border-radius: 50%;\n",
              "    cursor: pointer;\n",
              "    display: none;\n",
              "    fill: #1967D2;\n",
              "    height: 32px;\n",
              "    padding: 0 0 0 0;\n",
              "    width: 32px;\n",
              "  }\n",
              "\n",
              "  .colab-df-quickchart:hover {\n",
              "    background-color: #E2EBFA;\n",
              "    box-shadow: 0px 1px 2px rgba(60, 64, 67, 0.3), 0px 1px 3px 1px rgba(60, 64, 67, 0.15);\n",
              "    fill: #174EA6;\n",
              "  }\n",
              "\n",
              "  [theme=dark] .colab-df-quickchart {\n",
              "    background-color: #3B4455;\n",
              "    fill: #D2E3FC;\n",
              "  }\n",
              "\n",
              "  [theme=dark] .colab-df-quickchart:hover {\n",
              "    background-color: #434B5C;\n",
              "    box-shadow: 0px 1px 3px 1px rgba(0, 0, 0, 0.15);\n",
              "    filter: drop-shadow(0px 1px 2px rgba(0, 0, 0, 0.3));\n",
              "    fill: #FFFFFF;\n",
              "  }\n",
              "</style>\n",
              "\n",
              "    <script>\n",
              "      async function quickchart(key) {\n",
              "        const containerElement = document.querySelector('#' + key);\n",
              "        const charts = await google.colab.kernel.invokeFunction(\n",
              "            'suggestCharts', [key], {});\n",
              "      }\n",
              "    </script>\n",
              "\n",
              "      <script>\n",
              "\n",
              "function displayQuickchartButton(domScope) {\n",
              "  let quickchartButtonEl =\n",
              "    domScope.querySelector('#df-69e75742-80aa-449c-8d5b-021112d4c7fd button.colab-df-quickchart');\n",
              "  quickchartButtonEl.style.display =\n",
              "    google.colab.kernel.accessAllowed ? 'block' : 'none';\n",
              "}\n",
              "\n",
              "        displayQuickchartButton(document);\n",
              "      </script>\n",
              "      <style>\n",
              "    .colab-df-container {\n",
              "      display:flex;\n",
              "      flex-wrap:wrap;\n",
              "      gap: 12px;\n",
              "    }\n",
              "\n",
              "    .colab-df-convert {\n",
              "      background-color: #E8F0FE;\n",
              "      border: none;\n",
              "      border-radius: 50%;\n",
              "      cursor: pointer;\n",
              "      display: none;\n",
              "      fill: #1967D2;\n",
              "      height: 32px;\n",
              "      padding: 0 0 0 0;\n",
              "      width: 32px;\n",
              "    }\n",
              "\n",
              "    .colab-df-convert:hover {\n",
              "      background-color: #E2EBFA;\n",
              "      box-shadow: 0px 1px 2px rgba(60, 64, 67, 0.3), 0px 1px 3px 1px rgba(60, 64, 67, 0.15);\n",
              "      fill: #174EA6;\n",
              "    }\n",
              "\n",
              "    [theme=dark] .colab-df-convert {\n",
              "      background-color: #3B4455;\n",
              "      fill: #D2E3FC;\n",
              "    }\n",
              "\n",
              "    [theme=dark] .colab-df-convert:hover {\n",
              "      background-color: #434B5C;\n",
              "      box-shadow: 0px 1px 3px 1px rgba(0, 0, 0, 0.15);\n",
              "      filter: drop-shadow(0px 1px 2px rgba(0, 0, 0, 0.3));\n",
              "      fill: #FFFFFF;\n",
              "    }\n",
              "  </style>\n",
              "\n",
              "      <script>\n",
              "        const buttonEl =\n",
              "          document.querySelector('#df-85749ac6-fee4-4c0b-8447-18af01952e8e button.colab-df-convert');\n",
              "        buttonEl.style.display =\n",
              "          google.colab.kernel.accessAllowed ? 'block' : 'none';\n",
              "\n",
              "        async function convertToInteractive(key) {\n",
              "          const element = document.querySelector('#df-85749ac6-fee4-4c0b-8447-18af01952e8e');\n",
              "          const dataTable =\n",
              "            await google.colab.kernel.invokeFunction('convertToInteractive',\n",
              "                                                     [key], {});\n",
              "          if (!dataTable) return;\n",
              "\n",
              "          const docLinkHtml = 'Like what you see? Visit the ' +\n",
              "            '<a target=\"_blank\" href=https://colab.research.google.com/notebooks/data_table.ipynb>data table notebook</a>'\n",
              "            + ' to learn more about interactive tables.';\n",
              "          element.innerHTML = '';\n",
              "          dataTable['output_type'] = 'display_data';\n",
              "          await google.colab.output.renderOutput(dataTable, element);\n",
              "          const docLink = document.createElement('div');\n",
              "          docLink.innerHTML = docLinkHtml;\n",
              "          element.appendChild(docLink);\n",
              "        }\n",
              "      </script>\n",
              "    </div>\n",
              "  </div>\n"
            ]
          },
          "metadata": {},
          "execution_count": 27
        }
      ]
    },
    {
      "cell_type": "code",
      "source": [
        "df.tail()"
      ],
      "metadata": {
        "colab": {
          "base_uri": "https://localhost:8080/",
          "height": 647
        },
        "id": "ErIG18qwkbLn",
        "outputId": "9e6d602f-5b91-495f-85ef-735bec8aac94"
      },
      "execution_count": null,
      "outputs": [
        {
          "output_type": "execute_result",
          "data": {
            "text/plain": [
              "      Movie_ID                  Movie_Title          Movie_Genre  \\\n",
              "4755      4784             Midnight Cabaret               Horror   \n",
              "4756      4785             Growing Up Smith  Comedy Family Drama   \n",
              "4757      4786                       8 Days       Thriller Drama   \n",
              "4758      4787              Running Forever               Family   \n",
              "4759      4788  To Be Frank, Sinatra at 100          Documentary   \n",
              "\n",
              "     Movie_Language  Movie_Budget  Movie_Popularity Movie_Release_Date  \\\n",
              "4755             en             0          0.001389         01-01-1990   \n",
              "4756             en             0          0.710870         03-02-2017   \n",
              "4757             en             0          0.015295         15-06-2014   \n",
              "4758             en             0          0.028756         27-10-2015   \n",
              "4759             en             2          0.050625         12-12-2015   \n",
              "\n",
              "      Movie_Revenue  Movie_Runtime  Movie_Vote  ...  \\\n",
              "4755              0           94.0         0.0  ...   \n",
              "4756              0          102.0         7.4  ...   \n",
              "4757              0           90.0         0.0  ...   \n",
              "4758              0           88.0         0.0  ...   \n",
              "4759              0            NaN         0.0  ...   \n",
              "\n",
              "                          Movie_Homepage  \\\n",
              "4755                                 NaN   \n",
              "4756  http://www.growingupsmithmovie.com   \n",
              "4757                                 NaN   \n",
              "4758                                 NaN   \n",
              "4759                                 NaN   \n",
              "\n",
              "                                         Movie_Keywords  \\\n",
              "4755                                                NaN   \n",
              "4756                                                NaN   \n",
              "4757                     christian film sex trafficking   \n",
              "4758                                                NaN   \n",
              "4759  music actors legendary perfomer classic hollyw...   \n",
              "\n",
              "                                         Movie_Overview  \\\n",
              "4755  A Broadway producer puts on a play with a Devi...   \n",
              "4756  In 1979, an Indian family moves to America wit...   \n",
              "4757  After sneaking to a party with her friends, 16...   \n",
              "4758  After being estranged since her mother's death...   \n",
              "4759                                                NaN   \n",
              "\n",
              "                                Movie_Production_House  \\\n",
              "4755                                                []   \n",
              "4756                                                []   \n",
              "4757    [{\"name\": \"After Eden Pictures\", \"id\": 85248}]   \n",
              "4758   [{\"name\": \"New Kingdom Pictures\", \"id\": 41671}]   \n",
              "4759  [{\"name\": \"Eyeline Entertainment\", \"id\": 60343}]   \n",
              "\n",
              "                               Movie_Production_Country  \\\n",
              "4755                                                 []   \n",
              "4756                                                 []   \n",
              "4757  [{\"iso_3166_1\": \"US\", \"name\": \"United States o...   \n",
              "4758  [{\"iso_3166_1\": \"US\", \"name\": \"United States o...   \n",
              "4759   [{\"iso_3166_1\": \"GB\", \"name\": \"United Kingdom\"}]   \n",
              "\n",
              "                         Movie_Spoken_Language  \\\n",
              "4755  [{\"iso_639_1\": \"en\", \"name\": \"English\"}]   \n",
              "4756  [{\"iso_639_1\": \"en\", \"name\": \"English\"}]   \n",
              "4757  [{\"iso_639_1\": \"en\", \"name\": \"English\"}]   \n",
              "4758                                        []   \n",
              "4759                                        []   \n",
              "\n",
              "                                 Movie_Tagline  \\\n",
              "4755       The hot spot where Satan's waitin'.   \n",
              "4756  It’s better to stand out than to fit in.   \n",
              "4757  She never knew it could happen to her...   \n",
              "4758                                       NaN   \n",
              "4759                                       NaN   \n",
              "\n",
              "                                             Movie_Cast  \\\n",
              "4755  Lisa Hart Carroll Michael Des Barres Paul Drak...   \n",
              "4756  Roni Akurati Brighton Sharbino Jason Lee Anjul...   \n",
              "4757  Nicole Smolen Kim Baldwin Ariana Stephens Brys...   \n",
              "4758                                                NaN   \n",
              "4759                                    Tony Oppedisano   \n",
              "\n",
              "                                             Movie_Crew     Movie_Director  \n",
              "4755  [{'name': 'Pece Dingo', 'gender': 0, 'departme...         Pece Dingo  \n",
              "4756  [{'name': 'Frank Lotito', 'gender': 0, 'depart...       Frank Lotito  \n",
              "4757  [{'name': 'Jaco Booyens', 'gender': 0, 'depart...       Jaco Booyens  \n",
              "4758                                                 []                NaN  \n",
              "4759  [{'name': 'Simon Napier-Bell', 'gender': 0, 'd...  Simon Napier-Bell  \n",
              "\n",
              "[5 rows x 21 columns]"
            ],
            "text/html": [
              "\n",
              "\n",
              "  <div id=\"df-2d220b12-b880-42b1-ac0c-0268e9544981\">\n",
              "    <div class=\"colab-df-container\">\n",
              "      <div>\n",
              "<style scoped>\n",
              "    .dataframe tbody tr th:only-of-type {\n",
              "        vertical-align: middle;\n",
              "    }\n",
              "\n",
              "    .dataframe tbody tr th {\n",
              "        vertical-align: top;\n",
              "    }\n",
              "\n",
              "    .dataframe thead th {\n",
              "        text-align: right;\n",
              "    }\n",
              "</style>\n",
              "<table border=\"1\" class=\"dataframe\">\n",
              "  <thead>\n",
              "    <tr style=\"text-align: right;\">\n",
              "      <th></th>\n",
              "      <th>Movie_ID</th>\n",
              "      <th>Movie_Title</th>\n",
              "      <th>Movie_Genre</th>\n",
              "      <th>Movie_Language</th>\n",
              "      <th>Movie_Budget</th>\n",
              "      <th>Movie_Popularity</th>\n",
              "      <th>Movie_Release_Date</th>\n",
              "      <th>Movie_Revenue</th>\n",
              "      <th>Movie_Runtime</th>\n",
              "      <th>Movie_Vote</th>\n",
              "      <th>...</th>\n",
              "      <th>Movie_Homepage</th>\n",
              "      <th>Movie_Keywords</th>\n",
              "      <th>Movie_Overview</th>\n",
              "      <th>Movie_Production_House</th>\n",
              "      <th>Movie_Production_Country</th>\n",
              "      <th>Movie_Spoken_Language</th>\n",
              "      <th>Movie_Tagline</th>\n",
              "      <th>Movie_Cast</th>\n",
              "      <th>Movie_Crew</th>\n",
              "      <th>Movie_Director</th>\n",
              "    </tr>\n",
              "  </thead>\n",
              "  <tbody>\n",
              "    <tr>\n",
              "      <th>4755</th>\n",
              "      <td>4784</td>\n",
              "      <td>Midnight Cabaret</td>\n",
              "      <td>Horror</td>\n",
              "      <td>en</td>\n",
              "      <td>0</td>\n",
              "      <td>0.001389</td>\n",
              "      <td>01-01-1990</td>\n",
              "      <td>0</td>\n",
              "      <td>94.0</td>\n",
              "      <td>0.0</td>\n",
              "      <td>...</td>\n",
              "      <td>NaN</td>\n",
              "      <td>NaN</td>\n",
              "      <td>A Broadway producer puts on a play with a Devi...</td>\n",
              "      <td>[]</td>\n",
              "      <td>[]</td>\n",
              "      <td>[{\"iso_639_1\": \"en\", \"name\": \"English\"}]</td>\n",
              "      <td>The hot spot where Satan's waitin'.</td>\n",
              "      <td>Lisa Hart Carroll Michael Des Barres Paul Drak...</td>\n",
              "      <td>[{'name': 'Pece Dingo', 'gender': 0, 'departme...</td>\n",
              "      <td>Pece Dingo</td>\n",
              "    </tr>\n",
              "    <tr>\n",
              "      <th>4756</th>\n",
              "      <td>4785</td>\n",
              "      <td>Growing Up Smith</td>\n",
              "      <td>Comedy Family Drama</td>\n",
              "      <td>en</td>\n",
              "      <td>0</td>\n",
              "      <td>0.710870</td>\n",
              "      <td>03-02-2017</td>\n",
              "      <td>0</td>\n",
              "      <td>102.0</td>\n",
              "      <td>7.4</td>\n",
              "      <td>...</td>\n",
              "      <td>http://www.growingupsmithmovie.com</td>\n",
              "      <td>NaN</td>\n",
              "      <td>In 1979, an Indian family moves to America wit...</td>\n",
              "      <td>[]</td>\n",
              "      <td>[]</td>\n",
              "      <td>[{\"iso_639_1\": \"en\", \"name\": \"English\"}]</td>\n",
              "      <td>It’s better to stand out than to fit in.</td>\n",
              "      <td>Roni Akurati Brighton Sharbino Jason Lee Anjul...</td>\n",
              "      <td>[{'name': 'Frank Lotito', 'gender': 0, 'depart...</td>\n",
              "      <td>Frank Lotito</td>\n",
              "    </tr>\n",
              "    <tr>\n",
              "      <th>4757</th>\n",
              "      <td>4786</td>\n",
              "      <td>8 Days</td>\n",
              "      <td>Thriller Drama</td>\n",
              "      <td>en</td>\n",
              "      <td>0</td>\n",
              "      <td>0.015295</td>\n",
              "      <td>15-06-2014</td>\n",
              "      <td>0</td>\n",
              "      <td>90.0</td>\n",
              "      <td>0.0</td>\n",
              "      <td>...</td>\n",
              "      <td>NaN</td>\n",
              "      <td>christian film sex trafficking</td>\n",
              "      <td>After sneaking to a party with her friends, 16...</td>\n",
              "      <td>[{\"name\": \"After Eden Pictures\", \"id\": 85248}]</td>\n",
              "      <td>[{\"iso_3166_1\": \"US\", \"name\": \"United States o...</td>\n",
              "      <td>[{\"iso_639_1\": \"en\", \"name\": \"English\"}]</td>\n",
              "      <td>She never knew it could happen to her...</td>\n",
              "      <td>Nicole Smolen Kim Baldwin Ariana Stephens Brys...</td>\n",
              "      <td>[{'name': 'Jaco Booyens', 'gender': 0, 'depart...</td>\n",
              "      <td>Jaco Booyens</td>\n",
              "    </tr>\n",
              "    <tr>\n",
              "      <th>4758</th>\n",
              "      <td>4787</td>\n",
              "      <td>Running Forever</td>\n",
              "      <td>Family</td>\n",
              "      <td>en</td>\n",
              "      <td>0</td>\n",
              "      <td>0.028756</td>\n",
              "      <td>27-10-2015</td>\n",
              "      <td>0</td>\n",
              "      <td>88.0</td>\n",
              "      <td>0.0</td>\n",
              "      <td>...</td>\n",
              "      <td>NaN</td>\n",
              "      <td>NaN</td>\n",
              "      <td>After being estranged since her mother's death...</td>\n",
              "      <td>[{\"name\": \"New Kingdom Pictures\", \"id\": 41671}]</td>\n",
              "      <td>[{\"iso_3166_1\": \"US\", \"name\": \"United States o...</td>\n",
              "      <td>[]</td>\n",
              "      <td>NaN</td>\n",
              "      <td>NaN</td>\n",
              "      <td>[]</td>\n",
              "      <td>NaN</td>\n",
              "    </tr>\n",
              "    <tr>\n",
              "      <th>4759</th>\n",
              "      <td>4788</td>\n",
              "      <td>To Be Frank, Sinatra at 100</td>\n",
              "      <td>Documentary</td>\n",
              "      <td>en</td>\n",
              "      <td>2</td>\n",
              "      <td>0.050625</td>\n",
              "      <td>12-12-2015</td>\n",
              "      <td>0</td>\n",
              "      <td>NaN</td>\n",
              "      <td>0.0</td>\n",
              "      <td>...</td>\n",
              "      <td>NaN</td>\n",
              "      <td>music actors legendary perfomer classic hollyw...</td>\n",
              "      <td>NaN</td>\n",
              "      <td>[{\"name\": \"Eyeline Entertainment\", \"id\": 60343}]</td>\n",
              "      <td>[{\"iso_3166_1\": \"GB\", \"name\": \"United Kingdom\"}]</td>\n",
              "      <td>[]</td>\n",
              "      <td>NaN</td>\n",
              "      <td>Tony Oppedisano</td>\n",
              "      <td>[{'name': 'Simon Napier-Bell', 'gender': 0, 'd...</td>\n",
              "      <td>Simon Napier-Bell</td>\n",
              "    </tr>\n",
              "  </tbody>\n",
              "</table>\n",
              "<p>5 rows × 21 columns</p>\n",
              "</div>\n",
              "      <button class=\"colab-df-convert\" onclick=\"convertToInteractive('df-2d220b12-b880-42b1-ac0c-0268e9544981')\"\n",
              "              title=\"Convert this dataframe to an interactive table.\"\n",
              "              style=\"display:none;\">\n",
              "\n",
              "  <svg xmlns=\"http://www.w3.org/2000/svg\" height=\"24px\"viewBox=\"0 0 24 24\"\n",
              "       width=\"24px\">\n",
              "    <path d=\"M0 0h24v24H0V0z\" fill=\"none\"/>\n",
              "    <path d=\"M18.56 5.44l.94 2.06.94-2.06 2.06-.94-2.06-.94-.94-2.06-.94 2.06-2.06.94zm-11 1L8.5 8.5l.94-2.06 2.06-.94-2.06-.94L8.5 2.5l-.94 2.06-2.06.94zm10 10l.94 2.06.94-2.06 2.06-.94-2.06-.94-.94-2.06-.94 2.06-2.06.94z\"/><path d=\"M17.41 7.96l-1.37-1.37c-.4-.4-.92-.59-1.43-.59-.52 0-1.04.2-1.43.59L10.3 9.45l-7.72 7.72c-.78.78-.78 2.05 0 2.83L4 21.41c.39.39.9.59 1.41.59.51 0 1.02-.2 1.41-.59l7.78-7.78 2.81-2.81c.8-.78.8-2.07 0-2.86zM5.41 20L4 18.59l7.72-7.72 1.47 1.35L5.41 20z\"/>\n",
              "  </svg>\n",
              "      </button>\n",
              "\n",
              "\n",
              "\n",
              "    <div id=\"df-85b72b85-d06e-4640-8790-3f9469042aec\">\n",
              "      <button class=\"colab-df-quickchart\" onclick=\"quickchart('df-85b72b85-d06e-4640-8790-3f9469042aec')\"\n",
              "              title=\"Suggest charts.\"\n",
              "              style=\"display:none;\">\n",
              "\n",
              "<svg xmlns=\"http://www.w3.org/2000/svg\" height=\"24px\"viewBox=\"0 0 24 24\"\n",
              "     width=\"24px\">\n",
              "    <g>\n",
              "        <path d=\"M19 3H5c-1.1 0-2 .9-2 2v14c0 1.1.9 2 2 2h14c1.1 0 2-.9 2-2V5c0-1.1-.9-2-2-2zM9 17H7v-7h2v7zm4 0h-2V7h2v10zm4 0h-2v-4h2v4z\"/>\n",
              "    </g>\n",
              "</svg>\n",
              "      </button>\n",
              "    </div>\n",
              "\n",
              "<style>\n",
              "  .colab-df-quickchart {\n",
              "    background-color: #E8F0FE;\n",
              "    border: none;\n",
              "    border-radius: 50%;\n",
              "    cursor: pointer;\n",
              "    display: none;\n",
              "    fill: #1967D2;\n",
              "    height: 32px;\n",
              "    padding: 0 0 0 0;\n",
              "    width: 32px;\n",
              "  }\n",
              "\n",
              "  .colab-df-quickchart:hover {\n",
              "    background-color: #E2EBFA;\n",
              "    box-shadow: 0px 1px 2px rgba(60, 64, 67, 0.3), 0px 1px 3px 1px rgba(60, 64, 67, 0.15);\n",
              "    fill: #174EA6;\n",
              "  }\n",
              "\n",
              "  [theme=dark] .colab-df-quickchart {\n",
              "    background-color: #3B4455;\n",
              "    fill: #D2E3FC;\n",
              "  }\n",
              "\n",
              "  [theme=dark] .colab-df-quickchart:hover {\n",
              "    background-color: #434B5C;\n",
              "    box-shadow: 0px 1px 3px 1px rgba(0, 0, 0, 0.15);\n",
              "    filter: drop-shadow(0px 1px 2px rgba(0, 0, 0, 0.3));\n",
              "    fill: #FFFFFF;\n",
              "  }\n",
              "</style>\n",
              "\n",
              "    <script>\n",
              "      async function quickchart(key) {\n",
              "        const containerElement = document.querySelector('#' + key);\n",
              "        const charts = await google.colab.kernel.invokeFunction(\n",
              "            'suggestCharts', [key], {});\n",
              "      }\n",
              "    </script>\n",
              "\n",
              "      <script>\n",
              "\n",
              "function displayQuickchartButton(domScope) {\n",
              "  let quickchartButtonEl =\n",
              "    domScope.querySelector('#df-85b72b85-d06e-4640-8790-3f9469042aec button.colab-df-quickchart');\n",
              "  quickchartButtonEl.style.display =\n",
              "    google.colab.kernel.accessAllowed ? 'block' : 'none';\n",
              "}\n",
              "\n",
              "        displayQuickchartButton(document);\n",
              "      </script>\n",
              "      <style>\n",
              "    .colab-df-container {\n",
              "      display:flex;\n",
              "      flex-wrap:wrap;\n",
              "      gap: 12px;\n",
              "    }\n",
              "\n",
              "    .colab-df-convert {\n",
              "      background-color: #E8F0FE;\n",
              "      border: none;\n",
              "      border-radius: 50%;\n",
              "      cursor: pointer;\n",
              "      display: none;\n",
              "      fill: #1967D2;\n",
              "      height: 32px;\n",
              "      padding: 0 0 0 0;\n",
              "      width: 32px;\n",
              "    }\n",
              "\n",
              "    .colab-df-convert:hover {\n",
              "      background-color: #E2EBFA;\n",
              "      box-shadow: 0px 1px 2px rgba(60, 64, 67, 0.3), 0px 1px 3px 1px rgba(60, 64, 67, 0.15);\n",
              "      fill: #174EA6;\n",
              "    }\n",
              "\n",
              "    [theme=dark] .colab-df-convert {\n",
              "      background-color: #3B4455;\n",
              "      fill: #D2E3FC;\n",
              "    }\n",
              "\n",
              "    [theme=dark] .colab-df-convert:hover {\n",
              "      background-color: #434B5C;\n",
              "      box-shadow: 0px 1px 3px 1px rgba(0, 0, 0, 0.15);\n",
              "      filter: drop-shadow(0px 1px 2px rgba(0, 0, 0, 0.3));\n",
              "      fill: #FFFFFF;\n",
              "    }\n",
              "  </style>\n",
              "\n",
              "      <script>\n",
              "        const buttonEl =\n",
              "          document.querySelector('#df-2d220b12-b880-42b1-ac0c-0268e9544981 button.colab-df-convert');\n",
              "        buttonEl.style.display =\n",
              "          google.colab.kernel.accessAllowed ? 'block' : 'none';\n",
              "\n",
              "        async function convertToInteractive(key) {\n",
              "          const element = document.querySelector('#df-2d220b12-b880-42b1-ac0c-0268e9544981');\n",
              "          const dataTable =\n",
              "            await google.colab.kernel.invokeFunction('convertToInteractive',\n",
              "                                                     [key], {});\n",
              "          if (!dataTable) return;\n",
              "\n",
              "          const docLinkHtml = 'Like what you see? Visit the ' +\n",
              "            '<a target=\"_blank\" href=https://colab.research.google.com/notebooks/data_table.ipynb>data table notebook</a>'\n",
              "            + ' to learn more about interactive tables.';\n",
              "          element.innerHTML = '';\n",
              "          dataTable['output_type'] = 'display_data';\n",
              "          await google.colab.output.renderOutput(dataTable, element);\n",
              "          const docLink = document.createElement('div');\n",
              "          docLink.innerHTML = docLinkHtml;\n",
              "          element.appendChild(docLink);\n",
              "        }\n",
              "      </script>\n",
              "    </div>\n",
              "  </div>\n"
            ]
          },
          "metadata": {},
          "execution_count": 28
        }
      ]
    },
    {
      "cell_type": "code",
      "source": [
        "df.info()"
      ],
      "metadata": {
        "colab": {
          "base_uri": "https://localhost:8080/"
        },
        "id": "4QaEh7UWkhyn",
        "outputId": "e6eddacb-d3dc-4ca2-eca0-75e85530fbfd"
      },
      "execution_count": null,
      "outputs": [
        {
          "output_type": "stream",
          "name": "stdout",
          "text": [
            "<class 'pandas.core.frame.DataFrame'>\n",
            "RangeIndex: 4760 entries, 0 to 4759\n",
            "Data columns (total 21 columns):\n",
            " #   Column                    Non-Null Count  Dtype  \n",
            "---  ------                    --------------  -----  \n",
            " 0   Movie_ID                  4760 non-null   int64  \n",
            " 1   Movie_Title               4760 non-null   object \n",
            " 2   Movie_Genre               4760 non-null   object \n",
            " 3   Movie_Language            4760 non-null   object \n",
            " 4   Movie_Budget              4760 non-null   int64  \n",
            " 5   Movie_Popularity          4760 non-null   float64\n",
            " 6   Movie_Release_Date        4760 non-null   object \n",
            " 7   Movie_Revenue             4760 non-null   int64  \n",
            " 8   Movie_Runtime             4758 non-null   float64\n",
            " 9   Movie_Vote                4760 non-null   float64\n",
            " 10  Movie_Vote_Count          4760 non-null   int64  \n",
            " 11  Movie_Homepage            1699 non-null   object \n",
            " 12  Movie_Keywords            4373 non-null   object \n",
            " 13  Movie_Overview            4757 non-null   object \n",
            " 14  Movie_Production_House    4760 non-null   object \n",
            " 15  Movie_Production_Country  4760 non-null   object \n",
            " 16  Movie_Spoken_Language     4760 non-null   object \n",
            " 17  Movie_Tagline             3942 non-null   object \n",
            " 18  Movie_Cast                4733 non-null   object \n",
            " 19  Movie_Crew                4760 non-null   object \n",
            " 20  Movie_Director            4738 non-null   object \n",
            "dtypes: float64(3), int64(4), object(14)\n",
            "memory usage: 781.1+ KB\n"
          ]
        }
      ]
    },
    {
      "cell_type": "code",
      "source": [
        "df.shape"
      ],
      "metadata": {
        "colab": {
          "base_uri": "https://localhost:8080/"
        },
        "id": "0qTFBG6KlCa3",
        "outputId": "ce4c4e32-57bc-43cf-d2a7-3fb098800bce"
      },
      "execution_count": null,
      "outputs": [
        {
          "output_type": "execute_result",
          "data": {
            "text/plain": [
              "(4760, 21)"
            ]
          },
          "metadata": {},
          "execution_count": 30
        }
      ]
    },
    {
      "cell_type": "code",
      "source": [
        "df.columns"
      ],
      "metadata": {
        "colab": {
          "base_uri": "https://localhost:8080/"
        },
        "id": "hp4HXiHklFtd",
        "outputId": "42fd2629-29c2-4ba3-be85-51027f9feba0"
      },
      "execution_count": null,
      "outputs": [
        {
          "output_type": "execute_result",
          "data": {
            "text/plain": [
              "Index(['Movie_ID', 'Movie_Title', 'Movie_Genre', 'Movie_Language',\n",
              "       'Movie_Budget', 'Movie_Popularity', 'Movie_Release_Date',\n",
              "       'Movie_Revenue', 'Movie_Runtime', 'Movie_Vote', 'Movie_Vote_Count',\n",
              "       'Movie_Homepage', 'Movie_Keywords', 'Movie_Overview',\n",
              "       'Movie_Production_House', 'Movie_Production_Country',\n",
              "       'Movie_Spoken_Language', 'Movie_Tagline', 'Movie_Cast', 'Movie_Crew',\n",
              "       'Movie_Director'],\n",
              "      dtype='object')"
            ]
          },
          "metadata": {},
          "execution_count": 31
        }
      ]
    },
    {
      "cell_type": "code",
      "source": [],
      "metadata": {
        "id": "-NQz7rAqlJAZ"
      },
      "execution_count": null,
      "outputs": []
    },
    {
      "cell_type": "markdown",
      "source": [
        "## **Get Feature Selection**"
      ],
      "metadata": {
        "id": "vwZ9r321lXDA"
      }
    },
    {
      "cell_type": "code",
      "source": [
        "df_features = df[['Movie_Genre','Movie_Keywords','Movie_Tagline','Movie_Cast','Movie_Director']].fillna(' ')"
      ],
      "metadata": {
        "id": "_Lg2uFlclbep"
      },
      "execution_count": null,
      "outputs": []
    },
    {
      "cell_type": "code",
      "source": [
        "df_features.shape"
      ],
      "metadata": {
        "colab": {
          "base_uri": "https://localhost:8080/"
        },
        "id": "EzEbeY9VmevO",
        "outputId": "b78c929a-4f4f-47e4-a06d-3ecb39326bcc"
      },
      "execution_count": null,
      "outputs": [
        {
          "output_type": "execute_result",
          "data": {
            "text/plain": [
              "(4760, 5)"
            ]
          },
          "metadata": {},
          "execution_count": 33
        }
      ]
    },
    {
      "cell_type": "code",
      "source": [
        "df_features"
      ],
      "metadata": {
        "colab": {
          "base_uri": "https://localhost:8080/",
          "height": 624
        },
        "id": "OJBdJ7lOmGMd",
        "outputId": "471f7611-f718-44ac-ec8c-2db221830414"
      },
      "execution_count": null,
      "outputs": [
        {
          "output_type": "execute_result",
          "data": {
            "text/plain": [
              "                           Movie_Genre  \\\n",
              "0                         Crime Comedy   \n",
              "1     Adventure Action Science Fiction   \n",
              "2                     Animation Family   \n",
              "3                 Comedy Drama Romance   \n",
              "4                                Drama   \n",
              "...                                ...   \n",
              "4755                            Horror   \n",
              "4756               Comedy Family Drama   \n",
              "4757                    Thriller Drama   \n",
              "4758                            Family   \n",
              "4759                       Documentary   \n",
              "\n",
              "                                         Movie_Keywords  \\\n",
              "0             hotel new year's eve witch bet hotel room   \n",
              "1           android galaxy hermit death star lightsaber   \n",
              "2     father son relationship harbor underwater fish...   \n",
              "3     vietnam veteran hippie mentally disabled runni...   \n",
              "4     male nudity female nudity adultery midlife cri...   \n",
              "...                                                 ...   \n",
              "4755                                                      \n",
              "4756                                                      \n",
              "4757                     christian film sex trafficking   \n",
              "4758                                                      \n",
              "4759  music actors legendary perfomer classic hollyw...   \n",
              "\n",
              "                                          Movie_Tagline  \\\n",
              "0     Twelve outrageous guests. Four scandalous requ...   \n",
              "1          A long time ago in a galaxy far, far away...   \n",
              "2     There are 3.7 trillion fish in the ocean, they...   \n",
              "3     The world will never be the same, once you've ...   \n",
              "4                                          Look closer.   \n",
              "...                                                 ...   \n",
              "4755                The hot spot where Satan's waitin'.   \n",
              "4756           It’s better to stand out than to fit in.   \n",
              "4757           She never knew it could happen to her...   \n",
              "4758                                                      \n",
              "4759                                                      \n",
              "\n",
              "                                             Movie_Cast     Movie_Director  \n",
              "0     Tim Roth Antonio Banderas Jennifer Beals Madon...     Allison Anders  \n",
              "1     Mark Hamill Harrison Ford Carrie Fisher Peter ...       George Lucas  \n",
              "2     Albert Brooks Ellen DeGeneres Alexander Gould ...     Andrew Stanton  \n",
              "3     Tom Hanks Robin Wright Gary Sinise Mykelti Wil...    Robert Zemeckis  \n",
              "4     Kevin Spacey Annette Bening Thora Birch Wes Be...         Sam Mendes  \n",
              "...                                                 ...                ...  \n",
              "4755  Lisa Hart Carroll Michael Des Barres Paul Drak...         Pece Dingo  \n",
              "4756  Roni Akurati Brighton Sharbino Jason Lee Anjul...       Frank Lotito  \n",
              "4757  Nicole Smolen Kim Baldwin Ariana Stephens Brys...       Jaco Booyens  \n",
              "4758                                                                        \n",
              "4759                                    Tony Oppedisano  Simon Napier-Bell  \n",
              "\n",
              "[4760 rows x 5 columns]"
            ],
            "text/html": [
              "\n",
              "\n",
              "  <div id=\"df-86cbfc3e-15d9-46a9-a640-b025a5066de6\">\n",
              "    <div class=\"colab-df-container\">\n",
              "      <div>\n",
              "<style scoped>\n",
              "    .dataframe tbody tr th:only-of-type {\n",
              "        vertical-align: middle;\n",
              "    }\n",
              "\n",
              "    .dataframe tbody tr th {\n",
              "        vertical-align: top;\n",
              "    }\n",
              "\n",
              "    .dataframe thead th {\n",
              "        text-align: right;\n",
              "    }\n",
              "</style>\n",
              "<table border=\"1\" class=\"dataframe\">\n",
              "  <thead>\n",
              "    <tr style=\"text-align: right;\">\n",
              "      <th></th>\n",
              "      <th>Movie_Genre</th>\n",
              "      <th>Movie_Keywords</th>\n",
              "      <th>Movie_Tagline</th>\n",
              "      <th>Movie_Cast</th>\n",
              "      <th>Movie_Director</th>\n",
              "    </tr>\n",
              "  </thead>\n",
              "  <tbody>\n",
              "    <tr>\n",
              "      <th>0</th>\n",
              "      <td>Crime Comedy</td>\n",
              "      <td>hotel new year's eve witch bet hotel room</td>\n",
              "      <td>Twelve outrageous guests. Four scandalous requ...</td>\n",
              "      <td>Tim Roth Antonio Banderas Jennifer Beals Madon...</td>\n",
              "      <td>Allison Anders</td>\n",
              "    </tr>\n",
              "    <tr>\n",
              "      <th>1</th>\n",
              "      <td>Adventure Action Science Fiction</td>\n",
              "      <td>android galaxy hermit death star lightsaber</td>\n",
              "      <td>A long time ago in a galaxy far, far away...</td>\n",
              "      <td>Mark Hamill Harrison Ford Carrie Fisher Peter ...</td>\n",
              "      <td>George Lucas</td>\n",
              "    </tr>\n",
              "    <tr>\n",
              "      <th>2</th>\n",
              "      <td>Animation Family</td>\n",
              "      <td>father son relationship harbor underwater fish...</td>\n",
              "      <td>There are 3.7 trillion fish in the ocean, they...</td>\n",
              "      <td>Albert Brooks Ellen DeGeneres Alexander Gould ...</td>\n",
              "      <td>Andrew Stanton</td>\n",
              "    </tr>\n",
              "    <tr>\n",
              "      <th>3</th>\n",
              "      <td>Comedy Drama Romance</td>\n",
              "      <td>vietnam veteran hippie mentally disabled runni...</td>\n",
              "      <td>The world will never be the same, once you've ...</td>\n",
              "      <td>Tom Hanks Robin Wright Gary Sinise Mykelti Wil...</td>\n",
              "      <td>Robert Zemeckis</td>\n",
              "    </tr>\n",
              "    <tr>\n",
              "      <th>4</th>\n",
              "      <td>Drama</td>\n",
              "      <td>male nudity female nudity adultery midlife cri...</td>\n",
              "      <td>Look closer.</td>\n",
              "      <td>Kevin Spacey Annette Bening Thora Birch Wes Be...</td>\n",
              "      <td>Sam Mendes</td>\n",
              "    </tr>\n",
              "    <tr>\n",
              "      <th>...</th>\n",
              "      <td>...</td>\n",
              "      <td>...</td>\n",
              "      <td>...</td>\n",
              "      <td>...</td>\n",
              "      <td>...</td>\n",
              "    </tr>\n",
              "    <tr>\n",
              "      <th>4755</th>\n",
              "      <td>Horror</td>\n",
              "      <td></td>\n",
              "      <td>The hot spot where Satan's waitin'.</td>\n",
              "      <td>Lisa Hart Carroll Michael Des Barres Paul Drak...</td>\n",
              "      <td>Pece Dingo</td>\n",
              "    </tr>\n",
              "    <tr>\n",
              "      <th>4756</th>\n",
              "      <td>Comedy Family Drama</td>\n",
              "      <td></td>\n",
              "      <td>It’s better to stand out than to fit in.</td>\n",
              "      <td>Roni Akurati Brighton Sharbino Jason Lee Anjul...</td>\n",
              "      <td>Frank Lotito</td>\n",
              "    </tr>\n",
              "    <tr>\n",
              "      <th>4757</th>\n",
              "      <td>Thriller Drama</td>\n",
              "      <td>christian film sex trafficking</td>\n",
              "      <td>She never knew it could happen to her...</td>\n",
              "      <td>Nicole Smolen Kim Baldwin Ariana Stephens Brys...</td>\n",
              "      <td>Jaco Booyens</td>\n",
              "    </tr>\n",
              "    <tr>\n",
              "      <th>4758</th>\n",
              "      <td>Family</td>\n",
              "      <td></td>\n",
              "      <td></td>\n",
              "      <td></td>\n",
              "      <td></td>\n",
              "    </tr>\n",
              "    <tr>\n",
              "      <th>4759</th>\n",
              "      <td>Documentary</td>\n",
              "      <td>music actors legendary perfomer classic hollyw...</td>\n",
              "      <td></td>\n",
              "      <td>Tony Oppedisano</td>\n",
              "      <td>Simon Napier-Bell</td>\n",
              "    </tr>\n",
              "  </tbody>\n",
              "</table>\n",
              "<p>4760 rows × 5 columns</p>\n",
              "</div>\n",
              "      <button class=\"colab-df-convert\" onclick=\"convertToInteractive('df-86cbfc3e-15d9-46a9-a640-b025a5066de6')\"\n",
              "              title=\"Convert this dataframe to an interactive table.\"\n",
              "              style=\"display:none;\">\n",
              "\n",
              "  <svg xmlns=\"http://www.w3.org/2000/svg\" height=\"24px\"viewBox=\"0 0 24 24\"\n",
              "       width=\"24px\">\n",
              "    <path d=\"M0 0h24v24H0V0z\" fill=\"none\"/>\n",
              "    <path d=\"M18.56 5.44l.94 2.06.94-2.06 2.06-.94-2.06-.94-.94-2.06-.94 2.06-2.06.94zm-11 1L8.5 8.5l.94-2.06 2.06-.94-2.06-.94L8.5 2.5l-.94 2.06-2.06.94zm10 10l.94 2.06.94-2.06 2.06-.94-2.06-.94-.94-2.06-.94 2.06-2.06.94z\"/><path d=\"M17.41 7.96l-1.37-1.37c-.4-.4-.92-.59-1.43-.59-.52 0-1.04.2-1.43.59L10.3 9.45l-7.72 7.72c-.78.78-.78 2.05 0 2.83L4 21.41c.39.39.9.59 1.41.59.51 0 1.02-.2 1.41-.59l7.78-7.78 2.81-2.81c.8-.78.8-2.07 0-2.86zM5.41 20L4 18.59l7.72-7.72 1.47 1.35L5.41 20z\"/>\n",
              "  </svg>\n",
              "      </button>\n",
              "\n",
              "\n",
              "\n",
              "    <div id=\"df-9a7951d0-e70a-42bf-aaf1-1c6c3ba47a45\">\n",
              "      <button class=\"colab-df-quickchart\" onclick=\"quickchart('df-9a7951d0-e70a-42bf-aaf1-1c6c3ba47a45')\"\n",
              "              title=\"Suggest charts.\"\n",
              "              style=\"display:none;\">\n",
              "\n",
              "<svg xmlns=\"http://www.w3.org/2000/svg\" height=\"24px\"viewBox=\"0 0 24 24\"\n",
              "     width=\"24px\">\n",
              "    <g>\n",
              "        <path d=\"M19 3H5c-1.1 0-2 .9-2 2v14c0 1.1.9 2 2 2h14c1.1 0 2-.9 2-2V5c0-1.1-.9-2-2-2zM9 17H7v-7h2v7zm4 0h-2V7h2v10zm4 0h-2v-4h2v4z\"/>\n",
              "    </g>\n",
              "</svg>\n",
              "      </button>\n",
              "    </div>\n",
              "\n",
              "<style>\n",
              "  .colab-df-quickchart {\n",
              "    background-color: #E8F0FE;\n",
              "    border: none;\n",
              "    border-radius: 50%;\n",
              "    cursor: pointer;\n",
              "    display: none;\n",
              "    fill: #1967D2;\n",
              "    height: 32px;\n",
              "    padding: 0 0 0 0;\n",
              "    width: 32px;\n",
              "  }\n",
              "\n",
              "  .colab-df-quickchart:hover {\n",
              "    background-color: #E2EBFA;\n",
              "    box-shadow: 0px 1px 2px rgba(60, 64, 67, 0.3), 0px 1px 3px 1px rgba(60, 64, 67, 0.15);\n",
              "    fill: #174EA6;\n",
              "  }\n",
              "\n",
              "  [theme=dark] .colab-df-quickchart {\n",
              "    background-color: #3B4455;\n",
              "    fill: #D2E3FC;\n",
              "  }\n",
              "\n",
              "  [theme=dark] .colab-df-quickchart:hover {\n",
              "    background-color: #434B5C;\n",
              "    box-shadow: 0px 1px 3px 1px rgba(0, 0, 0, 0.15);\n",
              "    filter: drop-shadow(0px 1px 2px rgba(0, 0, 0, 0.3));\n",
              "    fill: #FFFFFF;\n",
              "  }\n",
              "</style>\n",
              "\n",
              "    <script>\n",
              "      async function quickchart(key) {\n",
              "        const containerElement = document.querySelector('#' + key);\n",
              "        const charts = await google.colab.kernel.invokeFunction(\n",
              "            'suggestCharts', [key], {});\n",
              "      }\n",
              "    </script>\n",
              "\n",
              "      <script>\n",
              "\n",
              "function displayQuickchartButton(domScope) {\n",
              "  let quickchartButtonEl =\n",
              "    domScope.querySelector('#df-9a7951d0-e70a-42bf-aaf1-1c6c3ba47a45 button.colab-df-quickchart');\n",
              "  quickchartButtonEl.style.display =\n",
              "    google.colab.kernel.accessAllowed ? 'block' : 'none';\n",
              "}\n",
              "\n",
              "        displayQuickchartButton(document);\n",
              "      </script>\n",
              "      <style>\n",
              "    .colab-df-container {\n",
              "      display:flex;\n",
              "      flex-wrap:wrap;\n",
              "      gap: 12px;\n",
              "    }\n",
              "\n",
              "    .colab-df-convert {\n",
              "      background-color: #E8F0FE;\n",
              "      border: none;\n",
              "      border-radius: 50%;\n",
              "      cursor: pointer;\n",
              "      display: none;\n",
              "      fill: #1967D2;\n",
              "      height: 32px;\n",
              "      padding: 0 0 0 0;\n",
              "      width: 32px;\n",
              "    }\n",
              "\n",
              "    .colab-df-convert:hover {\n",
              "      background-color: #E2EBFA;\n",
              "      box-shadow: 0px 1px 2px rgba(60, 64, 67, 0.3), 0px 1px 3px 1px rgba(60, 64, 67, 0.15);\n",
              "      fill: #174EA6;\n",
              "    }\n",
              "\n",
              "    [theme=dark] .colab-df-convert {\n",
              "      background-color: #3B4455;\n",
              "      fill: #D2E3FC;\n",
              "    }\n",
              "\n",
              "    [theme=dark] .colab-df-convert:hover {\n",
              "      background-color: #434B5C;\n",
              "      box-shadow: 0px 1px 3px 1px rgba(0, 0, 0, 0.15);\n",
              "      filter: drop-shadow(0px 1px 2px rgba(0, 0, 0, 0.3));\n",
              "      fill: #FFFFFF;\n",
              "    }\n",
              "  </style>\n",
              "\n",
              "      <script>\n",
              "        const buttonEl =\n",
              "          document.querySelector('#df-86cbfc3e-15d9-46a9-a640-b025a5066de6 button.colab-df-convert');\n",
              "        buttonEl.style.display =\n",
              "          google.colab.kernel.accessAllowed ? 'block' : 'none';\n",
              "\n",
              "        async function convertToInteractive(key) {\n",
              "          const element = document.querySelector('#df-86cbfc3e-15d9-46a9-a640-b025a5066de6');\n",
              "          const dataTable =\n",
              "            await google.colab.kernel.invokeFunction('convertToInteractive',\n",
              "                                                     [key], {});\n",
              "          if (!dataTable) return;\n",
              "\n",
              "          const docLinkHtml = 'Like what you see? Visit the ' +\n",
              "            '<a target=\"_blank\" href=https://colab.research.google.com/notebooks/data_table.ipynb>data table notebook</a>'\n",
              "            + ' to learn more about interactive tables.';\n",
              "          element.innerHTML = '';\n",
              "          dataTable['output_type'] = 'display_data';\n",
              "          await google.colab.output.renderOutput(dataTable, element);\n",
              "          const docLink = document.createElement('div');\n",
              "          docLink.innerHTML = docLinkHtml;\n",
              "          element.appendChild(docLink);\n",
              "        }\n",
              "      </script>\n",
              "    </div>\n",
              "  </div>\n"
            ]
          },
          "metadata": {},
          "execution_count": 34
        }
      ]
    },
    {
      "cell_type": "code",
      "source": [
        "x = df_features['Movie_Genre']+ ' '+ df_features['Movie_Keywords']+' '+ df_features['Movie_Tagline']+' '+ df_features['Movie_Cast']+' '+ df_features['Movie_Director']"
      ],
      "metadata": {
        "id": "7QPNoaBWmmR1"
      },
      "execution_count": null,
      "outputs": []
    },
    {
      "cell_type": "code",
      "source": [
        "x"
      ],
      "metadata": {
        "colab": {
          "base_uri": "https://localhost:8080/"
        },
        "id": "erM3gdNFncyi",
        "outputId": "ea59046f-11cd-48ee-95b3-07159eeb41d0"
      },
      "execution_count": null,
      "outputs": [
        {
          "output_type": "execute_result",
          "data": {
            "text/plain": [
              "0       Crime Comedy hotel new year's eve witch bet ho...\n",
              "1       Adventure Action Science Fiction android galax...\n",
              "2       Animation Family father son relationship harbo...\n",
              "3       Comedy Drama Romance vietnam veteran hippie me...\n",
              "4       Drama male nudity female nudity adultery midli...\n",
              "                              ...                        \n",
              "4755    Horror   The hot spot where Satan's waitin'. L...\n",
              "4756    Comedy Family Drama   It’s better to stand out...\n",
              "4757    Thriller Drama christian film sex trafficking ...\n",
              "4758                                       Family        \n",
              "4759    Documentary music actors legendary perfomer cl...\n",
              "Length: 4760, dtype: object"
            ]
          },
          "metadata": {},
          "execution_count": 36
        }
      ]
    },
    {
      "cell_type": "code",
      "source": [
        "x.shape"
      ],
      "metadata": {
        "colab": {
          "base_uri": "https://localhost:8080/"
        },
        "id": "HmnZUUnvoSDw",
        "outputId": "e4749f4e-96b1-40ad-cccf-5836255d4adc"
      },
      "execution_count": null,
      "outputs": [
        {
          "output_type": "execute_result",
          "data": {
            "text/plain": [
              "(4760,)"
            ]
          },
          "metadata": {},
          "execution_count": 37
        }
      ]
    },
    {
      "cell_type": "code",
      "source": [],
      "metadata": {
        "id": "-O2qeifeoVDL"
      },
      "execution_count": null,
      "outputs": []
    },
    {
      "cell_type": "markdown",
      "source": [
        "## **Get Feature Text Conversion to Tokens**"
      ],
      "metadata": {
        "id": "Hw8UuOmBoW9D"
      }
    },
    {
      "cell_type": "code",
      "source": [
        "from sklearn.feature_extraction.text import TfidfVectorizer"
      ],
      "metadata": {
        "id": "xnCL__Igojps"
      },
      "execution_count": null,
      "outputs": []
    },
    {
      "cell_type": "code",
      "source": [
        "tfidf = TfidfVectorizer()"
      ],
      "metadata": {
        "id": "fUXDMuyio2bW"
      },
      "execution_count": null,
      "outputs": []
    },
    {
      "cell_type": "code",
      "source": [
        "x = tfidf.fit_transform(x)"
      ],
      "metadata": {
        "id": "eMdfipayrtLE"
      },
      "execution_count": null,
      "outputs": []
    },
    {
      "cell_type": "code",
      "source": [
        "x.shape"
      ],
      "metadata": {
        "colab": {
          "base_uri": "https://localhost:8080/"
        },
        "id": "eSbLRwHSr4aw",
        "outputId": "b3615059-4fe2-435c-da28-034bc7ce8519"
      },
      "execution_count": null,
      "outputs": [
        {
          "output_type": "execute_result",
          "data": {
            "text/plain": [
              "(4760, 17258)"
            ]
          },
          "metadata": {},
          "execution_count": 43
        }
      ]
    },
    {
      "cell_type": "code",
      "source": [
        "print(x)"
      ],
      "metadata": {
        "colab": {
          "base_uri": "https://localhost:8080/"
        },
        "id": "1OEkcn8Ur6vj",
        "outputId": "df0c7e48-27b9-436f-a90d-e36bcf08a888"
      },
      "execution_count": null,
      "outputs": [
        {
          "output_type": "stream",
          "name": "stdout",
          "text": [
            "  (0, 617)\t0.1633382144407513\n",
            "  (0, 492)\t0.1432591540388685\n",
            "  (0, 15413)\t0.1465525095337543\n",
            "  (0, 9675)\t0.14226057295252661\n",
            "  (0, 9465)\t0.1659841367820977\n",
            "  (0, 1390)\t0.16898383612799558\n",
            "  (0, 7825)\t0.09799561597509843\n",
            "  (0, 1214)\t0.13865857545144072\n",
            "  (0, 729)\t0.13415063359531618\n",
            "  (0, 13093)\t0.1432591540388685\n",
            "  (0, 15355)\t0.10477815972666779\n",
            "  (0, 9048)\t0.0866842116160778\n",
            "  (0, 11161)\t0.06250380151644369\n",
            "  (0, 16773)\t0.17654247479915475\n",
            "  (0, 5612)\t0.08603537588547631\n",
            "  (0, 16735)\t0.10690083751525419\n",
            "  (0, 7904)\t0.13348000542112332\n",
            "  (0, 15219)\t0.09800472886453934\n",
            "  (0, 11242)\t0.07277788238484746\n",
            "  (0, 3878)\t0.11998399582562203\n",
            "  (0, 5499)\t0.11454057510303811\n",
            "  (0, 7071)\t0.19822417598406614\n",
            "  (0, 7454)\t0.14745635785412262\n",
            "  (0, 1495)\t0.19712637387361423\n",
            "  (0, 9206)\t0.15186283580984414\n",
            "  :\t:\n",
            "  (4757, 5455)\t0.12491480594769522\n",
            "  (4757, 2967)\t0.16273475835631626\n",
            "  (4757, 8464)\t0.23522565554066333\n",
            "  (4757, 6938)\t0.17088173678136628\n",
            "  (4757, 8379)\t0.17480603856721913\n",
            "  (4757, 15303)\t0.07654356007668191\n",
            "  (4757, 15384)\t0.09754322497537371\n",
            "  (4757, 7649)\t0.11479421494340192\n",
            "  (4757, 10896)\t0.14546473055066447\n",
            "  (4757, 4494)\t0.05675298448720501\n",
            "  (4758, 5238)\t1.0\n",
            "  (4759, 11264)\t0.33947721804318337\n",
            "  (4759, 11708)\t0.33947721804318337\n",
            "  (4759, 205)\t0.3237911628497312\n",
            "  (4759, 8902)\t0.3040290704566037\n",
            "  (4759, 14062)\t0.3237911628497312\n",
            "  (4759, 3058)\t0.2812896191863103\n",
            "  (4759, 7130)\t0.26419662449963793\n",
            "  (4759, 10761)\t0.3126617295732147\n",
            "  (4759, 4358)\t0.18306542312175342\n",
            "  (4759, 14051)\t0.20084315377640435\n",
            "  (4759, 5690)\t0.19534291014627303\n",
            "  (4759, 15431)\t0.19628653185946862\n",
            "  (4759, 1490)\t0.21197258705292082\n",
            "  (4759, 10666)\t0.15888268987343043\n"
          ]
        }
      ]
    },
    {
      "cell_type": "code",
      "source": [],
      "metadata": {
        "id": "DCeCcdMXr8ok"
      },
      "execution_count": null,
      "outputs": []
    },
    {
      "cell_type": "markdown",
      "source": [
        "## **Get Similarity Score using Cosine Similarity**"
      ],
      "metadata": {
        "id": "IPVMC6QjsGyC"
      }
    },
    {
      "cell_type": "code",
      "source": [],
      "metadata": {
        "id": "4AWSiEf8sXNK"
      },
      "execution_count": null,
      "outputs": []
    },
    {
      "cell_type": "markdown",
      "source": [
        "cosine_similarity computes the L2-normalized dot product of vectore.Euclidean(L2)normalization projects the vectore onto the unit sphere,and their dot product is then the cosine of the angle between the points denoted by the vectors"
      ],
      "metadata": {
        "id": "eNL2Yu2Lsdb2"
      }
    },
    {
      "cell_type": "code",
      "source": [
        "from sklearn.metrics.pairwise import cosine_similarity"
      ],
      "metadata": {
        "id": "4qWa14MCtGpL"
      },
      "execution_count": null,
      "outputs": []
    },
    {
      "cell_type": "code",
      "source": [
        "similarity_Score = cosine_similarity(x)"
      ],
      "metadata": {
        "id": "lXNYIRqRtVMe"
      },
      "execution_count": null,
      "outputs": []
    },
    {
      "cell_type": "code",
      "source": [
        "similarity_Score"
      ],
      "metadata": {
        "colab": {
          "base_uri": "https://localhost:8080/"
        },
        "id": "mweIoA6htcSy",
        "outputId": "e3c04fe7-9a3e-4974-f596-c3cc700510cc"
      },
      "execution_count": null,
      "outputs": [
        {
          "output_type": "execute_result",
          "data": {
            "text/plain": [
              "array([[1.        , 0.01351235, 0.03570468, ..., 0.        , 0.        ,\n",
              "        0.        ],\n",
              "       [0.01351235, 1.        , 0.00806674, ..., 0.        , 0.        ,\n",
              "        0.        ],\n",
              "       [0.03570468, 0.00806674, 1.        , ..., 0.        , 0.08014876,\n",
              "        0.        ],\n",
              "       ...,\n",
              "       [0.        , 0.        , 0.        , ..., 1.        , 0.        ,\n",
              "        0.        ],\n",
              "       [0.        , 0.        , 0.08014876, ..., 0.        , 1.        ,\n",
              "        0.        ],\n",
              "       [0.        , 0.        , 0.        , ..., 0.        , 0.        ,\n",
              "        1.        ]])"
            ]
          },
          "metadata": {},
          "execution_count": 47
        }
      ]
    },
    {
      "cell_type": "code",
      "source": [
        "similarity_Score.shape"
      ],
      "metadata": {
        "colab": {
          "base_uri": "https://localhost:8080/"
        },
        "id": "kdmF4qnctec6",
        "outputId": "c6e23a3c-ed1c-42a5-c24a-f394263590e4"
      },
      "execution_count": null,
      "outputs": [
        {
          "output_type": "execute_result",
          "data": {
            "text/plain": [
              "(4760, 4760)"
            ]
          },
          "metadata": {},
          "execution_count": 48
        }
      ]
    },
    {
      "cell_type": "code",
      "source": [],
      "metadata": {
        "id": "jmSRx9FCtiHy"
      },
      "execution_count": null,
      "outputs": []
    },
    {
      "cell_type": "markdown",
      "source": [
        "## **Get Movies Name as Input from User and Validate for Closest Spelling**"
      ],
      "metadata": {
        "id": "TICGB378tnUx"
      }
    },
    {
      "cell_type": "code",
      "source": [
        "Favourite_Movie_Name = input (' Enter your favourite movie name: ')"
      ],
      "metadata": {
        "colab": {
          "base_uri": "https://localhost:8080/"
        },
        "id": "_s24qcTWt1Bt",
        "outputId": "352e3919-d670-4f5b-c2a0-3381e2f2c6f0"
      },
      "execution_count": null,
      "outputs": [
        {
          "name": "stdout",
          "output_type": "stream",
          "text": [
            " Enter your favourite movie name: Dolittle\n"
          ]
        }
      ]
    },
    {
      "cell_type": "code",
      "source": [
        "All_Movies_Title_List = df['Movie_Title'].tolist()"
      ],
      "metadata": {
        "id": "rJ9UbAOFuBeQ"
      },
      "execution_count": null,
      "outputs": []
    },
    {
      "cell_type": "code",
      "source": [
        "import difflib"
      ],
      "metadata": {
        "id": "53-0ijOQuWlE"
      },
      "execution_count": null,
      "outputs": []
    },
    {
      "cell_type": "code",
      "source": [
        "Movie_Recommendation = difflib.get_close_matches(Favourite_Movie_Name,All_Movies_Title_List)\n",
        "print(Movie_Recommendation)\n"
      ],
      "metadata": {
        "colab": {
          "base_uri": "https://localhost:8080/"
        },
        "id": "DJ9KlTyXuaGm",
        "outputId": "0671e731-378b-4c19-886a-ba2f164b82ef"
      },
      "execution_count": null,
      "outputs": [
        {
          "output_type": "stream",
          "name": "stdout",
          "text": [
            "['Dr. Dolittle 2', 'Doctor Dolittle', 'Glitter']\n"
          ]
        }
      ]
    },
    {
      "cell_type": "code",
      "source": [
        "Close_Match = Movie_Recommendation[0]\n",
        "print(Close_Match)"
      ],
      "metadata": {
        "colab": {
          "base_uri": "https://localhost:8080/"
        },
        "id": "-Mng6MsLuy4V",
        "outputId": "64833876-bdf1-4aac-d532-f24cac6799de"
      },
      "execution_count": null,
      "outputs": [
        {
          "output_type": "stream",
          "name": "stdout",
          "text": [
            "Dr. Dolittle 2\n"
          ]
        }
      ]
    },
    {
      "cell_type": "code",
      "source": [
        "Index_of_Close_Match_Movie = df[df.Movie_Title == Close_Match]['Movie_ID'].values[0]"
      ],
      "metadata": {
        "id": "45cHgA6iu_W0"
      },
      "execution_count": null,
      "outputs": []
    },
    {
      "cell_type": "code",
      "source": [
        "#getting a list of similar movies\n",
        "Recommendation_Score = list(enumerate(similarity_Score[Index_of_Close_Match_Movie]))\n",
        "print(Recommendation_Score)"
      ],
      "metadata": {
        "colab": {
          "base_uri": "https://localhost:8080/"
        },
        "id": "H0VFiAFuvatN",
        "outputId": "9f9d8856-37de-4443-d9f6-7fbffaed372f"
      },
      "execution_count": null,
      "outputs": [
        {
          "output_type": "stream",
          "name": "stdout",
          "text": [
            "[(0, 0.0), (1, 0.009663407754477988), (2, 0.0), (3, 0.017900977494322446), (4, 0.09477865906608304), (5, 0.0031915580532745087), (6, 0.022636168162162525), (7, 0.01005777624487958), (8, 0.0034558008965410573), (9, 0.0), (10, 0.0), (11, 0.0032951814038352694), (12, 0.014311723276366622), (13, 0.0), (14, 0.0), (15, 0.022340513779951318), (16, 0.0026522325067101097), (17, 0.010856214003420357), (18, 0.0195255000588216), (19, 0.01350849502222874), (20, 0.014018003819663253), (21, 0.003402881518753913), (22, 0.010742295308288321), (23, 0.05134705557806052), (24, 0.028777850801381212), (25, 0.038631363327295394), (26, 0.0031135077572727325), (27, 0.02908510570767487), (28, 0.010984509502482406), (29, 0.003030262647890705), (30, 0.02325686972744746), (31, 0.013167518248804029), (32, 0.002790502413108493), (33, 0.0028121560925633993), (34, 0.0033111841989492802), (35, 0.0), (36, 0.0), (37, 0.009329576374376604), (38, 0.045386485172117685), (39, 0.010863297947486153), (40, 0.033086104561273255), (41, 0.003540777337275006), (42, 0.0), (43, 0.002920763035128601), (44, 0.01695044459219553), (45, 0.010267918053841082), (46, 0.010055581480035273), (47, 0.0), (48, 0.01476697496171081), (49, 0.0), (50, 0.06395064256003424), (51, 0.04108884640134581), (52, 0.0030425387345674564), (53, 0.00968426816394963), (54, 0.0), (55, 0.01067869986107446), (56, 0.010405292463257604), (57, 0.0), (58, 0.0), (59, 0.0), (60, 0.02246491618071629), (61, 0.00314161928685719), (62, 0.01479652530971374), (63, 0.0025325194830006503), (64, 0.017620821989839695), (65, 0.020863291863964732), (66, 0.0031758830396955433), (67, 0.009810487130409384), (68, 0.003374769948099376), (69, 0.011879171679722975), (70, 0.0), (71, 0.003259945060401497), (72, 0.009911563842831544), (73, 0.00936649186932285), (74, 0.014890553639863274), (75, 0.009086927174525247), (76, 0.027659290515848867), (77, 0.008153889980741796), (78, 0.009094198696702015), (79, 0.013957323776338609), (80, 0.009913022103181093), (81, 0.0), (82, 0.002414739703267061), (83, 0.031155237837169027), (84, 0.0374213623932241), (85, 0.012892863777858938), (86, 0.0), (87, 0.00307182300918861), (88, 0.0), (89, 0.01152311891229928), (90, 0.010579475586505816), (91, 0.009577928375434074), (92, 0.002800363103790705), (93, 0.020150724122346496), (94, 0.009935244682809442), (95, 0.011128958657340596), (96, 0.002945102970242692), (97, 0.0027925010891888813), (98, 0.003115878386358693), (99, 0.021955969592765606), (100, 0.0), (101, 0.0), (102, 0.02298514435567985), (103, 0.0027561466585737143), (104, 0.003202178870261163), (105, 0.025068205115119317), (106, 0.0024495249877997368), (107, 0.041376027504925084), (108, 0.0022639631064916557), (109, 0.0031724490024009834), (110, 0.0), (111, 0.018915773505457402), (112, 0.003063507177971737), (113, 0.02159569556963789), (114, 0.03254221787030365), (115, 0.0032537559468489197), (116, 0.027918364962356928), (117, 0.0), (118, 0.06465959727441026), (119, 0.0031219188490405835), (120, 0.0032817760974143293), (121, 0.035893446782144844), (122, 0.0), (123, 0.003481450925294518), (124, 0.0029056075346893346), (125, 0.0), (126, 0.0030023238384010937), (127, 0.029777967707373336), (128, 0.012002154006197122), (129, 0.002222052515368691), (130, 0.0), (131, 0.0), (132, 0.002821147327603963), (133, 0.0), (134, 0.0), (135, 0.010809586195300975), (136, 0.002938522518084075), (137, 0.0), (138, 0.03418889648344316), (139, 0.03309273112980573), (140, 0.0029807558705794504), (141, 0.01887086718291993), (142, 0.0026327311367245945), (143, 0.023177290331275475), (144, 0.0), (145, 0.0), (146, 0.02383238404277255), (147, 0.002753023421546434), (148, 0.0), (149, 0.0026277262444776945), (150, 0.010590591560231061), (151, 0.07806948098019778), (152, 0.01050645731606281), (153, 0.0), (154, 0.07989804814190489), (155, 0.0), (156, 0.02374547677494131), (157, 0.027209074135715466), (158, 0.018265402993815436), (159, 0.002490463245993388), (160, 0.02566416346463399), (161, 0.0028602306183056715), (162, 0.0), (163, 0.0), (164, 0.019375881669629953), (165, 0.0027507941010843813), (166, 0.0028102791102501074), (167, 0.022820116251803305), (168, 0.008032102470789159), (169, 0.038759636330137626), (170, 0.032861070997559215), (171, 0.010269669379486139), (172, 0.003192180080538574), (173, 0.003334994559226497), (174, 0.028872266713384134), (175, 0.0026869708031081636), (176, 0.003269729406584568), (177, 0.0), (178, 0.0033474362681858976), (179, 0.0), (180, 0.03285384413812895), (181, 0.0), (182, 0.029463431498782788), (183, 0.0029183431172418737), (184, 0.0028020962774570903), (185, 0.0), (186, 0.0), (187, 0.009489765387367264), (188, 0.0), (189, 0.0112034076078512), (190, 0.0027154731157544403), (191, 0.018771307286204117), (192, 0.003441651154895012), (193, 0.014169790047895892), (194, 0.0025530680641259627), (195, 0.002674649515275531), (196, 0.0245517582749614), (197, 0.027599591641128716), (198, 0.0032286073391509986), (199, 0.002901478525294423), (200, 0.002811714667884502), (201, 0.0), (202, 0.025625819480632018), (203, 0.0030108792122249895), (204, 0.0033244139076864065), (205, 0.026882219477220984), (206, 0.021600350181643135), (207, 0.0), (208, 0.003378307246576131), (209, 0.028827987425633153), (210, 0.003429493950747611), (211, 0.08705416524622825), (212, 0.030425577877402313), (213, 0.0029616417938765596), (214, 0.026447153045241145), (215, 0.003126168148175737), (216, 0.0032989882199746232), (217, 0.0), (218, 0.0029051011666077105), (219, 0.010398281227503938), (220, 0.011437982694504072), (221, 0.0030254815031560025), (222, 0.0028007493915736094), (223, 0.009841240943130622), (224, 0.0024346137039470256), (225, 0.01175360107850143), (226, 0.013400143233245607), (227, 0.003400746378095375), (228, 0.026883196433549455), (229, 0.0029666413898569253), (230, 0.0), (231, 0.0), (232, 0.0), (233, 0.0), (234, 0.018107005546987104), (235, 0.022983452343750668), (236, 0.0029889872467693005), (237, 0.0), (238, 0.03983179236590438), (239, 0.0), (240, 0.0), (241, 0.0), (242, 0.011603486250553081), (243, 0.0022402884602845206), (244, 0.0), (245, 0.0), (246, 0.036080248740840766), (247, 0.003146291690532414), (248, 0.024097542430745127), (249, 0.17978333008384884), (250, 0.05362795114546502), (251, 0.011486863255770183), (252, 0.01240184250054677), (253, 0.033436554733274955), (254, 0.003507315986537217), (255, 0.003332176293088165), (256, 0.021343643128763447), (257, 0.036214550541934294), (258, 0.010892709595537677), (259, 0.010756943640724773), (260, 0.010261621310009088), (261, 0.010438157722479207), (262, 0.0033428829248831884), (263, 0.010238195289771832), (264, 0.010833781519880107), (265, 0.0), (266, 0.01031191676823476), (267, 0.0026966381424920255), (268, 0.0028381116670420973), (269, 0.01747253168073766), (270, 0.00332795331858932), (271, 0.002438688308329684), (272, 0.01021683530803147), (273, 0.0), (274, 0.02902233084078171), (275, 0.018168326206976972), (276, 0.024761800238909355), (277, 0.0), (278, 0.04702975538708429), (279, 0.0029789414938589955), (280, 0.020309410570580486), (281, 0.0035922559619528055), (282, 0.013203048775270955), (283, 0.05922387798692146), (284, 0.010317755435442192), (285, 0.002881946171677593), (286, 0.03351253104706136), (287, 0.0029858141966811872), (288, 0.0), (289, 0.0), (290, 0.0), (291, 0.009315512401492828), (292, 0.0030873129833701904), (293, 0.0022625518158229897), (294, 0.008137301805275134), (295, 0.03457809161209524), (296, 0.002384908613871669), (297, 0.0181761812102661), (298, 0.01067579439073793), (299, 0.0), (300, 0.0), (301, 0.0), (302, 0.0), (303, 0.011739996238138104), (304, 0.0), (305, 0.0), (306, 0.03373868118458922), (307, 0.029248125810898955), (308, 0.0035583154448109644), (309, 0.03106205921870869), (310, 0.025363283193246225), (311, 0.0), (312, 0.0), (313, 0.0), (314, 0.031198396475000934), (315, 0.026479783698111648), (316, 0.024466092114958087), (317, 0.002786311831261851), (318, 0.0034774915793111677), (319, 0.0), (320, 0.027675082613144015), (321, 0.0), (322, 0.010063657205599257), (323, 0.0), (324, 0.002932879966267567), (325, 0.030722096181451473), (326, 0.07972695696125938), (327, 0.02750348335867289), (328, 0.03337201082414262), (329, 0.013000962028125045), (330, 0.002198695494086582), (331, 0.0), (332, 0.03456238789952924), (333, 0.009623193470266312), (334, 0.009196096863290412), (335, 0.0), (336, 0.007329573574577219), (337, 0.0), (338, 0.0), (339, 0.0), (340, 0.018459421837303612), (341, 0.0), (342, 0.003466443091084973), (343, 0.0032062213714529916), (344, 0.0), (345, 0.0), (346, 0.0031619317354755075), (347, 0.0211100196207984), (348, 0.0031500000356727573), (349, 0.0030862249820824356), (350, 0.0034642155221678997), (351, 0.002427738389575086), (352, 0.015615076535101668), (353, 0.031060430349015036), (354, 0.009352525177807203), (355, 0.0029341898621864336), (356, 0.03385828816235833), (357, 0.0027459451005853275), (358, 0.02842857511627246), (359, 0.002920222370114734), (360, 0.0), (361, 0.03130943906032676), (362, 0.032565009336595105), (363, 0.03222991561453839), (364, 0.012045116938376572), (365, 0.0), (366, 0.025229547297715826), (367, 0.010364246775813062), (368, 0.012986341105815192), (369, 0.008279966084818395), (370, 0.034064116464547246), (371, 0.003501539445857054), (372, 0.002964894531061162), (373, 0.0030157355323634292), (374, 0.003139533648530054), (375, 0.01069208465221712), (376, 0.009398008906695988), (377, 0.0032786412689261913), (378, 0.014060944508755252), (379, 0.009963406386798176), (380, 0.012428790997545177), (381, 0.0), (382, 0.0), (383, 0.0), (384, 0.0), (385, 0.0), (386, 0.01788979483007571), (387, 0.04504623527971246), (388, 0.02479149301896831), (389, 0.031119787111257645), (390, 0.01041288975946375), (391, 0.022003814182600452), (392, 0.018249853862343283), (393, 0.0), (394, 0.009245847529755383), (395, 0.0034140598588703877), (396, 0.02745401796814248), (397, 0.009891964212042243), (398, 0.0), (399, 0.002948539667122345), (400, 0.03503792140805793), (401, 0.0), (402, 0.05700478140808217), (403, 0.002697109686556606), (404, 0.02527854917135759), (405, 0.03634072927826987), (406, 0.0032465793341662852), (407, 0.0025532025569857046), (408, 0.0030085180030015378), (409, 0.0), (410, 0.002960430466428074), (411, 0.0), (412, 0.0025996848835667112), (413, 0.011552689413301653), (414, 0.0), (415, 0.0), (416, 0.00291598181177748), (417, 0.009492953852434432), (418, 0.0), (419, 0.0035838710270088545), (420, 0.05459762434231399), (421, 0.007903941011392253), (422, 0.0), (423, 0.0), (424, 0.019507387437127537), (425, 0.019490462608896995), (426, 0.01606964741083857), (427, 0.01037729206331109), (428, 0.002872900954868981), (429, 0.0530966390694449), (430, 0.015069640578708146), (431, 0.0037527170510414606), (432, 0.02779897534696278), (433, 0.0026029303406502244), (434, 0.04855564835496058), (435, 0.0), (436, 0.014994516109338902), (437, 0.027735584823080472), (438, 0.008844528102721665), (439, 0.02091496565573765), (440, 0.03360418294427995), (441, 0.00262956708524959), (442, 0.0026385030612758415), (443, 0.03760370135333542), (444, 0.07637796103915773), (445, 0.025023212227023296), (446, 0.051028700508748685), (447, 0.003304189319308058), (448, 0.03752605982289216), (449, 0.0028779184288908544), (450, 0.0034916704418896665), (451, 0.01026403546189452), (452, 0.002396649870001199), (453, 0.010706091521836943), (454, 0.08879576348112936), (455, 0.06514671163552016), (456, 0.0033713804961244907), (457, 0.002920554466054826), (458, 0.03627629175647539), (459, 0.0), (460, 0.010768602912745763), (461, 0.0), (462, 0.0), (463, 0.012420567470686057), (464, 0.003145340283144049), (465, 0.00290509942130942), (466, 0.003145960048754443), (467, 0.0), (468, 0.0), (469, 0.0), (470, 0.003356099637141029), (471, 0.0029716127834784646), (472, 0.07889042486206198), (473, 0.022867704303704377), (474, 0.0), (475, 0.016560262162206067), (476, 0.003493001348131611), (477, 0.00815214297090347), (478, 0.028606348857120593), (479, 0.003178332698814598), (480, 0.0027922774380492025), (481, 0.0034605468136736837), (482, 0.0033213727631033084), (483, 0.04830413345332807), (484, 0.0), (485, 0.0034100890820270555), (486, 0.05070226914678321), (487, 0.003046146172880247), (488, 0.01969580332403722), (489, 0.07787797576470462), (490, 0.0031510033654936873), (491, 0.01264797282842744), (492, 0.01010094315513122), (493, 0.045545489796751125), (494, 0.0), (495, 0.0028144382515175414), (496, 0.002716708611018321), (497, 0.009627615910032012), (498, 0.0), (499, 0.003462964408599547), (500, 0.0812431969245908), (501, 0.0), (502, 0.02131742937262399), (503, 0.0), (504, 0.003201320725455367), (505, 0.003022924109426042), (506, 0.0), (507, 0.0029878935809110148), (508, 0.02906346626794681), (509, 0.01435828299474015), (510, 0.0025435672920489107), (511, 0.03357631237133535), (512, 0.012146907311582378), (513, 0.0), (514, 0.0), (515, 0.0028682958436821926), (516, 0.011277211858977777), (517, 0.011243036888259466), (518, 0.003730458247626608), (519, 0.0028096171070252653), (520, 0.0), (521, 0.0), (522, 0.003088854911550338), (523, 0.04845117096731428), (524, 0.0029191689022352867), (525, 0.0), (526, 0.0040014256196383765), (527, 0.0025191488909150276), (528, 0.0), (529, 0.0), (530, 0.010060234834132063), (531, 0.02652724003461358), (532, 0.024187966327215198), (533, 0.003579051433032271), (534, 0.003142833688333195), (535, 0.029102867120762665), (536, 0.01828405834485752), (537, 0.0123150048750322), (538, 0.0), (539, 0.0), (540, 0.0), (541, 0.0030778828225755156), (542, 0.0022314285912883357), (543, 0.0033141891956511857), (544, 0.003229156239664052), (545, 0.0387563646753843), (546, 0.010438522519764943), (547, 0.002682849953137176), (548, 0.009583644499935567), (549, 0.0), (550, 0.0), (551, 0.003304738502525506), (552, 0.04634913876720264), (553, 0.014961789528541837), (554, 0.010494727817621403), (555, 0.017797314231436576), (556, 0.021357448348780745), (557, 0.0), (558, 0.002934262385346491), (559, 0.0), (560, 0.0), (561, 0.00797789235448391), (562, 0.010167412144957852), (563, 0.0028693575433046676), (564, 0.0033337136071405083), (565, 0.010104919591765203), (566, 0.002669649409789486), (567, 0.010550152842863734), (568, 0.009478645697124343), (569, 0.030511212534582756), (570, 0.0), (571, 0.02024812827784283), (572, 0.011091000388125058), (573, 0.04895663780517936), (574, 0.06139184704199042), (575, 0.0), (576, 0.003587122455511606), (577, 0.02894114881756847), (578, 0.0030032410306636602), (579, 0.0032256853319129457), (580, 0.029853648522034947), (581, 0.0028675727170247617), (582, 0.0), (583, 0.0), (584, 0.0032925787535042707), (585, 0.0), (586, 0.0), (587, 0.027798452651469567), (588, 0.013926356552487652), (589, 0.02189206818302812), (590, 0.0029328167044229), (591, 0.011881236874726787), (592, 0.0), (593, 0.0032456306304898823), (594, 0.0028442065994388204), (595, 0.0), (596, 0.0035653768643000294), (597, 0.002860450525656501), (598, 0.051338009407506206), (599, 0.011381919240346277), (600, 0.011384076809953196), (601, 0.009229395343294056), (602, 0.008833256157119522), (603, 0.02237731231779498), (604, 0.018727347013063392), (605, 0.0027999783869887126), (606, 0.03219879262927359), (607, 0.01820216453615225), (608, 0.0028844754031469226), (609, 0.020055124069563966), (610, 0.0), (611, 0.005112486966141544), (612, 0.0033785089521265344), (613, 0.010663911764944555), (614, 0.01606408266861203), (615, 0.0), (616, 0.002651775599521203), (617, 0.00268660776119078), (618, 0.02674966986825522), (619, 0.010768749105482502), (620, 0.0030562857551753504), (621, 0.021479691366502386), (622, 0.07044927507737407), (623, 0.0033796321211479255), (624, 0.002910574509592851), (625, 0.009310287915838825), (626, 0.0026966773087929315), (627, 0.004308814156329758), (628, 0.0032082546764656984), (629, 0.0), (630, 0.0), (631, 0.0032717895651103905), (632, 0.0), (633, 0.024870806757605432), (634, 0.0), (635, 0.0), (636, 0.0032136578212398365), (637, 0.0032951938752081807), (638, 0.0029328098638127147), (639, 0.0), (640, 0.0), (641, 0.0022786888074226076), (642, 0.017588521219496858), (643, 0.0030835305864696677), (644, 0.0030228494267760387), (645, 0.0025989457322916805), (646, 0.0030600649554214303), (647, 0.002791969173243144), (648, 0.009551068807996544), (649, 0.0), (650, 0.0), (651, 0.0030721530682659946), (652, 0.003254789729012523), (653, 0.08152430804420487), (654, 0.010771435354861752), (655, 0.002971525796462015), (656, 0.011366173191285743), (657, 0.023320871609423102), (658, 0.0), (659, 0.028487380057143515), (660, 0.037078642886654536), (661, 0.0), (662, 0.0), (663, 0.01202435930049908), (664, 0.0), (665, 0.04860108104971613), (666, 0.04517792064526162), (667, 0.026690856356153942), (668, 0.0), (669, 0.02325707172586441), (670, 0.003921564915108807), (671, 0.0), (672, 0.00283747309934375), (673, 0.03858985099204412), (674, 0.010724517468171407), (675, 0.014615342813418135), (676, 0.03280879813949257), (677, 0.01882851055713464), (678, 0.011141393708431575), (679, 0.0), (680, 0.014252777056884344), (681, 0.012248616124992558), (682, 0.0), (683, 0.015129851586066239), (684, 0.0023349736142447924), (685, 0.02099691936383353), (686, 0.037464880659316246), (687, 0.0764179856439489), (688, 0.003525024697412269), (689, 0.01332847390396494), (690, 0.0), (691, 0.0025718321877124246), (692, 0.0), (693, 0.003097104804363056), (694, 0.036724805643868416), (695, 0.04676630294588139), (696, 0.020496145373807145), (697, 0.0031953922402267556), (698, 0.003010655317808567), (699, 0.0), (700, 0.0), (701, 0.0035520928725642576), (702, 0.01012208066827122), (703, 0.018087667042821835), (704, 0.0), (705, 0.002817106470898598), (706, 0.0025274250088870936), (707, 0.0026764608878682827), (708, 0.0), (709, 0.01850108099496382), (710, 0.009494299877516951), (711, 0.0), (712, 0.002811355579608391), (713, 0.009729899264362475), (714, 0.0), (715, 0.0035114106226657436), (716, 0.0033368569878071586), (717, 0.0033183886809002535), (718, 0.05215940963271075), (719, 0.044266253082156426), (720, 0.0), (721, 0.003645999784021192), (722, 0.002859237553006945), (723, 0.0), (724, 0.0), (725, 0.0), (726, 0.0), (727, 0.0031263429654128758), (728, 0.003432092991351118), (729, 0.003548389168549813), (730, 0.026821179950656013), (731, 0.003043900667927521), (732, 0.011963946146799588), (733, 0.047557687578390434), (734, 0.01907021782783738), (735, 0.004345149185791355), (736, 0.01729575887336369), (737, 0.003589059084999449), (738, 0.0), (739, 0.0036310526580221303), (740, 0.00899059517134676), (741, 0.027849145648118887), (742, 0.002991156905538108), (743, 0.003269888575701028), (744, 0.0029427514113627862), (745, 0.010002917151435167), (746, 0.0), (747, 0.01206198069408314), (748, 0.010844564838549354), (749, 0.08475188427240042), (750, 0.014263854890384923), (751, 0.04090564655809768), (752, 0.01797873711591926), (753, 0.02942878981612859), (754, 0.05681526470868821), (755, 0.0030924439662215306), (756, 0.009500221964405874), (757, 0.0025418062081015128), (758, 0.05198943772894812), (759, 0.012202106147739401), (760, 0.0), (761, 0.003182562700786012), (762, 0.009377587186682747), (763, 0.010213746195744914), (764, 0.0), (765, 0.0), (766, 0.0029443077617855528), (767, 0.003018542384162994), (768, 0.0), (769, 0.013817694028706367), (770, 0.009439474395903947), (771, 0.031597837613984804), (772, 0.0253252292012405), (773, 0.0), (774, 0.013886415830047566), (775, 0.0), (776, 0.009874498512801375), (777, 0.00382451678638984), (778, 0.011133949350441246), (779, 0.00873604934717048), (780, 0.03579292131515313), (781, 0.0310621216000117), (782, 0.003053475577834129), (783, 0.0033520694400077564), (784, 0.0), (785, 0.0), (786, 0.0), (787, 0.0019463919316921254), (788, 0.005843359493149724), (789, 0.0), (790, 0.04602044132626007), (791, 0.014397375298102071), (792, 0.0033848771663588196), (793, 0.0), (794, 0.0034388794665387045), (795, 0.0), (796, 0.002641839606065232), (797, 0.059838157356167425), (798, 0.03237633605389114), (799, 0.02560108866102376), (800, 0.0028601665896848495), (801, 0.0), (802, 0.02302034675106255), (803, 0.0), (804, 0.002862041760622381), (805, 0.012393160147070637), (806, 0.056363900620801544), (807, 0.0), (808, 0.0028052738272744244), (809, 0.01049206557897119), (810, 0.028724450090638145), (811, 0.010361191341680395), (812, 0.01022965153298325), (813, 0.022870153658903616), (814, 0.026757839803562705), (815, 0.0028428615535870893), (816, 0.0025899367735736094), (817, 0.003079363913143024), (818, 0.08349179204599916), (819, 0.0), (820, 0.009027623982888084), (821, 0.0), (822, 0.0), (823, 0.003667840623822194), (824, 0.009332700847288336), (825, 0.0), (826, 0.0033936712654901668), (827, 0.0), (828, 0.0030059532829607334), (829, 0.01870571663085255), (830, 0.041052775246403155), (831, 0.0624025019550584), (832, 0.0032354968163666904), (833, 0.0), (834, 0.0), (835, 0.0), (836, 0.0), (837, 0.09119609821251942), (838, 0.002958897688359457), (839, 0.0), (840, 0.0), (841, 0.011221773735789328), (842, 0.0), (843, 0.0026168526996997936), (844, 0.006859655356810021), (845, 0.00333135411752074), (846, 0.06380927701078597), (847, 0.0036490062269878922), (848, 0.040138966038577306), (849, 0.0), (850, 0.0032394821635912817), (851, 0.028626324702421414), (852, 0.0030439097800477083), (853, 0.002460318945671397), (854, 0.003036838285014776), (855, 0.0), (856, 0.018176018481593243), (857, 0.022486098132536637), (858, 0.0021485398681391644), (859, 0.00966046406346689), (860, 0.00368689423500519), (861, 0.0027401779527681984), (862, 0.008903361943814738), (863, 0.002908695007109233), (864, 0.10410373583668056), (865, 0.05102352800123462), (866, 0.002958206272769444), (867, 0.0031360935999671857), (868, 0.012443217440941776), (869, 0.0), (870, 0.003111506585608414), (871, 0.013770285786888633), (872, 0.04325006765844457), (873, 0.0), (874, 0.0027441573237299327), (875, 0.0), (876, 0.023242205628133374), (877, 0.008651902691992295), (878, 0.012658343252097453), (879, 0.003319824024894893), (880, 0.0031363960166493087), (881, 0.0), (882, 0.0), (883, 0.034849003967265674), (884, 0.013943507660510609), (885, 0.002854186061813038), (886, 0.002983229385469228), (887, 0.0034599932458109135), (888, 0.03389468228373691), (889, 0.004095245625273754), (890, 0.0033187115988730508), (891, 0.022161609167670702), (892, 0.0), (893, 0.009215535936942918), (894, 0.0031521978533481836), (895, 0.08388006773595773), (896, 0.027612547179611233), (897, 0.013503904923643815), (898, 0.009206485003427994), (899, 0.0029332980399545913), (900, 0.002975205754457954), (901, 0.002635647606775802), (902, 0.011098051209370059), (903, 0.013124072108014341), (904, 0.012030352401790722), (905, 0.0), (906, 0.0), (907, 0.002926285568905253), (908, 0.02257125764836989), (909, 0.04717529711583264), (910, 0.002912877037170729), (911, 0.0030146601056221804), (912, 0.032418567788141464), (913, 0.011475939097263507), (914, 0.021272321182182276), (915, 0.0623124731023395), (916, 0.015919458605240078), (917, 0.00284826517554486), (918, 0.011196169380318633), (919, 0.0), (920, 0.0), (921, 0.0029615194749833184), (922, 0.0035700999793647215), (923, 0.012906405963490348), (924, 0.028318860947140923), (925, 0.0036588702830139593), (926, 0.03627547391406961), (927, 0.0), (928, 0.0), (929, 0.002295447449888401), (930, 0.03753429573346764), (931, 0.0), (932, 0.009671293372003571), (933, 0.0032497939495975243), (934, 0.0029000907917393955), (935, 0.02657295456664735), (936, 0.002863145518586854), (937, 0.0037177175485461522), (938, 0.010244117949349653), (939, 0.027900891454848625), (940, 0.0022270069032976265), (941, 0.0029803436501684606), (942, 0.0025869327263399696), (943, 0.0), (944, 0.002964689792258511), (945, 0.0), (946, 0.0), (947, 0.004292418406798417), (948, 0.0), (949, 0.0037849709281581614), (950, 0.0419101196019889), (951, 0.0026862823062409357), (952, 0.015134897190504577), (953, 0.0782910852304226), (954, 0.0), (955, 0.0), (956, 0.0), (957, 0.012237598275786393), (958, 0.02412879498752066), (959, 0.12229144536019426), (960, 0.0), (961, 0.0), (962, 0.0030173092218436465), (963, 0.022640610424158568), (964, 0.0), (965, 0.0), (966, 0.0030044556611483995), (967, 0.003513205371970055), (968, 0.0028825016901099587), (969, 0.02078380157380196), (970, 0.0), (971, 0.0), (972, 0.0), (973, 0.003135041823188377), (974, 0.0), (975, 0.02366252232480107), (976, 0.0), (977, 0.02294873608140781), (978, 0.01589117854572054), (979, 0.0), (980, 0.013851294071218611), (981, 0.0218054932073033), (982, 0.0), (983, 0.0), (984, 0.012748042376731617), (985, 0.0036400752767355954), (986, 0.0031796610961020827), (987, 0.033721177970187276), (988, 0.07457769966801062), (989, 0.003129824974649929), (990, 0.0), (991, 0.003415740036756223), (992, 0.011574277734944455), (993, 0.003205493136327195), (994, 0.024005522808670812), (995, 0.0), (996, 0.0), (997, 0.01892156797455229), (998, 0.003607319619947505), (999, 0.0036043672802548755), (1000, 0.0028620979269997366), (1001, 0.0030327764375939993), (1002, 0.003031881636354261), (1003, 0.08890640136644706), (1004, 0.002852165616327997), (1005, 0.0024322222381498236), (1006, 0.003324471744451528), (1007, 0.003349949364194269), (1008, 0.0), (1009, 0.002822915685290543), (1010, 0.0), (1011, 0.012218274485671853), (1012, 0.0), (1013, 0.011431613127366264), (1014, 0.012534384463217488), (1015, 0.03667389501817158), (1016, 0.0), (1017, 0.013026459809302773), (1018, 0.0), (1019, 0.0060391927609541405), (1020, 0.0030528620569565197), (1021, 0.0031696268803651363), (1022, 0.020942556301078954), (1023, 0.0035768878272543292), (1024, 0.0), (1025, 0.0), (1026, 0.0031225031488326636), (1027, 0.024170046413853542), (1028, 0.0), (1029, 0.0), (1030, 0.012972996322433079), (1031, 0.02236890502437764), (1032, 0.003005505352024219), (1033, 0.0030501151181173344), (1034, 0.003047346844509088), (1035, 0.00309132171414499), (1036, 0.00300118319438382), (1037, 0.0025885142867397436), (1038, 0.0), (1039, 0.0), (1040, 0.00248534899536069), (1041, 0.012580101334256893), (1042, 0.011193118680625381), (1043, 0.003477367174764415), (1044, 0.038555660177857394), (1045, 0.0), (1046, 0.009189159877830538), (1047, 0.010647950280408977), (1048, 0.0033067146946960803), (1049, 0.0037732281549987382), (1050, 0.011417479595806567), (1051, 0.0), (1052, 0.0527752078583614), (1053, 0.029729880895512466), (1054, 0.0), (1055, 0.0098787780454863), (1056, 0.022890452785334886), (1057, 0.011608738640372063), (1058, 0.0), (1059, 0.0031498710831425526), (1060, 0.003070177632449818), (1061, 0.0), (1062, 0.0), (1063, 0.0), (1064, 0.0038552104321763255), (1065, 0.0029084159162909937), (1066, 0.00996423188482711), (1067, 0.08894188349571222), (1068, 0.028432669521124252), (1069, 0.023539038402860455), (1070, 0.0), (1071, 0.0033957801767789965), (1072, 0.003151711644856271), (1073, 0.02804140177646996), (1074, 0.010852122654162674), (1075, 0.003352108202682855), (1076, 0.025109006281526482), (1077, 0.003250865151256053), (1078, 0.002649989915746023), (1079, 0.0029262295646524995), (1080, 0.0028646212671306895), (1081, 0.0), (1082, 0.010625496686327927), (1083, 0.08194407067681077), (1084, 0.023146353862224585), (1085, 0.0), (1086, 0.0), (1087, 0.02070173171248133), (1088, 0.024987261729786523), (1089, 0.0), (1090, 0.0), (1091, 0.0230327489972867), (1092, 0.0), (1093, 0.0), (1094, 0.0), (1095, 0.009668542171544727), (1096, 0.003095737090705885), (1097, 0.03550751119359589), (1098, 0.02061136495064282), (1099, 0.03127576455986608), (1100, 0.003129426468648601), (1101, 0.010996720791499274), (1102, 0.0031581609128224536), (1103, 0.0), (1104, 0.0), (1105, 0.010371637356366266), (1106, 0.06108638545714157), (1107, 0.0029606412634657787), (1108, 0.011038927692548973), (1109, 0.003528471946036664), (1110, 0.003127790515291561), (1111, 0.01105566373932989), (1112, 0.003169366719861886), (1113, 0.01658545982098882), (1114, 0.01234406763718461), (1115, 0.0), (1116, 0.0), (1117, 0.003056890329335111), (1118, 0.0), (1119, 0.021740519632617028), (1120, 0.009223825859642522), (1121, 0.02551120553589379), (1122, 0.0032396540488726267), (1123, 0.0030242283072195045), (1124, 0.01389446660393405), (1125, 0.021231425673938768), (1126, 0.0), (1127, 0.0), (1128, 0.0), (1129, 0.03391123298874321), (1130, 0.0), (1131, 0.0031927096236906197), (1132, 0.0030241466062217747), (1133, 0.025992244797683237), (1134, 0.018964205895986404), (1135, 0.0), (1136, 0.0027896899595332607), (1137, 0.026156161254973297), (1138, 0.0032189064821399535), (1139, 0.0), (1140, 0.047910275480218326), (1141, 0.0034006109968755874), (1142, 0.0), (1143, 0.0), (1144, 0.0025369749356520884), (1145, 0.004400223128727639), (1146, 0.01046080011121025), (1147, 0.0), (1148, 0.05945687986203997), (1149, 0.0), (1150, 0.011669124903870422), (1151, 0.010848294965326638), (1152, 0.0), (1153, 0.0), (1154, 0.024956748873863246), (1155, 0.0), (1156, 0.0), (1157, 0.0), (1158, 0.0), (1159, 0.0), (1160, 0.0030203301229460465), (1161, 0.002872446400167507), (1162, 0.0), (1163, 0.013378359520567212), (1164, 0.008797108706698859), (1165, 0.0), (1166, 0.023526077548939), (1167, 0.0), (1168, 0.016093487559424236), (1169, 0.003724195187831136), (1170, 0.003185665336850367), (1171, 0.009800134160668815), (1172, 0.029530855641725168), (1173, 0.0), (1174, 0.003253052032501148), (1175, 0.0032113647881443293), (1176, 0.0032481768635323574), (1177, 0.024738535252048548), (1178, 0.0), (1179, 0.013400121941810398), (1180, 0.028816631162787716), (1181, 0.0), (1182, 0.003246594444651572), (1183, 0.002953613729373562), (1184, 0.07061144442269168), (1185, 0.010767141557336633), (1186, 0.011767753474761965), (1187, 0.003738651856111495), (1188, 0.003339927857197433), (1189, 0.0), (1190, 0.0), (1191, 0.034060573671190655), (1192, 0.003333959140643842), (1193, 0.0), (1194, 0.0), (1195, 0.011214577277946221), (1196, 0.0), (1197, 0.018793182534588386), (1198, 0.0), (1199, 0.026978233265456713), (1200, 0.020082283948646595), (1201, 0.019457435615638948), (1202, 0.0026991207617888683), (1203, 0.0029877141756393943), (1204, 0.0032285449343137), (1205, 0.01151148538876758), (1206, 0.0029746626807722327), (1207, 0.028177915726096268), (1208, 0.004056878084002724), (1209, 0.002651715690166409), (1210, 0.0), (1211, 0.0), (1212, 0.009333340369620701), (1213, 0.0), (1214, 0.0), (1215, 0.002723752634731738), (1216, 0.0028855162772459275), (1217, 0.002762572094992964), (1218, 0.03459908585376281), (1219, 0.022675506544248006), (1220, 0.02370285441120393), (1221, 0.0), (1222, 0.0), (1223, 0.0031943979596509436), (1224, 0.047721623544838554), (1225, 0.003356922978665583), (1226, 0.0), (1227, 0.0), (1228, 0.0), (1229, 0.003322085696015147), (1230, 0.03253694819998311), (1231, 0.0), (1232, 0.0032066368484190994), (1233, 0.011335697627680566), (1234, 0.014191788700488706), (1235, 0.0), (1236, 0.09596138334141958), (1237, 0.0028885697813355506), (1238, 0.0471576659518891), (1239, 0.0), (1240, 0.0), (1241, 0.0352646512032984), (1242, 0.0), (1243, 0.003470781768820412), (1244, 0.010541627290360693), (1245, 0.013571648772859025), (1246, 0.011040565560890066), (1247, 0.07390765831518285), (1248, 0.003057313728946348), (1249, 0.0651781603645334), (1250, 0.011026920299892329), (1251, 0.10798172713418143), (1252, 0.02017456279326184), (1253, 0.0), (1254, 0.0032612753189380245), (1255, 0.003023472048243819), (1256, 0.06393479809461766), (1257, 0.0031356593570014803), (1258, 0.0), (1259, 0.009340996776833985), (1260, 0.03271651756938553), (1261, 0.0030808977989787182), (1262, 0.01079005352341079), (1263, 0.0), (1264, 0.0038330660878232357), (1265, 0.022866006477212146), (1266, 0.0), (1267, 0.04590018938539336), (1268, 0.0), (1269, 0.010801443994937234), (1270, 0.0), (1271, 0.010722720003872234), (1272, 0.0), (1273, 0.0030284527739523033), (1274, 0.0), (1275, 0.0036716643015965904), (1276, 0.0), (1277, 0.019638582763798998), (1278, 0.0), (1279, 0.021374358848828417), (1280, 0.01152045175804579), (1281, 0.009874675108576723), (1282, 0.0), (1283, 0.0), (1284, 0.013046176792017396), (1285, 0.01035788681016084), (1286, 0.019962517821004278), (1287, 0.0), (1288, 0.06785836828969893), (1289, 0.0), (1290, 0.0028191100475287913), (1291, 0.0), (1292, 0.0), (1293, 0.0), (1294, 0.003266638862241912), (1295, 0.032590500497700396), (1296, 0.008892061338919684), (1297, 0.0171949489499685), (1298, 0.00316446101432029), (1299, 0.0), (1300, 0.008641669498386366), (1301, 0.011708628927517502), (1302, 0.0), (1303, 0.002565586184438079), (1304, 0.05511841889153191), (1305, 0.002630671376770503), (1306, 0.03115040390136096), (1307, 0.0), (1308, 0.002919442290962016), (1309, 0.05401951561538458), (1310, 0.04197742472177006), (1311, 0.0), (1312, 0.03725526612760878), (1313, 0.0031356530918116837), (1314, 0.0), (1315, 0.0329725678276749), (1316, 0.0), (1317, 0.0025782123263977013), (1318, 0.0028379177459601904), (1319, 0.0031219469015029205), (1320, 0.0362349604223349), (1321, 0.0), (1322, 0.0), (1323, 0.0), (1324, 0.0033943526643122105), (1325, 0.0034490082131532055), (1326, 0.0), (1327, 0.0), (1328, 0.0), (1329, 0.016954020685406298), (1330, 0.0), (1331, 0.023875270940283053), (1332, 0.011386698388030077), (1333, 0.0), (1334, 0.0032665861224287648), (1335, 0.023857077360625856), (1336, 0.0), (1337, 0.003247342261440982), (1338, 0.05347199466125958), (1339, 0.003382302984590394), (1340, 0.0027023689224917966), (1341, 0.017267468315952682), (1342, 0.0), (1343, 0.0), (1344, 0.00826401798849912), (1345, 0.06297788499421025), (1346, 0.0), (1347, 0.04458503819300501), (1348, 0.0), (1349, 0.0035854022821908468), (1350, 0.0030996335045812683), (1351, 0.017420469708028047), (1352, 0.0027029880603197947), (1353, 0.0), (1354, 0.009980324218692086), (1355, 0.003258622754221377), (1356, 0.0026932834259659217), (1357, 0.002932446140246138), (1358, 0.010662635762485818), (1359, 0.0034193186281274777), (1360, 0.002896082899555573), (1361, 0.010989777283665535), (1362, 0.0), (1363, 0.02917799483187931), (1364, 0.040963445136346345), (1365, 0.024683351118434206), (1366, 0.018368004998590662), (1367, 0.04569934871845549), (1368, 0.0), (1369, 0.002604446192779581), (1370, 0.002743746185111512), (1371, 0.08146553664571454), (1372, 0.03329761601069805), (1373, 0.0), (1374, 0.01022727783863955), (1375, 0.04214205415643668), (1376, 0.024734260084282582), (1377, 0.002566894703000944), (1378, 0.003179387566553233), (1379, 0.0), (1380, 0.01077823361293345), (1381, 0.01241530838788249), (1382, 0.0032845037773337744), (1383, 0.04492802160694004), (1384, 0.0), (1385, 0.0031860921066868544), (1386, 0.0), (1387, 0.0028726078023701682), (1388, 0.0), (1389, 0.018091654393635193), (1390, 0.0), (1391, 0.0), (1392, 0.0028291942981897382), (1393, 0.0), (1394, 0.0028192635096650244), (1395, 0.0), (1396, 0.04198602317856025), (1397, 0.0027517594703205203), (1398, 0.0036836417553364497), (1399, 0.0), (1400, 0.003354275442016301), (1401, 0.0), (1402, 0.06952277712037004), (1403, 0.002444845285052143), (1404, 0.0030079222798725974), (1405, 0.015104274161962321), (1406, 0.0), (1407, 0.0), (1408, 0.013052583287333566), (1409, 0.014337742214219903), (1410, 0.029542732172578745), (1411, 0.003144439202808739), (1412, 0.0616364832944431), (1413, 0.07992952990232272), (1414, 0.011956218771813068), (1415, 0.0026071131792643836), (1416, 0.003040847201453671), (1417, 0.0024839231760279356), (1418, 0.0), (1419, 0.05478150250275363), (1420, 0.0), (1421, 0.0439430788434281), (1422, 0.0542876858817152), (1423, 0.002824076949761447), (1424, 0.0409534937520281), (1425, 0.0), (1426, 0.0), (1427, 0.016692054991091165), (1428, 0.0), (1429, 0.03038660052350235), (1430, 0.009502867207796514), (1431, 0.0), (1432, 0.0), (1433, 0.013025680642466871), (1434, 0.0029052405655590283), (1435, 0.07497790576208777), (1436, 0.0), (1437, 0.0), (1438, 0.0031513534372074135), (1439, 0.09057247008033331), (1440, 0.0032312141950912917), (1441, 0.0), (1442, 0.006300625053476027), (1443, 0.0), (1444, 0.0), (1445, 0.06594756696021034), (1446, 0.0030493931870353196), (1447, 0.0), (1448, 0.002940273904123819), (1449, 0.01808696793827707), (1450, 0.002742196953842213), (1451, 0.0), (1452, 0.0), (1453, 0.0), (1454, 0.003495110939791533), (1455, 0.0), (1456, 0.01890037746697936), (1457, 0.027313570971187872), (1458, 0.0), (1459, 0.0), (1460, 0.0), (1461, 0.0), (1462, 0.0029186791520693796), (1463, 0.012921633306060536), (1464, 0.0026065849569576528), (1465, 0.011619246281828385), (1466, 0.011913998680845944), (1467, 0.008511139185616941), (1468, 0.00958973396642011), (1469, 0.011200174231522357), (1470, 0.0), (1471, 0.009938384247804683), (1472, 0.003219085670022313), (1473, 0.029707086115201342), (1474, 0.014946045649537977), (1475, 0.003317271491953342), (1476, 0.0032238851199880374), (1477, 0.012913931885084646), (1478, 0.0030471581083346545), (1479, 0.0034900765815372163), (1480, 0.0), (1481, 0.028630046537804037), (1482, 0.0), (1483, 0.01329803029252816), (1484, 0.003366013601689133), (1485, 0.0), (1486, 0.01191470519385328), (1487, 0.009689633315132493), (1488, 0.0031900906999471406), (1489, 0.003575601549616018), (1490, 0.0), (1491, 0.0), (1492, 0.02284508991141124), (1493, 0.0), (1494, 0.03495104833376226), (1495, 0.01039751736825481), (1496, 0.0), (1497, 0.0036316216670467367), (1498, 0.014899652425977971), (1499, 0.003562112565079354), (1500, 0.0031440680962032735), (1501, 0.020413906212626343), (1502, 0.022217243839508738), (1503, 0.02772819983283744), (1504, 0.0), (1505, 0.010850207691846766), (1506, 0.013944608861131998), (1507, 0.0), (1508, 0.016919626828691876), (1509, 0.023177037994363506), (1510, 0.003212435843076205), (1511, 0.051559189922223275), (1512, 0.0), (1513, 0.003314792043527391), (1514, 0.00294492184789809), (1515, 0.010889385654370129), (1516, 0.00327711391974308), (1517, 0.0), (1518, 0.03822948144547991), (1519, 0.012393215540824006), (1520, 0.0), (1521, 0.0), (1522, 0.023305948495541445), (1523, 0.0), (1524, 0.0), (1525, 0.0), (1526, 0.0), (1527, 0.03320318256000388), (1528, 0.002890235462024497), (1529, 0.0), (1530, 0.00886006008600786), (1531, 0.0), (1532, 0.0), (1533, 0.003227856091806267), (1534, 0.010636089277396574), (1535, 0.01769111782364293), (1536, 0.08702466551581474), (1537, 0.0034068440143495246), (1538, 0.002888351695139854), (1539, 0.002837431745419654), (1540, 0.0), (1541, 0.0), (1542, 0.02628452739362468), (1543, 0.04667695578056278), (1544, 0.0), (1545, 0.0), (1546, 0.009307249938516416), (1547, 0.0037061527869563502), (1548, 0.0), (1549, 0.0), (1550, 0.020078926058595667), (1551, 0.0), (1552, 0.0), (1553, 0.02579751966728059), (1554, 0.02316375221132288), (1555, 0.002962293076697909), (1556, 0.0), (1557, 0.0), (1558, 0.002958003638280004), (1559, 0.0), (1560, 0.0), (1561, 0.0), (1562, 0.0), (1563, 0.0), (1564, 0.0), (1565, 0.07928181449971428), (1566, 0.010827577825201065), (1567, 0.04301097734904299), (1568, 0.028056334601400158), (1569, 0.0), (1570, 0.0033465164533583286), (1571, 0.011080263963890368), (1572, 0.0033858852724078905), (1573, 0.0), (1574, 0.003211151254248949), (1575, 0.011583945464630471), (1576, 0.0), (1577, 0.06981408926478905), (1578, 0.030890237794090423), (1579, 0.010169421019833612), (1580, 0.0035113154508434356), (1581, 0.0), (1582, 0.0030549390287994715), (1583, 0.0), (1584, 0.00988029198098427), (1585, 0.030012695215172035), (1586, 0.07368724981393932), (1587, 0.0), (1588, 0.024115017240749083), (1589, 0.0), (1590, 0.009432718308287534), (1591, 0.0), (1592, 0.01049271691196688), (1593, 0.003856297346159273), (1594, 0.003562742770228213), (1595, 0.002879696566407481), (1596, 0.0), (1597, 0.01290999006964356), (1598, 0.0031411835192188347), (1599, 0.0), (1600, 0.0), (1601, 0.026180602575953327), (1602, 0.01782541454078875), (1603, 0.018029680347637973), (1604, 0.0), (1605, 0.0028747818582959203), (1606, 0.0), (1607, 0.0), (1608, 0.021379355950161112), (1609, 0.0), (1610, 0.0), (1611, 0.0), (1612, 0.0031686973941980104), (1613, 0.011253335285195055), (1614, 0.027158639248636197), (1615, 0.0), (1616, 0.002796391093824426), (1617, 0.05987139549424597), (1618, 0.0), (1619, 0.0033911098509334845), (1620, 0.002975436084710222), (1621, 0.0031369746317041042), (1622, 0.03377700854060158), (1623, 0.0), (1624, 0.024071210056065617), (1625, 0.0028613749502928733), (1626, 0.06602632017253014), (1627, 0.002720075701397722), (1628, 0.0029115971407462364), (1629, 0.013834155326774332), (1630, 0.016301769047663194), (1631, 0.009696167923319586), (1632, 0.0), (1633, 0.07277349799612647), (1634, 0.0031538362229499156), (1635, 0.01684920765456102), (1636, 0.0), (1637, 0.032804710463987724), (1638, 0.0), (1639, 0.0), (1640, 0.0), (1641, 0.0029508177398188625), (1642, 0.002945068649606232), (1643, 0.003340739018203398), (1644, 0.0), (1645, 0.013525778657272447), (1646, 0.0), (1647, 0.0), (1648, 0.02533611564896875), (1649, 0.010082802426978208), (1650, 0.0029506930794996186), (1651, 0.00981750365053041), (1652, 0.0), (1653, 0.023619448661181763), (1654, 0.0), (1655, 0.003870755694383329), (1656, 0.0036482364024529334), (1657, 0.02528787200476076), (1658, 0.032361937937748955), (1659, 0.02920569967634734), (1660, 0.035447760849053864), (1661, 0.0), (1662, 0.010083391919725977), (1663, 0.002997760511980771), (1664, 0.010246498426739345), (1665, 0.002979418832408577), (1666, 0.0031379892092170147), (1667, 0.0029326378224804133), (1668, 0.0), (1669, 0.056711622261473006), (1670, 0.003349181644946557), (1671, 0.003080803992984162), (1672, 0.0029130133299936816), (1673, 0.027458621413015073), (1674, 0.0), (1675, 0.012209164259617798), (1676, 0.01842793411357968), (1677, 0.011015113397935341), (1678, 0.00316390982222193), (1679, 0.0), (1680, 0.05828457540550475), (1681, 0.011220147904899058), (1682, 0.0029861227051802596), (1683, 0.003405125492989447), (1684, 0.0), (1685, 0.0033667004000391978), (1686, 0.0), (1687, 0.06044194118052512), (1688, 0.003244811687124194), (1689, 0.0), (1690, 0.0028669527127862327), (1691, 0.0027151451531149005), (1692, 0.0), (1693, 0.0029877116548511235), (1694, 0.0), (1695, 0.0), (1696, 0.010608990313194932), (1697, 0.0), (1698, 0.03132731794437231), (1699, 0.0), (1700, 0.0), (1701, 0.008543089831315213), (1702, 0.0), (1703, 0.0032923754799489605), (1704, 0.0), (1705, 0.031584282982854296), (1706, 0.0032110718928626244), (1707, 0.054187083673970626), (1708, 0.0034177228636835), (1709, 0.0), (1710, 0.06892035432482634), (1711, 0.05863965783292778), (1712, 0.03124428849568417), (1713, 0.0), (1714, 0.0), (1715, 0.0), (1716, 0.056376425937515295), (1717, 0.0032772019029042635), (1718, 0.0), (1719, 0.030542013901483138), (1720, 0.0), (1721, 0.0), (1722, 0.025524630799213972), (1723, 0.0), (1724, 0.029502810128983023), (1725, 0.04450865667529218), (1726, 0.0), (1727, 0.003308503224030272), (1728, 0.0), (1729, 0.0), (1730, 0.002901073827497639), (1731, 0.0), (1732, 0.0), (1733, 0.0034890324579100952), (1734, 0.0), (1735, 0.0), (1736, 0.021316831876608842), (1737, 0.0), (1738, 0.0), (1739, 0.002861174095761022), (1740, 0.0032460547200339734), (1741, 0.017319567450887235), (1742, 0.012671980977711482), (1743, 0.0027085623760683118), (1744, 0.003035650863610183), (1745, 0.009260128394559565), (1746, 0.0), (1747, 0.0024763861197742284), (1748, 0.0508618753678699), (1749, 0.0), (1750, 0.00966875408320876), (1751, 0.0), (1752, 0.0), (1753, 0.0), (1754, 0.00350536028156568), (1755, 0.02806705119391093), (1756, 0.026403646052747073), (1757, 0.0), (1758, 0.0), (1759, 0.0030066278521779333), (1760, 0.03136749046068483), (1761, 0.0), (1762, 0.002838750078339173), (1763, 0.002724969791615044), (1764, 0.0027582732902530676), (1765, 0.003291120149699531), (1766, 0.03254791198000504), (1767, 0.0), (1768, 0.10146045684779433), (1769, 0.0), (1770, 0.0), (1771, 0.0), (1772, 0.009388242643828886), (1773, 0.02552105844747789), (1774, 0.002429661577156203), (1775, 0.0), (1776, 0.002802408444353742), (1777, 0.0), (1778, 0.0), (1779, 0.0033878611720596446), (1780, 0.002075795091897153), (1781, 0.01879920066472465), (1782, 0.012257601167433267), (1783, 0.010179652613520308), (1784, 0.026782854241053027), (1785, 0.027909509994419428), (1786, 0.011240157562149645), (1787, 0.0), (1788, 0.0), (1789, 0.0), (1790, 0.0), (1791, 0.011517740191138954), (1792, 0.030861989018952825), (1793, 0.05731164471531595), (1794, 0.0), (1795, 0.0), (1796, 0.01222806285067344), (1797, 0.0), (1798, 0.014387509746294951), (1799, 0.011849319266353455), (1800, 0.0), (1801, 0.02399271034068839), (1802, 0.06116550012951227), (1803, 0.018762759871748597), (1804, 0.06631415931985789), (1805, 1.0), (1806, 0.0), (1807, 0.0031212412414751618), (1808, 0.04941553667823404), (1809, 0.0), (1810, 0.020114198945085204), (1811, 0.0031565005679458982), (1812, 0.0), (1813, 0.003089321999833292), (1814, 0.0029299180011282773), (1815, 0.0719301183978759), (1816, 0.022884701630928934), (1817, 0.0), (1818, 0.0), (1819, 0.002964561014983576), (1820, 0.0), (1821, 0.014063600557206523), (1822, 0.003359081983887964), (1823, 0.0), (1824, 0.04772691184603735), (1825, 0.024917027396699824), (1826, 0.0028774435626350093), (1827, 0.012119166861657647), (1828, 0.029440332616322916), (1829, 0.011124389177072135), (1830, 0.002819534638756365), (1831, 0.013251209694054716), (1832, 0.02592811210566887), (1833, 0.0027247852266507307), (1834, 0.0), (1835, 0.034939164692229414), (1836, 0.01201229651119897), (1837, 0.0), (1838, 0.0), (1839, 0.0), (1840, 0.04169577353199724), (1841, 0.0), (1842, 0.0), (1843, 0.0036091607686388172), (1844, 0.03220019625526858), (1845, 0.002690922004647152), (1846, 0.0), (1847, 0.0), (1848, 0.04204070241075321), (1849, 0.016913440763304755), (1850, 0.0), (1851, 0.027340583632757803), (1852, 0.016942276964786368), (1853, 0.0033681994025921303), (1854, 0.003038152792464011), (1855, 0.0), (1856, 0.0), (1857, 0.0), (1858, 0.06842137047140862), (1859, 0.0), (1860, 0.013782791189904641), (1861, 0.019159233824139563), (1862, 0.003563811063351784), (1863, 0.0), (1864, 0.023296099122913666), (1865, 0.04998642298746164), (1866, 0.027599808341486464), (1867, 0.02912903951569464), (1868, 0.0), (1869, 0.002881063890833699), (1870, 0.0), (1871, 0.01880101849006823), (1872, 0.0032184308608174572), (1873, 0.0), (1874, 0.09161586015915706), (1875, 0.0029221094419936674), (1876, 0.003200370213614442), (1877, 0.024119736318552364), (1878, 0.003021366908699532), (1879, 0.0), (1880, 0.0), (1881, 0.06773151097022921), (1882, 0.0031177686407984177), (1883, 0.0), (1884, 0.002974200395366857), (1885, 0.003728452381765556), (1886, 0.0025291941318924542), (1887, 0.0036060643096464534), (1888, 0.028810991866147283), (1889, 0.06408012817176742), (1890, 0.05256288284681934), (1891, 0.003154480121891433), (1892, 0.002889483458557678), (1893, 0.0033562381359118917), (1894, 0.0), (1895, 0.0), (1896, 0.027859786761284044), (1897, 0.003450162048340235), (1898, 0.0), (1899, 0.0), (1900, 0.0), (1901, 0.0), (1902, 0.01408687185766818), (1903, 0.03755652426573755), (1904, 0.011441461302921271), (1905, 0.028631240085755297), (1906, 0.026136626382000334), (1907, 0.0034252016306795187), (1908, 0.02115059207334196), (1909, 0.003611787581841246), (1910, 0.0), (1911, 0.04186481587878766), (1912, 0.0), (1913, 0.025705550693082696), (1914, 0.0), (1915, 0.016338877291192308), (1916, 0.0033532706610207713), (1917, 0.0), (1918, 0.04513607475949677), (1919, 0.017666627658436494), (1920, 0.002942203309798709), (1921, 0.002843835898139386), (1922, 0.003212240692620201), (1923, 0.003534011640262656), (1924, 0.015310992199432945), (1925, 0.024442448958397762), (1926, 0.0), (1927, 0.0), (1928, 0.044899207793167896), (1929, 0.024096497155868028), (1930, 0.0), (1931, 0.0032511965134383665), (1932, 0.0), (1933, 0.0), (1934, 0.0028412883234887887), (1935, 0.0), (1936, 0.026840517359875242), (1937, 0.0), (1938, 0.0), (1939, 0.0), (1940, 0.0), (1941, 0.0), (1942, 0.02671844589463724), (1943, 0.0027697084375226913), (1944, 0.0), (1945, 0.010297469806754674), (1946, 0.0032698841785249377), (1947, 0.0036939823865019886), (1948, 0.035424757632101116), (1949, 0.02840660944476601), (1950, 0.002599183848313483), (1951, 0.0033761224185730626), (1952, 0.01850052277872016), (1953, 0.0), (1954, 0.002818781092537262), (1955, 0.0), (1956, 0.07370536959321387), (1957, 0.024779189186515303), (1958, 0.0), (1959, 0.003442128004597336), (1960, 0.0035231829926877624), (1961, 0.0), (1962, 0.0), (1963, 0.05106707895484097), (1964, 0.030668342149364525), (1965, 0.017945420776762342), (1966, 0.010512601969166516), (1967, 0.022947967693590626), (1968, 0.0037369439913594264), (1969, 0.13294814976467884), (1970, 0.051732133702180196), (1971, 0.002697133690724059), (1972, 0.0), (1973, 0.0), (1974, 0.009339738615229092), (1975, 0.024309623165234162), (1976, 0.012085819063393762), (1977, 0.002833179242780842), (1978, 0.0), (1979, 0.0), (1980, 0.0028541090384446247), (1981, 0.0), (1982, 0.009909523934418995), (1983, 0.0033140919005408063), (1984, 0.030250751255602608), (1985, 0.06484819065293503), (1986, 0.0101072070287949), (1987, 0.0), (1988, 0.0), (1989, 0.0025558127460540993), (1990, 0.0), (1991, 0.0343881586887662), (1992, 0.024335170301169048), (1993, 0.0), (1994, 0.009093239771095057), (1995, 0.003421644934157445), (1996, 0.00981981884693612), (1997, 0.05906739726959964), (1998, 0.0), (1999, 0.03313028530493715), (2000, 0.010679881416980983), (2001, 0.025255230514911523), (2002, 0.0), (2003, 0.0), (2004, 0.002990755826967685), (2005, 0.019866893308170055), (2006, 0.0), (2007, 0.0), (2008, 0.0030945646466005922), (2009, 0.0), (2010, 0.0025129425445971233), (2011, 0.002893481341377282), (2012, 0.0), (2013, 0.008142655261248988), (2014, 0.01016467189943492), (2015, 0.0), (2016, 0.00330340896814096), (2017, 0.0), (2018, 0.008824518369837558), (2019, 0.0), (2020, 0.0), (2021, 0.04363717637351873), (2022, 0.0), (2023, 0.01262057716301825), (2024, 0.0030471542883957767), (2025, 0.038077286930802166), (2026, 0.0), (2027, 0.0030694708208929894), (2028, 0.0), (2029, 0.025639089801265134), (2030, 0.0), (2031, 0.002871459914643586), (2032, 0.0), (2033, 0.0), (2034, 0.002621638398105407), (2035, 0.0026957206080484137), (2036, 0.0), (2037, 0.05521283467210558), (2038, 0.02014268786660486), (2039, 0.019869932418637683), (2040, 0.003515459419773847), (2041, 0.07346630050242581), (2042, 0.0), (2043, 0.0), (2044, 0.0), (2045, 0.05986888181772198), (2046, 0.04091350536200565), (2047, 0.027024715412767738), (2048, 0.0032751825298121167), (2049, 0.003508079754809535), (2050, 0.0), (2051, 0.03693806266928401), (2052, 0.0), (2053, 0.0032852533918778623), (2054, 0.0), (2055, 0.002884011049084121), (2056, 0.02543868997171672), (2057, 0.0), (2058, 0.009763158367808238), (2059, 0.0), (2060, 0.0031497785360342884), (2061, 0.014180895379368876), (2062, 0.010475796625763029), (2063, 0.0), (2064, 0.0), (2065, 0.0028588550277629196), (2066, 0.0), (2067, 0.013482556984288732), (2068, 0.0030237301175508498), (2069, 0.003126457042452794), (2070, 0.0027217883658128294), (2071, 0.0), (2072, 0.013887261599359272), (2073, 0.003243079568049999), (2074, 0.00902226415406926), (2075, 0.004169492695229815), (2076, 0.002683772064624155), (2077, 0.0), (2078, 0.00860433878644267), (2079, 0.0), (2080, 0.024421479145982635), (2081, 0.0), (2082, 0.0), (2083, 0.0033301045300251435), (2084, 0.0), (2085, 0.0), (2086, 0.04293655106495526), (2087, 0.0031123080966072598), (2088, 0.0033338967064857803), (2089, 0.0037390967926766174), (2090, 0.011291353004623993), (2091, 0.014195854635889765), (2092, 0.0), (2093, 0.0094519040022635), (2094, 0.021840129809124677), (2095, 0.03502678497616167), (2096, 0.042048830365474056), (2097, 0.049748229371369634), (2098, 0.0), (2099, 0.019032538163373462), (2100, 0.0), (2101, 0.03227680509097659), (2102, 0.054552971705641905), (2103, 0.0030984867283346284), (2104, 0.003398372283754106), (2105, 0.003388455663532629), (2106, 0.010564959855683467), (2107, 0.0), (2108, 0.00353187779767283), (2109, 0.003207635209862751), (2110, 0.032669870271299965), (2111, 0.054147676073021206), (2112, 0.0035121394019567713), (2113, 0.0), (2114, 0.009108213740736075), (2115, 0.0), (2116, 0.003434374867747532), (2117, 0.0030523032955503465), (2118, 0.020097251001786866), (2119, 0.03800137876187325), (2120, 0.0), (2121, 0.0030293988914938982), (2122, 0.0032124001628946693), (2123, 0.05243989872725286), (2124, 0.03160951538020731), (2125, 0.009894815115163475), (2126, 0.003281648615747948), (2127, 0.002671345067765294), (2128, 0.0), (2129, 0.0029485445121319397), (2130, 0.0), (2131, 0.0030568423772121237), (2132, 0.00265842030651451), (2133, 0.003009795489323983), (2134, 0.003559298427327688), (2135, 0.033073685147429185), (2136, 0.011725371550715152), (2137, 0.004510055149988007), (2138, 0.0), (2139, 0.0), (2140, 0.0), (2141, 0.003041491289040236), (2142, 0.003711226013232687), (2143, 0.025108581437775498), (2144, 0.020539612609921376), (2145, 0.0), (2146, 0.002719395713313969), (2147, 0.0), (2148, 0.0032982173586861667), (2149, 0.002973176279782928), (2150, 0.0), (2151, 0.0033927041410229813), (2152, 0.0), (2153, 0.0), (2154, 0.004075925312450424), (2155, 0.003237715667064343), (2156, 0.022605915033433885), (2157, 0.011269215984537999), (2158, 0.0), (2159, 0.0035088850212715616), (2160, 0.016166693663293655), (2161, 0.026115257278629952), (2162, 0.003417178362378138), (2163, 0.022553692978290296), (2164, 0.0), (2165, 0.0), (2166, 0.019177191833738217), (2167, 0.009820557454067295), (2168, 0.039441623358769516), (2169, 0.0393059244278386), (2170, 0.0), (2171, 0.0), (2172, 0.0), (2173, 0.003133448073814147), (2174, 0.003154137790546383), (2175, 0.0), (2176, 0.0035127696700665133), (2177, 0.009301037443257986), (2178, 0.010523303193531824), (2179, 0.0), (2180, 0.012367023514517008), (2181, 0.0), (2182, 0.029656172786969665), (2183, 0.0), (2184, 0.0), (2185, 0.0), (2186, 0.0), (2187, 0.003652054697315723), (2188, 0.0038834841437364637), (2189, 0.004466812456509313), (2190, 0.03150759754507945), (2191, 0.0028537678059612566), (2192, 0.003204536580854063), (2193, 0.003211036450635372), (2194, 0.0), (2195, 0.0133666428883953), (2196, 0.03587744165947117), (2197, 0.0), (2198, 0.0), (2199, 0.004142188126982293), (2200, 0.0), (2201, 0.027191418735830128), (2202, 0.0), (2203, 0.05843099942907911), (2204, 0.0), (2205, 0.0196932139836046), (2206, 0.0), (2207, 0.00935640607916454), (2208, 0.0), (2209, 0.03293198057090927), (2210, 0.0032353228566675547), (2211, 0.019793108147372312), (2212, 0.026204702788804376), (2213, 0.0028376645132328466), (2214, 0.0034598145853978004), (2215, 0.0), (2216, 0.033438828056308816), (2217, 0.011326068386735999), (2218, 0.0), (2219, 0.035040939074697436), (2220, 0.0), (2221, 0.011639569237817561), (2222, 0.0), (2223, 0.003618061077778571), (2224, 0.0030195087354133888), (2225, 0.04137605625640132), (2226, 0.0031115236507553187), (2227, 0.01835917786032434), (2228, 0.0), (2229, 0.03342160276248016), (2230, 0.01376363733319835), (2231, 0.018985646844192357), (2232, 0.010569709274021722), (2233, 0.011872699024443911), (2234, 0.0), (2235, 0.0), (2236, 0.002887522257988727), (2237, 0.002792233733444777), (2238, 0.13961997315502628), (2239, 0.009968996258782259), (2240, 0.01176090675155734), (2241, 0.04525459350667917), (2242, 0.012738542348295072), (2243, 0.0), (2244, 0.01889539278552859), (2245, 0.0), (2246, 0.010200686810856818), (2247, 0.0970520682759812), (2248, 0.002860766601887823), (2249, 0.04965508606083062), (2250, 0.013373051446967687), (2251, 0.00442746343409332), (2252, 0.023805330475775495), (2253, 0.0), (2254, 0.003414687229422996), (2255, 0.004105431183417525), (2256, 0.0), (2257, 0.004096885239130176), (2258, 0.023958209564623054), (2259, 0.010624321385308756), (2260, 0.0034040186239199088), (2261, 0.0), (2262, 0.0), (2263, 0.0), (2264, 0.0028270021725251486), (2265, 0.05461453610203118), (2266, 0.003918169329988713), (2267, 0.0), (2268, 0.003073196939147064), (2269, 0.016249736440363184), (2270, 0.057284293551279425), (2271, 0.0), (2272, 0.058626938878926546), (2273, 0.0), (2274, 0.0), (2275, 0.0), (2276, 0.05799020504491017), (2277, 0.024552395925825674), (2278, 0.04216621304732796), (2279, 0.003100458199656322), (2280, 0.020841025678822046), (2281, 0.022793250637493392), (2282, 0.0), (2283, 0.022420504381804124), (2284, 0.0031992589824723357), (2285, 0.0028633121031057455), (2286, 0.017892672820187663), (2287, 0.002654785101314628), (2288, 0.0033658195652974355), (2289, 0.003160054822597357), (2290, 0.010428999015207163), (2291, 0.0), (2292, 0.0032409360346552342), (2293, 0.0034685454266404855), (2294, 0.008828965105917344), (2295, 0.003232682050589399), (2296, 0.0), (2297, 0.0), (2298, 0.0), (2299, 0.005088505728613882), (2300, 0.0), (2301, 0.012259408605169829), (2302, 0.003614294970030245), (2303, 0.023838976679211782), (2304, 0.01919604378311514), (2305, 0.0), (2306, 0.004025959204594926), (2307, 0.0), (2308, 0.03303701252352146), (2309, 0.0030397058474381307), (2310, 0.004254537751635241), (2311, 0.024832712232391824), (2312, 0.0), (2313, 0.003230683997308876), (2314, 0.025389072391446058), (2315, 0.0), (2316, 0.0), (2317, 0.002944290234031793), (2318, 0.0), (2319, 0.0033056943885807484), (2320, 0.07898036410933776), (2321, 0.09940631006880793), (2322, 0.0), (2323, 0.002871593454778265), (2324, 0.008211265424094177), (2325, 0.0), (2326, 0.028430019423530496), (2327, 0.009528457096085147), (2328, 0.03620120881997889), (2329, 0.0), (2330, 0.011438788330451569), (2331, 0.0), (2332, 0.030224054268204344), (2333, 0.0), (2334, 0.020958715966915113), (2335, 0.0), (2336, 0.02295000149995348), (2337, 0.011454246253242718), (2338, 0.012108450723077955), (2339, 0.0), (2340, 0.0031899730421860195), (2341, 0.0), (2342, 0.0), (2343, 0.0), (2344, 0.0031887043326192088), (2345, 0.0), (2346, 0.003618007720759832), (2347, 0.002925196136532097), (2348, 0.0029972687105843223), (2349, 0.004405888266647453), (2350, 0.004088970141251578), (2351, 0.0), (2352, 0.01468297360481929), (2353, 0.0), (2354, 0.0031852626264801368), (2355, 0.011672554767163543), (2356, 0.0035572219689955975), (2357, 0.012282194103200741), (2358, 0.0), (2359, 0.019716117312259772), (2360, 0.0), (2361, 0.003375243927651541), (2362, 0.03579897134809503), (2363, 0.0), (2364, 0.0), (2365, 0.0), (2366, 0.0), (2367, 0.0349211079165032), (2368, 0.0), (2369, 0.0), (2370, 0.02736011663609605), (2371, 0.09702935391406235), (2372, 0.0), (2373, 0.0), (2374, 0.013582409580707576), (2375, 0.07840428791340368), (2376, 0.02399746424340656), (2377, 0.0326713180844835), (2378, 0.003744839644254714), (2379, 0.00459235452040533), (2380, 0.01797070486725637), (2381, 0.0), (2382, 0.002725850416986486), (2383, 0.0), (2384, 0.011382271201970197), (2385, 0.026622329979583356), (2386, 0.0032533134086140942), (2387, 0.003175170332305693), (2388, 0.007813371275429786), (2389, 0.0), (2390, 0.003488371747184749), (2391, 0.003398642760518258), (2392, 0.004154792723080146), (2393, 0.0033958527284355445), (2394, 0.0033529784940101535), (2395, 0.0), (2396, 0.03581883564164005), (2397, 0.0032362839561992994), (2398, 0.0), (2399, 0.0029373176181607106), (2400, 0.015158350562166106), (2401, 0.0030925664175013136), (2402, 0.012137131169556422), (2403, 0.02346909227599352), (2404, 0.004328092350836212), (2405, 0.030401377267602447), (2406, 0.00373775174340445), (2407, 0.004398631440260806), (2408, 0.0), (2409, 0.02514260567808672), (2410, 0.0034908482083142447), (2411, 0.029737029642277223), (2412, 0.0027630213113671452), (2413, 0.03555755645242709), (2414, 0.0), (2415, 0.0038612433026882324), (2416, 0.03343740443916073), (2417, 0.003725755586994871), (2418, 0.003372994486027013), (2419, 0.04102967424789001), (2420, 0.0), (2421, 0.011023164701523173), (2422, 0.003088860553901612), (2423, 0.004010221131830291), (2424, 0.0), (2425, 0.004124104403572795), (2426, 0.0), (2427, 0.0036962200046966407), (2428, 0.01479023292523997), (2429, 0.023533162610185086), (2430, 0.0032284766003235735), (2431, 0.0), (2432, 0.020279213164892347), (2433, 0.0), (2434, 0.0038041299568119537), (2435, 0.0), (2436, 0.0035565163484270524), (2437, 0.02868986393785567), (2438, 0.003941488396229314), (2439, 0.008882457550582278), (2440, 0.006463246623867504), (2441, 0.010852591133713185), (2442, 0.010061803858905876), (2443, 0.009195055768501893), (2444, 0.0), (2445, 0.05809331748224668), (2446, 0.0029555111823908312), (2447, 0.05504223990519661), (2448, 0.11297095647189226), (2449, 0.0), (2450, 0.010057396503474753), (2451, 0.04311969113346162), (2452, 0.0), (2453, 0.0029246198808966666), (2454, 0.0038424668843901927), (2455, 0.0), (2456, 0.010548101549466136), (2457, 0.0028624218663861113), (2458, 0.0), (2459, 0.02478467179527668), (2460, 0.0), (2461, 0.0635063609542059), (2462, 0.0), (2463, 0.028732192420027548), (2464, 0.0034899035287241755), (2465, 0.02224366291032885), (2466, 0.003267959894831346), (2467, 0.003070085982358208), (2468, 0.0), (2469, 0.0024913827224772576), (2470, 0.0), (2471, 0.010694701881660147), (2472, 0.0), (2473, 0.03249423364393917), (2474, 0.002441353587604866), (2475, 0.003422056498610309), (2476, 0.0), (2477, 0.028373684654049134), (2478, 0.0036529454311960644), (2479, 0.012081151494001158), (2480, 0.0), (2481, 0.002649936086895299), (2482, 0.024206718749063202), (2483, 0.0), (2484, 0.018720268512729107), (2485, 0.0), (2486, 0.0), (2487, 0.0), (2488, 0.0038888640660302717), (2489, 0.0032428610330286637), (2490, 0.004586391346701816), (2491, 0.0), (2492, 0.029765818994583373), (2493, 0.0), (2494, 0.003430738020282437), (2495, 0.0031818088085607227), (2496, 0.013093366413018925), (2497, 0.0), (2498, 0.03384623804280957), (2499, 0.0), (2500, 0.015094711273599687), (2501, 0.010870925994574981), (2502, 0.002807528358376478), (2503, 0.010134282543326031), (2504, 0.0), (2505, 0.0035339308099725125), (2506, 0.0), (2507, 0.0034567008897102435), (2508, 0.0), (2509, 0.002614967763306024), (2510, 0.0), (2511, 0.0), (2512, 0.03387455458567726), (2513, 0.0), (2514, 0.0), (2515, 0.0), (2516, 0.0), (2517, 0.0), (2518, 0.0), (2519, 0.017721669551447827), (2520, 0.0027584963512074403), (2521, 0.01408520641543865), (2522, 0.003391384205231075), (2523, 0.0), (2524, 0.00823514018476215), (2525, 0.03747796080949352), (2526, 0.0026035606300819107), (2527, 0.012041910783729721), (2528, 0.002955058256317234), (2529, 0.03812165843806077), (2530, 0.004044410530541348), (2531, 0.0033163100220736904), (2532, 0.0), (2533, 0.0032004626476314206), (2534, 0.0014194983232319615), (2535, 0.0035268630240546666), (2536, 0.0), (2537, 0.0043652066764983425), (2538, 0.0019039420894692756), (2539, 0.018263648693085006), (2540, 0.003032777963611212), (2541, 0.0), (2542, 0.022978315534944435), (2543, 0.0), (2544, 0.006920356250008457), (2545, 0.003315244640279971), (2546, 0.0033126067554406263), (2547, 0.04048593027830098), (2548, 0.0), (2549, 0.0), (2550, 0.0023795019825306324), (2551, 0.010384111190000126), (2552, 0.036265323425947356), (2553, 0.013065708378768894), (2554, 0.025498962337488), (2555, 0.007237111583143565), (2556, 0.0029506224291813155), (2557, 0.003946517341567723), (2558, 0.0031825091399267044), (2559, 0.004183072442029502), (2560, 0.0036521341292964186), (2561, 0.0033198018705558018), (2562, 0.0), (2563, 0.021719603753029046), (2564, 0.0), (2565, 0.003375583634451911), (2566, 0.0), (2567, 0.0), (2568, 0.003891802715346634), (2569, 0.0031442852782822017), (2570, 0.034815544073121145), (2571, 0.013526991309610544), (2572, 0.07391591933716403), (2573, 0.00886835094996522), (2574, 0.0), (2575, 0.0), (2576, 0.01943637386862939), (2577, 0.0), (2578, 0.010112637235896033), (2579, 0.0035668029698796362), (2580, 0.002841715783535084), (2581, 0.0), (2582, 0.02992103487741654), (2583, 0.0), (2584, 0.0), (2585, 0.0035423552997948956), (2586, 0.0), (2587, 0.002823875016650152), (2588, 0.0346123567988214), (2589, 0.0), (2590, 0.0), (2591, 0.0028548240588469644), (2592, 0.0035227786080099526), (2593, 0.06116958896124172), (2594, 0.0), (2595, 0.0034513893039635297), (2596, 0.07832618403119004), (2597, 0.04870532429124549), (2598, 0.003010604566338626), (2599, 0.0116931982589751), (2600, 0.0), (2601, 0.0033185943139549994), (2602, 0.0026403377669271446), (2603, 0.0026725687823772547), (2604, 0.0), (2605, 0.011293758707280268), (2606, 0.047697733435742594), (2607, 0.0028522517852428175), (2608, 0.02223564230101534), (2609, 0.003394086399759526), (2610, 0.003362894391193636), (2611, 0.0027299476787688713), (2612, 0.0030732257707667097), (2613, 0.0037487682271527753), (2614, 0.006910337152000524), (2615, 0.0), (2616, 0.009992525146560011), (2617, 0.0028055112243705054), (2618, 0.010303884892470335), (2619, 0.003832030426341846), (2620, 0.0), (2621, 0.0027684669484186616), (2622, 0.00917888812545867), (2623, 0.003602361901632797), (2624, 0.0034818940847260514), (2625, 0.023394829892806713), (2626, 0.02532987839549359), (2627, 0.0), (2628, 0.004165624114994035), (2629, 0.003612195521470805), (2630, 0.02458114375347295), (2631, 0.0), (2632, 0.013086959823207154), (2633, 0.0033406748698503936), (2634, 0.00297329144400165), (2635, 0.0), (2636, 0.002388996591254097), (2637, 0.010972530766240036), (2638, 0.050159571231288266), (2639, 0.0), (2640, 0.003329454738860835), (2641, 0.0), (2642, 0.041329402726346415), (2643, 0.004115409258296881), (2644, 0.01029437619198531), (2645, 0.0040951986417842486), (2646, 0.0), (2647, 0.03097486554842715), (2648, 0.0), (2649, 0.004494829320633531), (2650, 0.0033061045343138534), (2651, 0.003010633146149457), (2652, 0.0032169807406852557), (2653, 0.019649684362059334), (2654, 0.0), (2655, 0.004216981200106811), (2656, 0.0), (2657, 0.0), (2658, 0.0), (2659, 0.0), (2660, 0.0), (2661, 0.003415981484413399), (2662, 0.0), (2663, 0.0), (2664, 0.0033924313862541875), (2665, 0.00841524975920548), (2666, 0.009945488424363748), (2667, 0.0), (2668, 0.003274134952227876), (2669, 0.0), (2670, 0.0), (2671, 0.04312349748451083), (2672, 0.0), (2673, 0.004233045153093921), (2674, 0.0029291939580134993), (2675, 0.05511353461194736), (2676, 0.0), (2677, 0.009957481715131914), (2678, 0.0051823776424533945), (2679, 0.003011109762118751), (2680, 0.010370528315377206), (2681, 0.0), (2682, 0.04331485050280168), (2683, 0.0), (2684, 0.0), (2685, 0.010371805258649348), (2686, 0.0), (2687, 0.024867915661966444), (2688, 0.0), (2689, 0.02230226055504137), (2690, 0.0), (2691, 0.035267363952890644), (2692, 0.0027632161822077734), (2693, 0.024541453045637516), (2694, 0.1506721924092654), (2695, 0.0031860154664491987), (2696, 0.003699055824331355), (2697, 0.002605048640044323), (2698, 0.01305759475569476), (2699, 0.05690356083160379), (2700, 0.0), (2701, 0.0), (2702, 0.0338086214058175), (2703, 0.08037023547554097), (2704, 0.0), (2705, 0.0034455056056843522), (2706, 0.0030252027153505217), (2707, 0.003734685556604902), (2708, 0.011027691399040676), (2709, 0.0), (2710, 0.0), (2711, 0.010294372611346126), (2712, 0.0033999039718064805), (2713, 0.010598683533831015), (2714, 0.003367719395427609), (2715, 0.014242718263875832), (2716, 0.003065053856334867), (2717, 0.0), (2718, 0.0), (2719, 0.0), (2720, 0.003729484071819608), (2721, 0.0027649650576407865), (2722, 0.028585676164923038), (2723, 0.0034127205596217575), (2724, 0.012441238505958687), (2725, 0.0034031364373411344), (2726, 0.0), (2727, 0.0), (2728, 0.0028964238804982164), (2729, 0.011542240268047763), (2730, 0.012556855482354546), (2731, 0.004271348325659354), (2732, 0.010422810125686502), (2733, 0.0), (2734, 0.0), (2735, 0.0029380214899947747), (2736, 0.0), (2737, 0.0), (2738, 0.0037552015902301335), (2739, 0.027738546085314796), (2740, 0.03660562214537339), (2741, 0.0028651178727513225), (2742, 0.0), (2743, 0.0027282068098090652), (2744, 0.03029414210761456), (2745, 0.0032118765633359237), (2746, 0.01362670063631338), (2747, 0.002757251519954482), (2748, 0.003460256095200283), (2749, 0.019147371203614517), (2750, 0.0), (2751, 0.0), (2752, 0.0030435136070811534), (2753, 0.017938734135543685), (2754, 0.0), (2755, 0.035874596288335045), (2756, 0.025327071937199776), (2757, 0.004870426684883571), (2758, 0.0027025219269620664), (2759, 0.0), (2760, 0.002442381437165943), (2761, 0.10644060235849205), (2762, 0.044679934146179094), (2763, 0.0), (2764, 0.03741470630690983), (2765, 0.0030247030765667847), (2766, 0.002524921630256046), (2767, 0.002482579584541382), (2768, 0.004523315421897561), (2769, 0.0037559092317773326), (2770, 0.008946513699917506), (2771, 0.0027000969468169095), (2772, 0.00376942649799803), (2773, 0.0), (2774, 0.0), (2775, 0.12952924126813928), (2776, 0.0034271844028942815), (2777, 0.0029443684920624183), (2778, 0.003847702158484229), (2779, 0.0030376757751634335), (2780, 0.0177891079704), (2781, 0.0), (2782, 0.003542189463856076), (2783, 0.003202364214603816), (2784, 0.003252461188378605), (2785, 0.0), (2786, 0.03130243614721561), (2787, 0.0), (2788, 0.0), (2789, 0.01748777491857385), (2790, 0.022120562172771925), (2791, 0.0), (2792, 0.003371252720102099), (2793, 0.0), (2794, 0.0), (2795, 0.004018565641592576), (2796, 0.0036416041466358785), (2797, 0.003894843776681305), (2798, 0.0032313139546191636), (2799, 0.011438539161224554), (2800, 0.0030063795718587574), (2801, 0.01895299663251414), (2802, 0.0031115202658254203), (2803, 0.01219635326530832), (2804, 0.03621706255796911), (2805, 0.0), (2806, 0.0), (2807, 0.03016163754336192), (2808, 0.0030833865323818066), (2809, 0.006698836544883155), (2810, 0.022907747356542038), (2811, 0.0), (2812, 0.0029988688350097922), (2813, 0.0), (2814, 0.021934689851513325), (2815, 0.0), (2816, 0.0), (2817, 0.010897539458451788), (2818, 0.0), (2819, 0.0), (2820, 0.0), (2821, 0.0033781316983352134), (2822, 0.0), (2823, 0.0), (2824, 0.010540262734187265), (2825, 0.0), (2826, 0.013473543008742612), (2827, 0.0), (2828, 0.0327664302731735), (2829, 0.0), (2830, 0.0035414720141553413), (2831, 0.003185746044503989), (2832, 0.004176017046420886), (2833, 0.0), (2834, 0.00394779882335347), (2835, 0.0), (2836, 0.0), (2837, 0.013033743334509754), (2838, 0.08682420021306338), (2839, 0.03532431271366282), (2840, 0.003549038937986015), (2841, 0.007485767025008759), (2842, 0.0), (2843, 0.012014001361633383), (2844, 0.016817715012125915), (2845, 0.0029288327800342144), (2846, 0.0037233748411326538), (2847, 0.0), (2848, 0.06184114520249677), (2849, 0.0033640785517213543), (2850, 0.010752735220510238), (2851, 0.0), (2852, 0.03275286153334985), (2853, 0.08675910473710993), (2854, 0.0035340172961559413), (2855, 0.0), (2856, 0.0), (2857, 0.003927930867234129), (2858, 0.0045103069245747964), (2859, 0.0030168487540017737), (2860, 0.011738064601435944), (2861, 0.004217793063697851), (2862, 0.0029655401989136963), (2863, 0.0032809794158033022), (2864, 0.0), (2865, 0.01638657117008683), (2866, 0.0), (2867, 0.0), (2868, 0.002944022535763203), (2869, 0.0), (2870, 0.027604042769251456), (2871, 0.0), (2872, 0.0036628874978078554), (2873, 0.0), (2874, 0.0), (2875, 0.0), (2876, 0.021110392834913318), (2877, 0.008580043456270604), (2878, 0.003354346054769527), (2879, 0.0038752915132705536), (2880, 0.0), (2881, 0.0036039229640488146), (2882, 0.0034578566339785602), (2883, 0.0043061328793289905), (2884, 0.0036733499039832305), (2885, 0.0), (2886, 0.0030358917099101864), (2887, 0.0032242882688195817), (2888, 0.0034469518080407035), (2889, 0.004380475777715595), (2890, 0.0035112916664532794), (2891, 0.0), (2892, 0.012721724064080496), (2893, 0.0036085570099911196), (2894, 0.0032654588964051274), (2895, 0.003808868270358387), (2896, 0.0), (2897, 0.0), (2898, 0.011789878777979528), (2899, 0.013161488078074136), (2900, 0.003171971078369718), (2901, 0.004085516066772634), (2902, 0.039922605221088044), (2903, 0.003568497693938413), (2904, 0.03691994390762259), (2905, 0.0), (2906, 0.0), (2907, 0.002951185398561368), (2908, 0.0025571439002437914), (2909, 0.0031034376533060925), (2910, 0.01311273952068127), (2911, 0.0033117547375835707), (2912, 0.003081193880252283), (2913, 0.0), (2914, 0.003598732281387528), (2915, 0.035355107592819714), (2916, 0.0035642944915763148), (2917, 0.020685168419705382), (2918, 0.0), (2919, 0.07685504005747786), (2920, 0.0029114929851438128), (2921, 0.0), (2922, 0.0), (2923, 0.004287443186621923), (2924, 0.0036904010117781508), (2925, 0.002554887629271938), (2926, 0.0033278772537868703), (2927, 0.013110512802171261), (2928, 0.0), (2929, 0.022642169410361866), (2930, 0.06106869420080489), (2931, 0.0028784601308921953), (2932, 0.004207235275856775), (2933, 0.002702337965541202), (2934, 0.0032052739513063317), (2935, 0.0), (2936, 0.02305068257943434), (2937, 0.004569349650919596), (2938, 0.0247131667838467), (2939, 0.02874496875425252), (2940, 0.003401145625453633), (2941, 0.0), (2942, 0.0027535335034521995), (2943, 0.0031706536100452945), (2944, 0.03955955801852367), (2945, 0.024742320435742014), (2946, 0.003131585979999536), (2947, 0.0), (2948, 0.0), (2949, 0.003399991143066785), (2950, 0.010281240298466124), (2951, 0.0), (2952, 0.0), (2953, 0.026754430072363212), (2954, 0.039168594299738346), (2955, 0.011047996088072783), (2956, 0.0), (2957, 0.02491161519929045), (2958, 0.0), (2959, 0.010758723622360074), (2960, 0.0), (2961, 0.003132191018667061), (2962, 0.009725283558725498), (2963, 0.0), (2964, 0.014321317515886394), (2965, 0.003022753482792528), (2966, 0.003868309641848321), (2967, 0.0), (2968, 0.0), (2969, 0.0026391892060863707), (2970, 0.0033917639081576315), (2971, 0.0), (2972, 0.019193793426966525), (2973, 0.0), (2974, 0.003572630562058705), (2975, 0.03431000009279349), (2976, 0.0672606004920237), (2977, 0.0032581611733549843), (2978, 0.0), (2979, 0.0), (2980, 0.0031208197982504613), (2981, 0.08429988129984037), (2982, 0.01231229577757531), (2983, 0.027884605247572452), (2984, 0.0), (2985, 0.06485983241742442), (2986, 0.003763917179494587), (2987, 0.0036735990682133027), (2988, 0.027085869260585635), (2989, 0.0044339660234195164), (2990, 0.0), (2991, 0.0), (2992, 0.023671124587026682), (2993, 0.00383810464136301), (2994, 0.0), (2995, 0.013269436288353215), (2996, 0.0035018760871822763), (2997, 0.0030076633435964224), (2998, 0.004777146559878487), (2999, 0.029412946605119998), (3000, 0.025879639574571595), (3001, 0.01198922789993313), (3002, 0.0), (3003, 0.003534896339729128), (3004, 0.003919359204642587), (3005, 0.0), (3006, 0.0), (3007, 0.0033994586261382903), (3008, 0.0), (3009, 0.0), (3010, 0.0030684900957910874), (3011, 0.0), (3012, 0.0035676035468100433), (3013, 0.003589653711009167), (3014, 0.003003981976023192), (3015, 0.004032319412933706), (3016, 0.029328894482559438), (3017, 0.0), (3018, 0.0), (3019, 0.003704351468592802), (3020, 0.0038630261998645163), (3021, 0.010210625826032245), (3022, 0.012586331826946007), (3023, 0.0), (3024, 0.002632321954255364), (3025, 0.028427978014283862), (3026, 0.003515689029702943), (3027, 0.0028634351880901248), (3028, 0.025377862729087788), (3029, 0.0), (3030, 0.004310774878904381), (3031, 0.003887092335442581), (3032, 0.02829244495836651), (3033, 0.0), (3034, 0.0), (3035, 0.0030293247442399946), (3036, 0.00302534699445467), (3037, 0.0033588738016043815), (3038, 0.0), (3039, 0.0), (3040, 0.004443847583768836), (3041, 0.05480100285985699), (3042, 0.0043115319355984645), (3043, 0.04129857523475303), (3044, 0.03561951043637933), (3045, 0.008934324432263075), (3046, 0.003120984358493464), (3047, 0.009824449729380279), (3048, 0.011460388366093813), (3049, 0.0), (3050, 0.0029153917427562335), (3051, 0.01997151104864097), (3052, 0.004346404251059165), (3053, 0.0), (3054, 0.0), (3055, 0.004330014083191521), (3056, 0.011102533128651868), (3057, 0.02742106427431863), (3058, 0.0), (3059, 0.011590249588107724), (3060, 0.0), (3061, 0.03364603264568003), (3062, 0.003527859693000968), (3063, 0.02997760072023293), (3064, 0.0034624963973203717), (3065, 0.0027028516106250835), (3066, 0.0), (3067, 0.0031435600290821058), (3068, 0.035822696312571845), (3069, 0.0031074703465969467), (3070, 0.0), (3071, 0.002980518077268669), (3072, 0.00369843951259627), (3073, 0.09209426926017082), (3074, 0.0039040801209424677), (3075, 0.003090460787750523), (3076, 0.004164467774071369), (3077, 0.0), (3078, 0.0), (3079, 0.009970734985035912), (3080, 0.012059079261147873), (3081, 0.0037448856026444113), (3082, 0.0), (3083, 0.0), (3084, 0.00337495773814778), (3085, 0.0), (3086, 0.003437507657040208), (3087, 0.0), (3088, 0.0), (3089, 0.013144871681049634), (3090, 0.0), (3091, 0.002663455306457789), (3092, 0.0), (3093, 0.003131622707632232), (3094, 0.09959663378654603), (3095, 0.03067178130408565), (3096, 0.022828449619088167), (3097, 0.003508814512308566), (3098, 0.0), (3099, 0.0), (3100, 0.019652461349569814), (3101, 0.04030481942686785), (3102, 0.0), (3103, 0.0), (3104, 0.0), (3105, 0.010330907547768272), (3106, 0.0), (3107, 0.0), (3108, 0.01202858292022832), (3109, 0.01088438887331659), (3110, 0.0), (3111, 0.002848030343290194), (3112, 0.0034217360043886443), (3113, 0.003245568583215682), (3114, 0.01000158154382329), (3115, 0.0), (3116, 0.003496734308510884), (3117, 0.0), (3118, 0.0), (3119, 0.004362466631817705), (3120, 0.002946056835211233), (3121, 0.0), (3122, 0.0225345507885621), (3123, 0.017077759552599617), (3124, 0.0), (3125, 0.003197807712643085), (3126, 0.0), (3127, 0.0098994220057261), (3128, 0.02566833760989052), (3129, 0.008780481082450723), (3130, 0.04211009049252474), (3131, 0.011574786894449601), (3132, 0.04256576256847), (3133, 0.03773665069814438), (3134, 0.04190309504846482), (3135, 0.0), (3136, 0.0095318263211915), (3137, 0.005906823298815334), (3138, 0.054082498085626915), (3139, 0.004505240452254227), (3140, 0.004004649068313755), (3141, 0.010423261748245842), (3142, 0.0), (3143, 0.015956357979060424), (3144, 0.0), (3145, 0.0), (3146, 0.003559324135974026), (3147, 0.002962356271649976), (3148, 0.06258726357319981), (3149, 0.03104022059552373), (3150, 0.0033293251961627355), (3151, 0.003031166486648107), (3152, 0.002483145838052396), (3153, 0.02096820759038677), (3154, 0.02492275938547413), (3155, 0.003203857566670107), (3156, 0.00984329473955853), (3157, 0.00354183506713743), (3158, 0.01212587443795942), (3159, 0.003938314628333863), (3160, 0.018480291981497074), (3161, 0.0), (3162, 0.0), (3163, 0.0), (3164, 0.0), (3165, 0.0036548739191774194), (3166, 0.00441393608652449), (3167, 0.0028497288096712005), (3168, 0.019345886507214843), (3169, 0.017612831336883832), (3170, 0.0030272480582400423), (3171, 0.003026939123008039), (3172, 0.0), (3173, 0.01319846704929056), (3174, 0.003173594773464993), (3175, 0.0), (3176, 0.0), (3177, 0.0), (3178, 0.005031054204155822), (3179, 0.0), (3180, 0.012036430495284528), (3181, 0.04164751293520136), (3182, 0.05160984043236385), (3183, 0.0034845384464848995), (3184, 0.014394674540679747), (3185, 0.035019961099482085), (3186, 0.0036080598650174525), (3187, 0.003348606264507587), (3188, 0.01020824211890374), (3189, 0.0), (3190, 0.0), (3191, 0.0111380453445063), (3192, 0.0), (3193, 0.010162996755130936), (3194, 0.0030034801748555847), (3195, 0.003131478914898207), (3196, 0.032777481119630116), (3197, 0.028115980347392797), (3198, 0.0032872236331097896), (3199, 0.002464187801929749), (3200, 0.03751001897847611), (3201, 0.009643372459401786), (3202, 0.0), (3203, 0.027795537043465077), (3204, 0.0229984618441388), (3205, 0.0), (3206, 0.016215033047333734), (3207, 0.011230808065837847), (3208, 0.02775043975375738), (3209, 0.0), (3210, 0.01351842746093963), (3211, 0.06441353808804073), (3212, 0.021593889551855514), (3213, 0.0), (3214, 0.0030379116610117114), (3215, 0.0), (3216, 0.003166568345428201), (3217, 0.0), (3218, 0.003392432162254827), (3219, 0.00415850911923597), (3220, 0.0031099684708068565), (3221, 0.0), (3222, 0.0), (3223, 0.02529000289672311), (3224, 0.027341598969374988), (3225, 0.04440250016628071), (3226, 0.005853335402754157), (3227, 0.0032084604959550047), (3228, 0.0038617006756893296), (3229, 0.0), (3230, 0.0036736861657426212), (3231, 0.009688221061267512), (3232, 0.0), (3233, 0.01440363805521608), (3234, 0.03571790276699339), (3235, 0.014287017826123249), (3236, 0.0), (3237, 0.020112345396265628), (3238, 0.05846693262261733), (3239, 0.004011878045949695), (3240, 0.0061499577656309685), (3241, 0.0033197425873739473), (3242, 0.0033408604702690583), (3243, 0.0029803321831447308), (3244, 0.0), (3245, 0.0), (3246, 0.012847998423256214), (3247, 0.0097848347109594), (3248, 0.0035488498948934707), (3249, 0.003979880335608281), (3250, 0.0), (3251, 0.0), (3252, 0.0026514933859361927), (3253, 0.019537416320089613), (3254, 0.010958058113011234), (3255, 0.0), (3256, 0.0), (3257, 0.003834260409872698), (3258, 0.0034601838424952614), (3259, 0.0), (3260, 0.0031220605439147525), (3261, 0.0), (3262, 0.004094420615787701), (3263, 0.0), (3264, 0.014151223828022575), (3265, 0.0), (3266, 0.0), (3267, 0.07757731762292226), (3268, 0.037273925296037604), (3269, 0.0034420993401638794), (3270, 0.010748544251496794), (3271, 0.0034382455099002843), (3272, 0.0), (3273, 0.0035426242533875794), (3274, 0.0035853360296016143), (3275, 0.03574477889494346), (3276, 0.004803492623603621), (3277, 0.021522006393733296), (3278, 0.002893423626497542), (3279, 0.0), (3280, 0.0), (3281, 0.0), (3282, 0.017380436148569614), (3283, 0.030130114146848963), (3284, 0.0029143676714841224), (3285, 0.002392215159333954), (3286, 0.0), (3287, 0.017761029416256395), (3288, 0.0), (3289, 0.00326109115006269), (3290, 0.0032747125841781897), (3291, 0.004276178321590447), (3292, 0.004153958222452774), (3293, 0.003011833481884512), (3294, 0.00997861009674872), (3295, 0.0), (3296, 0.0036192040750357576), (3297, 0.0033812018687118584), (3298, 0.013524605588682374), (3299, 0.00316198127525726), (3300, 0.039037269938005846), (3301, 0.002491842622132887), (3302, 0.003877083292803523), (3303, 0.0032382150863473347), (3304, 0.012135321140925897), (3305, 0.011400670823380879), (3306, 0.002917281374330785), (3307, 0.0036963124533293985), (3308, 0.0037672265301330245), (3309, 0.0), (3310, 0.0), (3311, 0.00287846595541104), (3312, 0.0), (3313, 0.028870904131615135), (3314, 0.0033748443967882664), (3315, 0.051543463674970515), (3316, 0.0024477606728328222), (3317, 0.0026063027515605716), (3318, 0.0028679115873784587), (3319, 0.0), (3320, 0.0), (3321, 0.02442542644844577), (3322, 0.004095389970751627), (3323, 0.06295844935439825), (3324, 0.0), (3325, 0.005685292281535769), (3326, 0.0033702548979083766), (3327, 0.002854224493078269), (3328, 0.002091543966083799), (3329, 0.002909086189706515), (3330, 0.0031712533078838336), (3331, 0.011671087830576788), (3332, 0.010948449187141574), (3333, 0.022081859017269286), (3334, 0.0), (3335, 0.0032151101765072214), (3336, 0.0028641309744245405), (3337, 0.003671639724835865), (3338, 0.0), (3339, 0.0), (3340, 0.0), (3341, 0.003191001070357389), (3342, 0.07105497303324074), (3343, 0.02602191171310574), (3344, 0.0564194945851875), (3345, 0.0), (3346, 0.0031736312133547073), (3347, 0.011248468315979136), (3348, 0.003079498117133197), (3349, 0.0033013580350784084), (3350, 0.0), (3351, 0.04075941561214166), (3352, 0.003060078280870993), (3353, 0.0033082121864298412), (3354, 0.0040062915439882775), (3355, 0.023426552780406187), (3356, 0.0), (3357, 0.003955369292736647), (3358, 0.0038631779219311276), (3359, 0.0037032216748669926), (3360, 0.00282656486954665), (3361, 0.01024139556229038), (3362, 0.023146183528290405), (3363, 0.003968573578687769), (3364, 0.0154713821563699), (3365, 0.009451127059003615), (3366, 0.0), (3367, 0.010835908170219583), (3368, 0.010562686428070182), (3369, 0.026352289432535883), (3370, 0.003088754848755992), (3371, 0.0), (3372, 0.0033419480454945174), (3373, 0.0035815086828334276), (3374, 0.003157973960626308), (3375, 0.0626847279005166), (3376, 0.002717275778877815), (3377, 0.0), (3378, 0.010664401005595271), (3379, 0.01996371262796216), (3380, 0.034667670172064395), (3381, 0.003144093548668688), (3382, 0.013984494424031838), (3383, 0.0), (3384, 0.011981482433813796), (3385, 0.012125570459863053), (3386, 0.026609449520470865), (3387, 0.0), (3388, 0.014120462520424752), (3389, 0.012876811519980037), (3390, 0.012769253512225222), (3391, 0.007094248534683018), (3392, 0.008904948545952035), (3393, 0.0027367699735400103), (3394, 0.0), (3395, 0.009388451717023266), (3396, 0.0036703766929608913), (3397, 0.0), (3398, 0.010540223352724865), (3399, 0.0029729115644034467), (3400, 0.01998906181408037), (3401, 0.0), (3402, 0.03446011877689469), (3403, 0.0027878677919385107), (3404, 0.0), (3405, 0.017881626066734085), (3406, 0.003358232768617513), (3407, 0.0029873308356329863), (3408, 0.01619107748948696), (3409, 0.02493819509407943), (3410, 0.0025606547503218935), (3411, 0.0), (3412, 0.003103445396527349), (3413, 0.0038220706675603823), (3414, 0.003562012157668249), (3415, 0.0), (3416, 0.022073565717089783), (3417, 0.003504702103693896), (3418, 0.0028877884944377243), (3419, 0.07174859013410448), (3420, 0.0), (3421, 0.027293006790435243), (3422, 0.0), (3423, 0.003641024892523214), (3424, 0.0), (3425, 0.003687071374271188), (3426, 0.009506955140777564), (3427, 0.010859756547387757), (3428, 0.0), (3429, 0.0356587420968517), (3430, 0.011155381249467158), (3431, 0.002555312627251114), (3432, 0.0), (3433, 0.002996232953426462), (3434, 0.0033853194420232014), (3435, 0.003151161561166769), (3436, 0.020493571706440623), (3437, 0.02131701418615226), (3438, 0.010910355952785172), (3439, 0.0), (3440, 0.0), (3441, 0.028990267701223583), (3442, 0.0), (3443, 0.02504043704740404), (3444, 0.0), (3445, 0.0032588684108788616), (3446, 0.0), (3447, 0.003109409442486895), (3448, 0.0), (3449, 0.0034385526131619232), (3450, 0.023649143054954476), (3451, 0.0), (3452, 0.013055628981990443), (3453, 0.023140711142888067), (3454, 0.0), (3455, 0.0029217792642028074), (3456, 0.02093961064696782), (3457, 0.0), (3458, 0.002180065398242269), (3459, 0.0), (3460, 0.012323820256793627), (3461, 0.0), (3462, 0.0), (3463, 0.011160346418433675), (3464, 0.0), (3465, 0.0), (3466, 0.0), (3467, 0.01095718622880334), (3468, 0.022674473067196277), (3469, 0.012115804390284606), (3470, 0.0), (3471, 0.0025300916090744362), (3472, 0.0), (3473, 0.0), (3474, 0.0028914612502715163), (3475, 0.0), (3476, 0.0), (3477, 0.003155349577805396), (3478, 0.003182097526032549), (3479, 0.004249602478080358), (3480, 0.008870949418438292), (3481, 0.0), (3482, 0.0), (3483, 0.014189852370276196), (3484, 0.008997291329877775), (3485, 0.0), (3486, 0.01754183846820434), (3487, 0.00305947493230367), (3488, 0.0), (3489, 0.0), (3490, 0.009814221300522119), (3491, 0.04431997637427782), (3492, 0.0031781745933587608), (3493, 0.0818053903012728), (3494, 0.0), (3495, 0.0), (3496, 0.0034156694758314715), (3497, 0.003476768039664524), (3498, 0.0886217001897043), (3499, 0.0031260457806789196), (3500, 0.026505340547430048), (3501, 0.003234569496115491), (3502, 0.013095044309777294), (3503, 0.031175132475074026), (3504, 0.003047877278343397), (3505, 0.044992666357724115), (3506, 0.01545710073965747), (3507, 0.0), (3508, 0.0), (3509, 0.0), (3510, 0.06804483615986032), (3511, 0.0033495846763217673), (3512, 0.03122435244505449), (3513, 0.01133523437619342), (3514, 0.003321994166004467), (3515, 0.02287380712158225), (3516, 0.05395212813831881), (3517, 0.01387651356741251), (3518, 0.010172468584669662), (3519, 0.0), (3520, 0.010952236729707993), (3521, 0.003920184367857849), (3522, 0.023620942200820845), (3523, 0.00456160056829399), (3524, 0.02395778162374353), (3525, 0.0), (3526, 0.043449975596621504), (3527, 0.003289304791634728), (3528, 0.009966100361944844), (3529, 0.0), (3530, 0.02670293114791248), (3531, 0.0), (3532, 0.012456362630692202), (3533, 0.0), (3534, 0.02213275177368088), (3535, 0.0), (3536, 0.0033017111327680896), (3537, 0.003946897858182435), (3538, 0.010686294439914541), (3539, 0.0), (3540, 0.023749818106903617), (3541, 0.03968357167290228), (3542, 0.014325092452315297), (3543, 0.0), (3544, 0.00387341903405939), (3545, 0.0), (3546, 0.0023740831844961474), (3547, 0.0), (3548, 0.029080370303805534), (3549, 0.0), (3550, 0.009493206592107799), (3551, 0.013526395918142455), (3552, 0.005175343370318257), (3553, 0.003153741869821978), (3554, 0.0), (3555, 0.01665133510756507), (3556, 0.0028452053582346203), (3557, 0.0031204420586310342), (3558, 0.002937747032999888), (3559, 0.00906819727062262), (3560, 0.0035753728146944307), (3561, 0.004313647661811727), (3562, 0.0), (3563, 0.01221469188766796), (3564, 0.013453977092320685), (3565, 0.00314922681095623), (3566, 0.0), (3567, 0.0), (3568, 0.0), (3569, 0.017458408721261753), (3570, 0.0), (3571, 0.02685405909533899), (3572, 0.0), (3573, 0.0), (3574, 0.007849133029934792), (3575, 0.002570741051342726), (3576, 0.010988129609911666), (3577, 0.003932536864936247), (3578, 0.0), (3579, 0.0027161678372868356), (3580, 0.0), (3581, 0.0), (3582, 0.0), (3583, 0.0), (3584, 0.0), (3585, 0.0), (3586, 0.010998615157369955), (3587, 0.015096930954333324), (3588, 0.0), (3589, 0.0), (3590, 0.034535122867768706), (3591, 0.03078362123647787), (3592, 0.0), (3593, 0.022730844966809664), (3594, 0.010776149469294054), (3595, 0.010351160450515547), (3596, 0.003149211527066416), (3597, 0.0), (3598, 0.0), (3599, 0.03919973541560737), (3600, 0.023488276551531927), (3601, 0.0033936484007641744), (3602, 0.010048815986245147), (3603, 0.01750845287274246), (3604, 0.0), (3605, 0.0103425923810424), (3606, 0.003244465875454628), (3607, 0.10762402990417783), (3608, 0.02209819010382693), (3609, 0.0), (3610, 0.0), (3611, 0.0036155687607153206), (3612, 0.003183306806008965), (3613, 0.04030503664449162), (3614, 0.0028802335482552887), (3615, 0.0029965427084531777), (3616, 0.03678476749049), (3617, 0.0), (3618, 0.014205922671687377), (3619, 0.0), (3620, 0.003874807737163348), (3621, 0.003744391299928942), (3622, 0.020709522107604218), (3623, 0.03216638699836877), (3624, 0.0031526034488876097), (3625, 0.010531643750426692), (3626, 0.03026652734679258), (3627, 0.002944243348566092), (3628, 0.0), (3629, 0.0027328223863266063), (3630, 0.0), (3631, 0.0), (3632, 0.0), (3633, 0.00915299997815296), (3634, 0.011837756430123459), (3635, 0.004302211781204066), (3636, 0.0032792734925639767), (3637, 0.002782794950067213), (3638, 0.09540279984234355), (3639, 0.0036418078695938435), (3640, 0.003548767559865679), (3641, 0.01352185403053848), (3642, 0.014532966993228164), (3643, 0.0032326754542785366), (3644, 0.010041030461657937), (3645, 0.00239847981265554), (3646, 0.0030088750838828202), (3647, 0.003130767486545167), (3648, 0.0), (3649, 0.0), (3650, 0.031347569721836444), (3651, 0.0036401847258204084), (3652, 0.0), (3653, 0.0032437158682922596), (3654, 0.014094840495816708), (3655, 0.011663381734925125), (3656, 0.04945477065585767), (3657, 0.00268531812642978), (3658, 0.0), (3659, 0.0), (3660, 0.003068600015803649), (3661, 0.0036291596427279085), (3662, 0.0), (3663, 0.0), (3664, 0.0253746692575067), (3665, 0.0031745173789180015), (3666, 0.0033040034672839782), (3667, 0.004865678534825054), (3668, 0.002693387534388646), (3669, 0.002696673497312561), (3670, 0.0032092941627756156), (3671, 0.0), (3672, 0.0045216816822809), (3673, 0.0031692028257240437), (3674, 0.0), (3675, 0.03526144938126063), (3676, 0.0), (3677, 0.0034929241442118127), (3678, 0.00338523847869661), (3679, 0.0), (3680, 0.0035983223644898334), (3681, 0.0), (3682, 0.0), (3683, 0.041210979991016874), (3684, 0.0), (3685, 0.010613750137330832), (3686, 0.0), (3687, 0.0039744627026767655), (3688, 0.01198781271678386), (3689, 0.003291384485582758), (3690, 0.011056371581620518), (3691, 0.0030279063697747736), (3692, 0.01507493633551869), (3693, 0.009230866868713368), (3694, 0.0034437530718048727), (3695, 0.011178487747824043), (3696, 0.0030687335582195935), (3697, 0.0), (3698, 0.04877813291582077), (3699, 0.0032501723908648157), (3700, 0.02192221334986405), (3701, 0.0032622348968339297), (3702, 0.0), (3703, 0.0), (3704, 0.0034387358104551236), (3705, 0.002879422266660293), (3706, 0.029846394689794997), (3707, 0.05909615880614033), (3708, 0.0), (3709, 0.010544910204973572), (3710, 0.0), (3711, 0.009416112322324473), (3712, 0.03372860611742754), (3713, 0.008520806215372823), (3714, 0.015303535808802383), (3715, 0.0), (3716, 0.0), (3717, 0.0), (3718, 0.010032118079952452), (3719, 0.003105898190873309), (3720, 0.010440499251665285), (3721, 0.0), (3722, 0.0), (3723, 0.0), (3724, 0.01147157276404221), (3725, 0.002962900585004392), (3726, 0.0), (3727, 0.00315501388225895), (3728, 0.003402729217360527), (3729, 0.003687758666324446), (3730, 0.011171944581830245), (3731, 0.0), (3732, 0.009521473252456083), (3733, 0.003030641149462677), (3734, 0.013205362253288782), (3735, 0.03245492415449372), (3736, 0.020749039082215863), (3737, 0.003553196400929775), (3738, 0.0), (3739, 0.033036349027963624), (3740, 0.0), (3741, 0.011871372113509956), (3742, 0.0029065919651025127), (3743, 0.011194335677788034), (3744, 0.0131667600624425), (3745, 0.003743226214179694), (3746, 0.0), (3747, 0.011426757755070202), (3748, 0.008842466786508966), (3749, 0.003469536112345736), (3750, 0.006911022586217954), (3751, 0.0026154374914309658), (3752, 0.0), (3753, 0.0), (3754, 0.015542424199050053), (3755, 0.002812311243037544), (3756, 0.0026028883101371814), (3757, 0.003432562407084388), (3758, 0.0), (3759, 0.011700786627740638), (3760, 0.0), (3761, 0.0), (3762, 0.004145602659606829), (3763, 0.0037501839959961304), (3764, 0.0), (3765, 0.01977994025175433), (3766, 0.0037947428772366204), (3767, 0.002923075152638891), (3768, 0.0), (3769, 0.03234732078859922), (3770, 0.003327569694851534), (3771, 0.0034466012571466504), (3772, 0.003621208773329348), (3773, 0.03738049461931503), (3774, 0.0), (3775, 0.009484048657513112), (3776, 0.0), (3777, 0.02151450847926334), (3778, 0.0033053007026957975), (3779, 0.11521456867682041), (3780, 0.030503978170267315), (3781, 0.02708243218884415), (3782, 0.0), (3783, 0.037866229921776164), (3784, 0.0030288199156186008), (3785, 0.0), (3786, 0.016484607384472046), (3787, 0.06276272329756452), (3788, 0.009553158237420555), (3789, 0.0), (3790, 0.0), (3791, 0.0), (3792, 0.0032360290603415656), (3793, 0.0), (3794, 0.0), (3795, 0.0028464687184903857), (3796, 0.0), (3797, 0.01549341626383377), (3798, 0.10689086234221712), (3799, 0.0030163677067810883), (3800, 0.0), (3801, 0.0028509317187457184), (3802, 0.01184647640389695), (3803, 0.0), (3804, 0.0035496554612710176), (3805, 0.0), (3806, 0.008621747051108387), (3807, 0.0031654055904956125), (3808, 0.02892128584202469), (3809, 0.003260271726616014), (3810, 0.0), (3811, 0.0029997976149917695), (3812, 0.0), (3813, 0.02221775305084627), (3814, 0.0), (3815, 0.0), (3816, 0.0), (3817, 0.0), (3818, 0.0), (3819, 0.019226178131387214), (3820, 0.0), (3821, 0.024513884996547546), (3822, 0.03669063565672595), (3823, 0.009609013349894153), (3824, 0.009754270607227007), (3825, 0.015511925966858828), (3826, 0.0030591812702413495), (3827, 0.003119965094259883), (3828, 0.004024383726974709), (3829, 0.018928297001397), (3830, 0.0), (3831, 0.0), (3832, 0.003884666465014439), (3833, 0.01744758542925982), (3834, 0.055612488792319247), (3835, 0.0019164824166988607), (3836, 0.0), (3837, 0.0), (3838, 0.0), (3839, 0.05131036252489586), (3840, 0.02156750104992103), (3841, 0.08402897870477594), (3842, 0.0), (3843, 0.0), (3844, 0.012806743842413624), (3845, 0.0612485932134774), (3846, 0.0), (3847, 0.03037644410130536), (3848, 0.004037083179921479), (3849, 0.026368166506201815), (3850, 0.03622671081039041), (3851, 0.0), (3852, 0.04539297672684476), (3853, 0.0), (3854, 0.0029426297156955844), (3855, 0.033474020611951344), (3856, 0.0), (3857, 0.003534332316899529), (3858, 0.0), (3859, 0.0), (3860, 0.0), (3861, 0.0), (3862, 0.00332335983224221), (3863, 0.0028594213820888107), (3864, 0.049163066299626815), (3865, 0.023542530660049476), (3866, 0.0036679692343745615), (3867, 0.05645018472539517), (3868, 0.003044720040133058), (3869, 0.03426604004724726), (3870, 0.010684295655236245), (3871, 0.0), (3872, 0.029811902035958637), (3873, 0.06264068297011868), (3874, 0.0038911775475808214), (3875, 0.002586417790592951), (3876, 0.0608589609592753), (3877, 0.062316202478877855), (3878, 0.017614338767248012), (3879, 0.0), (3880, 0.002776188680268748), (3881, 0.009746062421412557), (3882, 0.0033490176931626607), (3883, 0.0036272135820178165), (3884, 0.015592962229576648), (3885, 0.020099188660680695), (3886, 0.010390124014610062), (3887, 0.0), (3888, 0.013853248104665398), (3889, 0.015184284901918126), (3890, 0.0030785432854929877), (3891, 0.0), (3892, 0.004136605668468188), (3893, 0.028370424493957408), (3894, 0.0027907618567600385), (3895, 0.022989251508109435), (3896, 0.0), (3897, 0.011470694673081741), (3898, 0.04807778689721297), (3899, 0.009666237972010064), (3900, 0.01346322911841007), (3901, 0.0038376020122713626), (3902, 0.0033108842505975246), (3903, 0.015350861947596637), (3904, 0.003403581000981395), (3905, 0.041544162730602435), (3906, 0.0031307817979196947), (3907, 0.01122454295764209), (3908, 0.02131560875428313), (3909, 0.0206137684835357), (3910, 0.002793671361239143), (3911, 0.003802331543497134), (3912, 0.02661208447715151), (3913, 0.002937702465138209), (3914, 0.025673193765463266), (3915, 0.003456293324848875), (3916, 0.0), (3917, 0.0030610108668058236), (3918, 0.0), (3919, 0.01463608677004515), (3920, 0.0032960195386450434), (3921, 0.019797197532756487), (3922, 0.003928206927506407), (3923, 0.009940855880153062), (3924, 0.0034979427601865946), (3925, 0.004736456373763855), (3926, 0.0), (3927, 0.023779528219692495), (3928, 0.0026580416834549037), (3929, 0.0), (3930, 0.010580436656465693), (3931, 0.0), (3932, 0.005869882283366954), (3933, 0.0), (3934, 0.027660953872286818), (3935, 0.003749616438270384), (3936, 0.0), (3937, 0.020763754257745654), (3938, 0.0), (3939, 0.004238179076422981), (3940, 0.0), (3941, 0.0029819487995959956), (3942, 0.012466563031032158), (3943, 0.0), (3944, 0.0), (3945, 0.00926592096112151), (3946, 0.0), (3947, 0.0), (3948, 0.0), (3949, 0.0), (3950, 0.0), (3951, 0.003712949937896862), (3952, 0.003649170812047201), (3953, 0.002895253236280239), (3954, 0.0030031915398207984), (3955, 0.010796532412094056), (3956, 0.002836189736132085), (3957, 0.03246557861569697), (3958, 0.0), (3959, 0.0032958059071419707), (3960, 0.0036075014133271402), (3961, 0.003512246810180591), (3962, 0.0035738128266704704), (3963, 0.0), (3964, 0.0), (3965, 0.010332501179839205), (3966, 0.010090102586542941), (3967, 0.003517670374386707), (3968, 0.011361222791821708), (3969, 0.03380675329884232), (3970, 0.0), (3971, 0.018612330995664988), (3972, 0.012391633415905136), (3973, 0.05394107810153139), (3974, 0.002864067839226167), (3975, 0.04007382415456107), (3976, 0.0), (3977, 0.011684757721431203), (3978, 0.0030351436778443992), (3979, 0.0341661730835096), (3980, 0.0), (3981, 0.0), (3982, 0.01081617843027914), (3983, 0.002383914254848647), (3984, 0.0033465187651570126), (3985, 0.0), (3986, 0.012058541225332502), (3987, 0.003389150340895415), (3988, 0.0), (3989, 0.0), (3990, 0.004392200603548292), (3991, 0.0), (3992, 0.028571787590233943), (3993, 0.029732518939658087), (3994, 0.010513693024304159), (3995, 0.03207477787690198), (3996, 0.0), (3997, 0.011517712868219843), (3998, 0.03883864679769617), (3999, 0.003918157331650443), (4000, 0.013293356808074367), (4001, 0.0), (4002, 0.015564229705040407), (4003, 0.0), (4004, 0.003227076823349581), (4005, 0.032678373960714095), (4006, 0.0), (4007, 0.0), (4008, 0.0), (4009, 0.0), (4010, 0.0), (4011, 0.0029884648741579875), (4012, 0.01621479192788569), (4013, 0.09421321884410894), (4014, 0.014166186994911616), (4015, 0.01154946437133782), (4016, 0.003173329298849932), (4017, 0.004318136336418776), (4018, 0.009221204212770064), (4019, 0.004125022071572678), (4020, 0.003121774861951881), (4021, 0.0), (4022, 0.036358210987734584), (4023, 0.0037578776623548044), (4024, 0.0034363336635708777), (4025, 0.003301243817188314), (4026, 0.0), (4027, 0.027875429211114557), (4028, 0.0), (4029, 0.0), (4030, 0.0037245231300556195), (4031, 0.0), (4032, 0.03958776009220474), (4033, 0.0033570106457475163), (4034, 0.0), (4035, 0.0), (4036, 0.003109188496224993), (4037, 0.0), (4038, 0.0034019218908222923), (4039, 0.0), (4040, 0.0), (4041, 0.010942716608581607), (4042, 0.0279172699632278), (4043, 0.0), (4044, 0.0), (4045, 0.0), (4046, 0.015348860686252916), (4047, 0.0), (4048, 0.003483556426239026), (4049, 0.0032294776465614443), (4050, 0.0), (4051, 0.022717560889483842), (4052, 0.003363088064937301), (4053, 0.0690076886660716), (4054, 0.014845944060397197), (4055, 0.0), (4056, 0.0031648953147787487), (4057, 0.0), (4058, 0.0), (4059, 0.0029757844102407728), (4060, 0.0031614621275324576), (4061, 0.0), (4062, 0.0038541685267745474), (4063, 0.009984420459283716), (4064, 0.0), (4065, 0.0), (4066, 0.0027944835533370137), (4067, 0.0), (4068, 0.003232771228145144), (4069, 0.012944877453508804), (4070, 0.04015548698292898), (4071, 0.0), (4072, 0.0), (4073, 0.021534694935100684), (4074, 0.0028636576571145407), (4075, 0.02375989943347616), (4076, 0.011655279768418668), (4077, 0.011920913050823078), (4078, 0.04024403858506352), (4079, 0.0032986945004428807), (4080, 0.00285315063678033), (4081, 0.003199702371503004), (4082, 0.004495260818614782), (4083, 0.003322139056992493), (4084, 0.0), (4085, 0.06466239232971151), (4086, 0.0), (4087, 0.026329862101454993), (4088, 0.04217780116360281), (4089, 0.0033132635399380464), (4090, 0.0), (4091, 0.023116983868979576), (4092, 0.003601049076435169), (4093, 0.0), (4094, 0.0), (4095, 0.0027005034722026866), (4096, 0.0), (4097, 0.0), (4098, 0.0032617835755520933), (4099, 0.0), (4100, 0.029248118129158337), (4101, 0.02578205751479425), (4102, 0.004040283555409311), (4103, 0.0), (4104, 0.09938834540135894), (4105, 0.0), (4106, 0.0), (4107, 0.00392920947277958), (4108, 0.0), (4109, 0.02911780332010415), (4110, 0.015247986472910039), (4111, 0.0034064889293910433), (4112, 0.0), (4113, 0.02261697737864606), (4114, 0.0), (4115, 0.0), (4116, 0.0034692011009700026), (4117, 0.0036324245900363436), (4118, 0.0), (4119, 0.011358854522847682), (4120, 0.0), (4121, 0.0), (4122, 0.0), (4123, 0.03432773990762105), (4124, 0.0030109653119054594), (4125, 0.0), (4126, 0.0037028109806232683), (4127, 0.0), (4128, 0.010779383594987845), (4129, 0.00308004017105631), (4130, 0.0034780044147467667), (4131, 0.0), (4132, 0.0034251636742648746), (4133, 0.022203206396183603), (4134, 0.0), (4135, 0.0032272247827145827), (4136, 0.013961295907670118), (4137, 0.003211298171432441), (4138, 0.003527119434856537), (4139, 0.013520131572031536), (4140, 0.0034768049912557585), (4141, 0.0028371730248509374), (4142, 0.0040683137589233994), (4143, 0.0028603580381941903), (4144, 0.0), (4145, 0.003737920959805921), (4146, 0.0), (4147, 0.0038746071669975945), (4148, 0.0), (4149, 0.0), (4150, 0.01160104160493171), (4151, 0.005467267733346201), (4152, 0.013358070026889142), (4153, 0.009859048836636942), (4154, 0.012651466544338963), (4155, 0.0030399869537928795), (4156, 0.0027893504464373293), (4157, 0.03012820029550012), (4158, 0.0), (4159, 0.0), (4160, 0.0035677238491211294), (4161, 0.0034232997543623693), (4162, 0.0), (4163, 0.003689261488059659), (4164, 0.0), (4165, 0.019401612142783915), (4166, 0.0), (4167, 0.09294146687708048), (4168, 0.05151321129824789), (4169, 0.003389605593469921), (4170, 0.0), (4171, 0.0022489095864699), (4172, 0.004206774464770884), (4173, 0.0), (4174, 0.0029288561381799337), (4175, 0.102992354032111), (4176, 0.002925974625668749), (4177, 0.0), (4178, 0.0033412570155211163), (4179, 0.0), (4180, 0.0), (4181, 0.02319050438436382), (4182, 0.010167858971294557), (4183, 0.0030863191722284586), (4184, 0.010261595264725093), (4185, 0.0), (4186, 0.0), (4187, 0.0036105983441960384), (4188, 0.0), (4189, 0.003254922448751722), (4190, 0.0), (4191, 0.0), (4192, 0.003081402480219998), (4193, 0.0), (4194, 0.012517451050141671), (4195, 0.0), (4196, 0.0), (4197, 0.0032439654364573825), (4198, 0.0), (4199, 0.02131363922489382), (4200, 0.03642968575744822), (4201, 0.018304008384931274), (4202, 0.004449470720691195), (4203, 0.0036885079247911193), (4204, 0.0), (4205, 0.0028422427205554613), (4206, 0.0030226180616795342), (4207, 0.0), (4208, 0.0), (4209, 0.01642253072603827), (4210, 0.0), (4211, 0.016864881411049488), (4212, 0.053528600414991356), (4213, 0.0030258224830196955), (4214, 0.0), (4215, 0.0), (4216, 0.016603332771880017), (4217, 0.0), (4218, 0.0), (4219, 0.0), (4220, 0.002807163280311984), (4221, 0.004254452001915083), (4222, 0.004267639176011084), (4223, 0.0), (4224, 0.0), (4225, 0.003340332431518817), (4226, 0.0), (4227, 0.0), (4228, 0.003143734215568328), (4229, 0.0), (4230, 0.004077232822422306), (4231, 0.0033944409419686783), (4232, 0.0027663830282373667), (4233, 0.0), (4234, 0.0), (4235, 0.0), (4236, 0.0), (4237, 0.0), (4238, 0.01262475305646516), (4239, 0.0), (4240, 0.034777661504834675), (4241, 0.0), (4242, 0.003953195692640032), (4243, 0.0036225603585434817), (4244, 0.0036454652070992783), (4245, 0.003418873380765383), (4246, 0.003012899417303154), (4247, 0.011779317365069313), (4248, 0.0), (4249, 0.003283253207388551), (4250, 0.011274722623454178), (4251, 0.0), (4252, 0.0), (4253, 0.0), (4254, 0.002987834120256177), (4255, 0.003225755049925982), (4256, 0.0), (4257, 0.002997619981123173), (4258, 0.0), (4259, 0.003534568083293068), (4260, 0.0), (4261, 0.008026758400176763), (4262, 0.0033036261749515568), (4263, 0.0035047847845819965), (4264, 0.010661433316509992), (4265, 0.0), (4266, 0.04772939281785574), (4267, 0.023381830638621273), (4268, 0.0031692385582135674), (4269, 0.021841675274938355), (4270, 0.0), (4271, 0.0), (4272, 0.0), (4273, 0.0032562785323993182), (4274, 0.0), (4275, 0.0), (4276, 0.01253139146320249), (4277, 0.04791352171086921), (4278, 0.0), (4279, 0.0), (4280, 0.0037712090591863028), (4281, 0.03553373615884513), (4282, 0.0029291385766841887), (4283, 0.003243644731103961), (4284, 0.003122222704125363), (4285, 0.012696179268597547), (4286, 0.0033643316815136085), (4287, 0.00328749579310125), (4288, 0.029955908915761068), (4289, 0.0), (4290, 0.0), (4291, 0.0), (4292, 0.03859597519579709), (4293, 0.0035508244304993147), (4294, 0.0), (4295, 0.03337331984580586), (4296, 0.002771735895076901), (4297, 0.0), (4298, 0.0039038339076567113), (4299, 0.003106392017112079), (4300, 0.0), (4301, 0.002360861822464654), (4302, 0.013597333160800341), (4303, 0.0), (4304, 0.0028559514503322427), (4305, 0.00949419815876476), (4306, 0.00393408683421208), (4307, 0.0), (4308, 0.0034896126609495677), (4309, 0.003105814251354462), (4310, 0.0), (4311, 0.00258527645953422), (4312, 0.011623659970806438), (4313, 0.02986220215589624), (4314, 0.0), (4315, 0.0), (4316, 0.0), (4317, 0.0), (4318, 0.0033624770631279174), (4319, 0.0), (4320, 0.00317400895141695), (4321, 0.003029489357067762), (4322, 0.0), (4323, 0.0), (4324, 0.0), (4325, 0.0), (4326, 0.09103596734788054), (4327, 0.048105232456444956), (4328, 0.060494987772311146), (4329, 0.022686103875215708), (4330, 0.0031838646654375573), (4331, 0.026585162005749254), (4332, 0.0), (4333, 0.0035806439207849024), (4334, 0.04624699910771732), (4335, 0.025166003023911594), (4336, 0.003073625348966563), (4337, 0.03274970325939561), (4338, 0.0), (4339, 0.019218199518675753), (4340, 0.003291092878962733), (4341, 0.0273773121968937), (4342, 0.0), (4343, 0.025269916597972234), (4344, 0.011968248587815332), (4345, 0.003018353834223114), (4346, 0.012551704085528775), (4347, 0.018384871899535842), (4348, 0.002926322502736122), (4349, 0.0031289855582800723), (4350, 0.0028681556633473365), (4351, 0.0), (4352, 0.0), (4353, 0.0), (4354, 0.003328805638831777), (4355, 0.01427762448038301), (4356, 0.012463960257720216), (4357, 0.003391980941195364), (4358, 0.0), (4359, 0.0029051531626248933), (4360, 0.0), (4361, 0.0033106346039625365), (4362, 0.0031157562954972433), (4363, 0.0033327759229431343), (4364, 0.010829166230922933), (4365, 0.00952933089769384), (4366, 0.009189192846872132), (4367, 0.0), (4368, 0.003581281890577413), (4369, 0.003660928064906664), (4370, 0.0), (4371, 0.003412324864446344), (4372, 0.02133048474651036), (4373, 0.008144335504936082), (4374, 0.012721676474089299), (4375, 0.11041015398072099), (4376, 0.010477933974746598), (4377, 0.0), (4378, 0.0), (4379, 0.0032969480733515367), (4380, 0.010400555352730457), (4381, 0.0030849119881346276), (4382, 0.003076968908224214), (4383, 0.010856677978186815), (4384, 0.0), (4385, 0.0), (4386, 0.002744415367629141), (4387, 0.0031027740499768052), (4388, 0.0), (4389, 0.0), (4390, 0.0), (4391, 0.014149361591327894), (4392, 0.0), (4393, 0.03327293173419132), (4394, 0.003157628875818832), (4395, 0.013038042885399994), (4396, 0.05512743557747556), (4397, 0.003541433533424039), (4398, 0.0036769781416644627), (4399, 0.0030073046710316353), (4400, 0.004056449533767945), (4401, 0.015642858826512798), (4402, 0.031371028654258906), (4403, 0.004055817343667733), (4404, 0.0), (4405, 0.0), (4406, 0.011443588287940506), (4407, 0.004162255518202456), (4408, 0.027709773953197094), (4409, 0.0031632659023672306), (4410, 0.0), (4411, 0.0027261017919705333), (4412, 0.0037275528155396305), (4413, 0.0), (4414, 0.0), (4415, 0.0), (4416, 0.0037456314851453732), (4417, 0.0), (4418, 0.004179221799393346), (4419, 0.00331733271050288), (4420, 0.0033553604674522422), (4421, 0.02719131908969564), (4422, 0.003288364025094564), (4423, 0.004126295434114578), (4424, 0.0), (4425, 0.0), (4426, 0.0), (4427, 0.06622548289390892), (4428, 0.0030215590624880595), (4429, 0.0027628787890224375), (4430, 0.003331623057549525), (4431, 0.03628263037399444), (4432, 0.011730395777247868), (4433, 0.0), (4434, 0.0), (4435, 0.00319727087000212), (4436, 0.011020266577285852), (4437, 0.03974813954257014), (4438, 0.0), (4439, 0.0), (4440, 0.0), (4441, 0.009708206541914996), (4442, 0.003086496718117547), (4443, 0.003898130637474653), (4444, 0.004168362913135164), (4445, 0.0023888255518843982), (4446, 0.0034907015599384503), (4447, 0.0), (4448, 0.0033231695417498077), (4449, 0.0), (4450, 0.009059464845645121), (4451, 0.0), (4452, 0.0), (4453, 0.012079728210684565), (4454, 0.0), (4455, 0.0), (4456, 0.0), (4457, 0.0), (4458, 0.0037951365646984384), (4459, 0.025059415531266605), (4460, 0.0), (4461, 0.00306336080098859), (4462, 0.0), (4463, 0.011344001298331808), (4464, 0.0), (4465, 0.0036469134020468245), (4466, 0.01126560753124507), (4467, 0.011175384080218695), (4468, 0.027292515557039227), (4469, 0.003975817334796505), (4470, 0.0032807016905059567), (4471, 0.0033743948168171393), (4472, 0.08442613444169278), (4473, 0.0027713927002597422), (4474, 0.0033504846680814577), (4475, 0.002861489782711591), (4476, 0.017424356654820342), (4477, 0.03963617113182473), (4478, 0.03135668547529527), (4479, 0.10913333539658998), (4480, 0.0), (4481, 0.0), (4482, 0.07273784148153291), (4483, 0.0), (4484, 0.004242626957193608), (4485, 0.0), (4486, 0.0), (4487, 0.013793927453092103), (4488, 0.0), (4489, 0.00337490376261585), (4490, 0.016604095958239414), (4491, 0.0), (4492, 0.01845588865827433), (4493, 0.011716736963922426), (4494, 0.0035948323069279384), (4495, 0.0034083745796563395), (4496, 0.0), (4497, 0.0033314969317149975), (4498, 0.0), (4499, 0.023439320972176776), (4500, 0.030501096943928017), (4501, 0.0032149001847064525), (4502, 0.0029062921305837708), (4503, 0.013516285567633967), (4504, 0.01965301721199668), (4505, 0.00336823338197912), (4506, 0.0), (4507, 0.0036549875081524122), (4508, 0.0), (4509, 0.0), (4510, 0.01823545070300963), (4511, 0.0031649423079115166), (4512, 0.0), (4513, 0.0), (4514, 0.02791632792030919), (4515, 0.03421166505874487), (4516, 0.003648902947046318), (4517, 0.013483046795802837), (4518, 0.0), (4519, 0.0), (4520, 0.003150064565055693), (4521, 0.003971838950290311), (4522, 0.003467761896741567), (4523, 0.019479065332371582), (4524, 0.0), (4525, 0.0), (4526, 0.0), (4527, 0.02653743916596109), (4528, 0.0034557522343997725), (4529, 0.12601740882933776), (4530, 0.003112062022833763), (4531, 0.01485256151286403), (4532, 0.0), (4533, 0.0032566949589781127), (4534, 0.0), (4535, 0.015670874785561457), (4536, 0.0030401465005660553), (4537, 0.0), (4538, 0.0), (4539, 0.0), (4540, 0.0034191543191074525), (4541, 0.0), (4542, 0.0), (4543, 0.0), (4544, 0.003969604208685324), (4545, 0.0034435186597272923), (4546, 0.018097725166488554), (4547, 0.012480784178820174), (4548, 0.0), (4549, 0.025602929699195302), (4550, 0.003084844520904539), (4551, 0.03754652562725042), (4552, 0.0), (4553, 0.008936265242504404), (4554, 0.0037825468705926513), (4555, 0.06398869670193175), (4556, 0.0), (4557, 0.0), (4558, 0.04256360461813481), (4559, 0.0), (4560, 0.023496333588489397), (4561, 0.0), (4562, 0.0), (4563, 0.00326300266485465), (4564, 0.0), (4565, 0.01864200185036838), (4566, 0.014127904451222277), (4567, 0.0030412519983436907), (4568, 0.0), (4569, 0.0), (4570, 0.0), (4571, 0.0050564138380002), (4572, 0.0039053570068548565), (4573, 0.0030847691045396896), (4574, 0.003407131906138552), (4575, 0.003366872099621294), (4576, 0.01977785317448708), (4577, 0.0), (4578, 0.0), (4579, 0.0034298958044748713), (4580, 0.0), (4581, 0.010919661800552188), (4582, 0.0), (4583, 0.0), (4584, 0.003741010066947829), (4585, 0.0), (4586, 0.0), (4587, 0.0), (4588, 0.010477738037414705), (4589, 0.003724504566638826), (4590, 0.0028493780349397933), (4591, 0.002959516555851242), (4592, 0.0), (4593, 0.01490258180744064), (4594, 0.015785755602136495), (4595, 0.011058531552926203), (4596, 0.0), (4597, 0.0), (4598, 0.002496442627382721), (4599, 0.06910157905322145), (4600, 0.0), (4601, 0.014669064231632098), (4602, 0.014704164334676988), (4603, 0.00296825156319638), (4604, 0.0031992781644030353), (4605, 0.07546519069295496), (4606, 0.004028517992123377), (4607, 0.019461179431826243), (4608, 0.002823800376243847), (4609, 0.023238196481789347), (4610, 0.024826103985126694), (4611, 0.004241455284672186), (4612, 0.003961401628011326), (4613, 0.010818890572283375), (4614, 0.0030394616942172868), (4615, 0.0), (4616, 0.02700166808489586), (4617, 0.004352098684254468), (4618, 0.0), (4619, 0.0035109100561828057), (4620, 0.0699150153564922), (4621, 0.07614522011754023), (4622, 0.011484058567938868), (4623, 0.0), (4624, 0.021352589060834346), (4625, 0.003304006170012159), (4626, 0.01131967816545496), (4627, 0.047700567576000975), (4628, 0.0), (4629, 0.0033195266877868433), (4630, 0.0), (4631, 0.0), (4632, 0.0037515055036356068), (4633, 0.015750276818095193), (4634, 0.002969241448173809), (4635, 0.0), (4636, 0.02741675199415526), (4637, 0.003775869234757775), (4638, 0.012771716361940967), (4639, 0.0), (4640, 0.0031879750420562313), (4641, 0.0031085195465452835), (4642, 0.020275241923011292), (4643, 0.003273198698066843), (4644, 0.0), (4645, 0.0), (4646, 0.013030361242171325), (4647, 0.0), (4648, 0.0), (4649, 0.024117644798990055), (4650, 0.0036671623821254145), (4651, 0.0), (4652, 0.05848812434334301), (4653, 0.0), (4654, 0.0), (4655, 0.0), (4656, 0.011020375814417584), (4657, 0.003422346013779186), (4658, 0.0030592055878538847), (4659, 0.011028465957223574), (4660, 0.02986728631569629), (4661, 0.0028206520321040988), (4662, 0.01081340279186689), (4663, 0.0), (4664, 0.00943271605517461), (4665, 0.0), (4666, 0.0), (4667, 0.0), (4668, 0.0031354272418367395), (4669, 0.031835763366828855), (4670, 0.01341157856341319), (4671, 0.0), (4672, 0.0), (4673, 0.0030820029424446413), (4674, 0.010764053750937108), (4675, 0.0), (4676, 0.03039173257886811), (4677, 0.014151221424837154), (4678, 0.010445375053123067), (4679, 0.0027975615376171813), (4680, 0.003402273368847286), (4681, 0.0), (4682, 0.016670849244775646), (4683, 0.010855326201360555), (4684, 0.0), (4685, 0.0031241013472089315), (4686, 0.00320149001213134), (4687, 0.003111438289506664), (4688, 0.0), (4689, 0.0), (4690, 0.0), (4691, 0.0), (4692, 0.003972114563594083), (4693, 0.0030909917848889966), (4694, 0.003738863846195544), (4695, 0.0), (4696, 0.0041687993526802955), (4697, 0.010056566830707315), (4698, 0.0), (4699, 0.003590294992732752), (4700, 0.0), (4701, 0.01597295621858981), (4702, 0.05385074874840515), (4703, 0.0), (4704, 0.04041083870341852), (4705, 0.004549563923214866), (4706, 0.02262269321533002), (4707, 0.0), (4708, 0.0), (4709, 0.0), (4710, 0.004022236129730596), (4711, 0.0), (4712, 0.0028665492314967444), (4713, 0.003683634181767853), (4714, 0.012386206653747229), (4715, 0.003190299465545895), (4716, 0.0), (4717, 0.0037573588670077335), (4718, 0.0035688162872159904), (4719, 0.006163002559214876), (4720, 0.0), (4721, 0.0), (4722, 0.0034497225464330157), (4723, 0.003890637820856904), (4724, 0.00392258202682405), (4725, 0.07738646763409403), (4726, 0.0), (4727, 0.0), (4728, 0.0), (4729, 0.0030565658154069674), (4730, 0.033354046450799806), (4731, 0.0036027965880025183), (4732, 0.03564113493146017), (4733, 0.0026550958320687235), (4734, 0.003438857949189986), (4735, 0.003765468246609064), (4736, 0.010213662655945935), (4737, 0.029534991323468672), (4738, 0.0), (4739, 0.0064889475459070645), (4740, 0.0), (4741, 0.0), (4742, 0.0), (4743, 0.003104829346084819), (4744, 0.020490365921936524), (4745, 0.0), (4746, 0.0), (4747, 0.011761767059528722), (4748, 0.002755903974483691), (4749, 0.004270478299895191), (4750, 0.0), (4751, 0.0), (4752, 0.002279352498005674), (4753, 0.003628463671923574), (4754, 0.0), (4755, 0.0), (4756, 0.03541464093568195), (4757, 0.02654384395651033), (4758, 0.0), (4759, 0.0)]\n"
          ]
        }
      ]
    },
    {
      "cell_type": "code",
      "source": [
        "len(Recommendation_Score)"
      ],
      "metadata": {
        "colab": {
          "base_uri": "https://localhost:8080/"
        },
        "id": "R3OjGhX4v6U6",
        "outputId": "b2f4b6cf-6b7b-4d42-99c8-ef2d0af0277a"
      },
      "execution_count": null,
      "outputs": [
        {
          "output_type": "execute_result",
          "data": {
            "text/plain": [
              "4760"
            ]
          },
          "metadata": {},
          "execution_count": 59
        }
      ]
    },
    {
      "cell_type": "code",
      "source": [],
      "metadata": {
        "id": "GTP1lZo0wImg"
      },
      "execution_count": null,
      "outputs": []
    },
    {
      "cell_type": "markdown",
      "source": [
        "## **Get All Movies Sort Based on Recommendation Score wrt Favourite Movie**"
      ],
      "metadata": {
        "id": "-HLng7BbwJkV"
      }
    },
    {
      "cell_type": "code",
      "source": [
        "#sorting the movies based on their similarity score\n",
        "\n",
        "Sorted_Similar_Movies = sorted(Recommendation_Score, key = lambda x:x[1], reverse = True)\n",
        "print(Sorted_Similar_Movies)"
      ],
      "metadata": {
        "colab": {
          "base_uri": "https://localhost:8080/"
        },
        "id": "f_ZzrWJJwYu_",
        "outputId": "8c43750d-7e45-450b-ee6c-d9ce92e321c7"
      },
      "execution_count": null,
      "outputs": [
        {
          "output_type": "stream",
          "name": "stdout",
          "text": [
            "[(1805, 1.0), (249, 0.17978333008384884), (2694, 0.1506721924092654), (2238, 0.13961997315502628), (1969, 0.13294814976467884), (2775, 0.12952924126813928), (4529, 0.12601740882933776), (959, 0.12229144536019426), (3779, 0.11521456867682041), (2448, 0.11297095647189226), (4375, 0.11041015398072099), (4479, 0.10913333539658998), (1251, 0.10798172713418143), (3607, 0.10762402990417783), (3798, 0.10689086234221712), (2761, 0.10644060235849205), (864, 0.10410373583668056), (4175, 0.102992354032111), (1768, 0.10146045684779433), (3094, 0.09959663378654603), (2321, 0.09940631006880793), (4104, 0.09938834540135894), (2247, 0.0970520682759812), (2371, 0.09702935391406235), (1236, 0.09596138334141958), (3638, 0.09540279984234355), (4, 0.09477865906608304), (4013, 0.09421321884410894), (4167, 0.09294146687708048), (3073, 0.09209426926017082), (1874, 0.09161586015915706), (837, 0.09119609821251942), (4326, 0.09103596734788054), (1439, 0.09057247008033331), (1067, 0.08894188349571222), (1003, 0.08890640136644706), (454, 0.08879576348112936), (3498, 0.0886217001897043), (211, 0.08705416524622825), (1536, 0.08702466551581474), (2838, 0.08682420021306338), (2853, 0.08675910473710993), (749, 0.08475188427240042), (4472, 0.08442613444169278), (2981, 0.08429988129984037), (3841, 0.08402897870477594), (895, 0.08388006773595773), (818, 0.08349179204599916), (1083, 0.08194407067681077), (3493, 0.0818053903012728), (653, 0.08152430804420487), (1371, 0.08146553664571454), (500, 0.0812431969245908), (2703, 0.08037023547554097), (1413, 0.07992952990232272), (154, 0.07989804814190489), (326, 0.07972695696125938), (1565, 0.07928181449971428), (2320, 0.07898036410933776), (472, 0.07889042486206198), (2375, 0.07840428791340368), (2596, 0.07832618403119004), (953, 0.0782910852304226), (151, 0.07806948098019778), (489, 0.07787797576470462), (3267, 0.07757731762292226), (4725, 0.07738646763409403), (2919, 0.07685504005747786), (687, 0.0764179856439489), (444, 0.07637796103915773), (4621, 0.07614522011754023), (4605, 0.07546519069295496), (1435, 0.07497790576208777), (988, 0.07457769966801062), (2572, 0.07391591933716403), (1247, 0.07390765831518285), (1956, 0.07370536959321387), (1586, 0.07368724981393932), (2041, 0.07346630050242581), (1633, 0.07277349799612647), (4482, 0.07273784148153291), (1815, 0.0719301183978759), (3419, 0.07174859013410448), (3342, 0.07105497303324074), (1184, 0.07061144442269168), (622, 0.07044927507737407), (4620, 0.0699150153564922), (1577, 0.06981408926478905), (1402, 0.06952277712037004), (4599, 0.06910157905322145), (4053, 0.0690076886660716), (1710, 0.06892035432482634), (1858, 0.06842137047140862), (3510, 0.06804483615986032), (1288, 0.06785836828969893), (1881, 0.06773151097022921), (2976, 0.0672606004920237), (1804, 0.06631415931985789), (4427, 0.06622548289390892), (1626, 0.06602632017253014), (1445, 0.06594756696021034), (1249, 0.0651781603645334), (455, 0.06514671163552016), (2985, 0.06485983241742442), (1985, 0.06484819065293503), (4085, 0.06466239232971151), (118, 0.06465959727441026), (3211, 0.06441353808804073), (1889, 0.06408012817176742), (4555, 0.06398869670193175), (50, 0.06395064256003424), (1256, 0.06393479809461766), (846, 0.06380927701078597), (2461, 0.0635063609542059), (1345, 0.06297788499421025), (3323, 0.06295844935439825), (3787, 0.06276272329756452), (3375, 0.0626847279005166), (3873, 0.06264068297011868), (3148, 0.06258726357319981), (831, 0.0624025019550584), (3877, 0.062316202478877855), (915, 0.0623124731023395), (2848, 0.06184114520249677), (1412, 0.0616364832944431), (574, 0.06139184704199042), (3845, 0.0612485932134774), (2593, 0.06116958896124172), (1802, 0.06116550012951227), (1106, 0.06108638545714157), (2930, 0.06106869420080489), (3876, 0.0608589609592753), (4328, 0.060494987772311146), (1687, 0.06044194118052512), (1617, 0.05987139549424597), (2045, 0.05986888181772198), (797, 0.059838157356167425), (1148, 0.05945687986203997), (283, 0.05922387798692146), (3707, 0.05909615880614033), (1997, 0.05906739726959964), (1711, 0.05863965783292778), (2272, 0.058626938878926546), (4652, 0.05848812434334301), (3238, 0.05846693262261733), (2203, 0.05843099942907911), (1680, 0.05828457540550475), (2445, 0.05809331748224668), (2276, 0.05799020504491017), (1793, 0.05731164471531595), (2270, 0.057284293551279425), (402, 0.05700478140808217), (2699, 0.05690356083160379), (754, 0.05681526470868821), (1669, 0.056711622261473006), (3867, 0.05645018472539517), (3344, 0.0564194945851875), (1716, 0.056376425937515295), (806, 0.056363900620801544), (3834, 0.055612488792319247), (2037, 0.05521283467210558), (4396, 0.05512743557747556), (1304, 0.05511841889153191), (2675, 0.05511353461194736), (2447, 0.05504223990519661), (3041, 0.05480100285985699), (1419, 0.05478150250275363), (2265, 0.05461453610203118), (420, 0.05459762434231399), (2102, 0.054552971705641905), (1422, 0.0542876858817152), (1707, 0.054187083673970626), (2111, 0.054147676073021206), (3138, 0.054082498085626915), (1309, 0.05401951561538458), (3516, 0.05395212813831881), (3973, 0.05394107810153139), (4702, 0.05385074874840515), (250, 0.05362795114546502), (4212, 0.053528600414991356), (1338, 0.05347199466125958), (429, 0.0530966390694449), (1052, 0.0527752078583614), (1890, 0.05256288284681934), (2123, 0.05243989872725286), (718, 0.05215940963271075), (758, 0.05198943772894812), (1970, 0.051732133702180196), (3182, 0.05160984043236385), (1511, 0.051559189922223275), (3315, 0.051543463674970515), (4168, 0.05151321129824789), (23, 0.05134705557806052), (598, 0.051338009407506206), (3839, 0.05131036252489586), (1963, 0.05106707895484097), (446, 0.051028700508748685), (865, 0.05102352800123462), (1748, 0.0508618753678699), (486, 0.05070226914678321), (2638, 0.050159571231288266), (1865, 0.04998642298746164), (2097, 0.049748229371369634), (2249, 0.04965508606083062), (3656, 0.04945477065585767), (1808, 0.04941553667823404), (3864, 0.049163066299626815), (573, 0.04895663780517936), (3698, 0.04877813291582077), (2597, 0.04870532429124549), (665, 0.04860108104971613), (434, 0.04855564835496058), (523, 0.04845117096731428), (483, 0.04830413345332807), (4327, 0.048105232456444956), (3898, 0.04807778689721297), (4277, 0.04791352171086921), (1140, 0.047910275480218326), (4266, 0.04772939281785574), (1824, 0.04772691184603735), (1224, 0.047721623544838554), (4627, 0.047700567576000975), (2606, 0.047697733435742594), (733, 0.047557687578390434), (909, 0.04717529711583264), (1238, 0.0471576659518891), (278, 0.04702975538708429), (695, 0.04676630294588139), (1543, 0.04667695578056278), (552, 0.04634913876720264), (4334, 0.04624699910771732), (790, 0.04602044132626007), (1267, 0.04590018938539336), (1367, 0.04569934871845549), (493, 0.045545489796751125), (3852, 0.04539297672684476), (38, 0.045386485172117685), (2241, 0.04525459350667917), (666, 0.04517792064526162), (1918, 0.04513607475949677), (387, 0.04504623527971246), (3505, 0.044992666357724115), (1383, 0.04492802160694004), (1928, 0.044899207793167896), (2762, 0.044679934146179094), (1347, 0.04458503819300501), (1725, 0.04450865667529218), (3225, 0.04440250016628071), (3491, 0.04431997637427782), (719, 0.044266253082156426), (1421, 0.0439430788434281), (2021, 0.04363717637351873), (3526, 0.043449975596621504), (2682, 0.04331485050280168), (872, 0.04325006765844457), (2671, 0.04312349748451083), (2451, 0.04311969113346162), (1567, 0.04301097734904299), (2086, 0.04293655106495526), (3132, 0.04256576256847), (4558, 0.04256360461813481), (4088, 0.04217780116360281), (2278, 0.04216621304732796), (1375, 0.04214205415643668), (3130, 0.04211009049252474), (2096, 0.042048830365474056), (1848, 0.04204070241075321), (1396, 0.04198602317856025), (1310, 0.04197742472177006), (950, 0.0419101196019889), (3134, 0.04190309504846482), (1911, 0.04186481587878766), (1840, 0.04169577353199724), (3181, 0.04164751293520136), (3905, 0.041544162730602435), (2225, 0.04137605625640132), (107, 0.041376027504925084), (2642, 0.041329402726346415), (3043, 0.04129857523475303), (3683, 0.041210979991016874), (51, 0.04108884640134581), (830, 0.041052775246403155), (2419, 0.04102967424789001), (1364, 0.040963445136346345), (1424, 0.0409534937520281), (2046, 0.04091350536200565), (751, 0.04090564655809768), (3351, 0.04075941561214166), (2547, 0.04048593027830098), (4704, 0.04041083870341852), (3613, 0.04030503664449162), (3101, 0.04030481942686785), (4078, 0.04024403858506352), (4070, 0.04015548698292898), (848, 0.040138966038577306), (3975, 0.04007382415456107), (2902, 0.039922605221088044), (238, 0.03983179236590438), (4437, 0.03974813954257014), (3541, 0.03968357167290228), (4477, 0.03963617113182473), (4032, 0.03958776009220474), (2944, 0.03955955801852367), (2168, 0.039441623358769516), (2169, 0.0393059244278386), (3599, 0.03919973541560737), (2954, 0.039168594299738346), (3300, 0.039037269938005846), (3998, 0.03883864679769617), (169, 0.038759636330137626), (545, 0.0387563646753843), (25, 0.038631363327295394), (4292, 0.03859597519579709), (673, 0.03858985099204412), (1044, 0.038555660177857394), (1518, 0.03822948144547991), (2529, 0.03812165843806077), (2025, 0.038077286930802166), (2119, 0.03800137876187325), (3783, 0.037866229921776164), (3133, 0.03773665069814438), (443, 0.03760370135333542), (1903, 0.03755652426573755), (4551, 0.03754652562725042), (930, 0.03753429573346764), (448, 0.03752605982289216), (3200, 0.03751001897847611), (2525, 0.03747796080949352), (686, 0.037464880659316246), (84, 0.0374213623932241), (2764, 0.03741470630690983), (3773, 0.03738049461931503), (3268, 0.037273925296037604), (1312, 0.03725526612760878), (660, 0.037078642886654536), (2051, 0.03693806266928401), (2904, 0.03691994390762259), (3616, 0.03678476749049), (694, 0.036724805643868416), (3822, 0.03669063565672595), (1015, 0.03667389501817158), (2740, 0.03660562214537339), (4200, 0.03642968575744822), (4022, 0.036358210987734584), (405, 0.03634072927826987), (4431, 0.03628263037399444), (458, 0.03627629175647539), (926, 0.03627547391406961), (2552, 0.036265323425947356), (1320, 0.0362349604223349), (3850, 0.03622671081039041), (2804, 0.03621706255796911), (257, 0.036214550541934294), (2328, 0.03620120881997889), (246, 0.036080248740840766), (121, 0.035893446782144844), (2196, 0.03587744165947117), (2755, 0.035874596288335045), (3068, 0.035822696312571845), (2396, 0.03581883564164005), (2362, 0.03579897134809503), (780, 0.03579292131515313), (3275, 0.03574477889494346), (3234, 0.03571790276699339), (3429, 0.0356587420968517), (4732, 0.03564113493146017), (3044, 0.03561951043637933), (2413, 0.03555755645242709), (4281, 0.03553373615884513), (1097, 0.03550751119359589), (1660, 0.035447760849053864), (1948, 0.035424757632101116), (4756, 0.03541464093568195), (2915, 0.035355107592819714), (2839, 0.03532431271366282), (2691, 0.035267363952890644), (1241, 0.0352646512032984), (3675, 0.03526144938126063), (2219, 0.035040939074697436), (400, 0.03503792140805793), (2095, 0.03502678497616167), (3185, 0.035019961099482085), (1494, 0.03495104833376226), (1835, 0.034939164692229414), (2367, 0.0349211079165032), (883, 0.034849003967265674), (2570, 0.034815544073121145), (4240, 0.034777661504834675), (3380, 0.034667670172064395), (2588, 0.0346123567988214), (1218, 0.03459908585376281), (295, 0.03457809161209524), (332, 0.03456238789952924), (3590, 0.034535122867768706), (3402, 0.03446011877689469), (1991, 0.0343881586887662), (4123, 0.03432773990762105), (2975, 0.03431000009279349), (3869, 0.03426604004724726), (4515, 0.03421166505874487), (138, 0.03418889648344316), (3979, 0.0341661730835096), (370, 0.034064116464547246), (1191, 0.034060573671190655), (1129, 0.03391123298874321), (888, 0.03389468228373691), (2512, 0.03387455458567726), (356, 0.03385828816235833), (2498, 0.03384623804280957), (2702, 0.0338086214058175), (3969, 0.03380675329884232), (1622, 0.03377700854060158), (306, 0.03373868118458922), (3712, 0.03372860611742754), (987, 0.033721177970187276), (3061, 0.03364603264568003), (440, 0.03360418294427995), (511, 0.03357631237133535), (286, 0.03351253104706136), (3855, 0.033474020611951344), (2216, 0.033438828056308816), (2416, 0.03343740443916073), (253, 0.033436554733274955), (2229, 0.03342160276248016), (4295, 0.03337331984580586), (328, 0.03337201082414262), (4730, 0.033354046450799806), (1372, 0.03329761601069805), (4393, 0.03327293173419132), (1527, 0.03320318256000388), (1999, 0.03313028530493715), (139, 0.03309273112980573), (40, 0.033086104561273255), (2135, 0.033073685147429185), (2308, 0.03303701252352146), (3739, 0.033036349027963624), (1315, 0.0329725678276749), (2209, 0.03293198057090927), (170, 0.032861070997559215), (180, 0.03285384413812895), (676, 0.03280879813949257), (1637, 0.032804710463987724), (3196, 0.032777481119630116), (2828, 0.0327664302731735), (2852, 0.03275286153334985), (4337, 0.03274970325939561), (1260, 0.03271651756938553), (4005, 0.032678373960714095), (2377, 0.0326713180844835), (2110, 0.032669870271299965), (1295, 0.032590500497700396), (362, 0.032565009336595105), (1766, 0.03254791198000504), (114, 0.03254221787030365), (1230, 0.03253694819998311), (2473, 0.03249423364393917), (3957, 0.03246557861569697), (3735, 0.03245492415449372), (912, 0.032418567788141464), (798, 0.03237633605389114), (1658, 0.032361937937748955), (3769, 0.03234732078859922), (2101, 0.03227680509097659), (363, 0.03222991561453839), (1844, 0.03220019625526858), (606, 0.03219879262927359), (3623, 0.03216638699836877), (3995, 0.03207477787690198), (4669, 0.031835763366828855), (2124, 0.03160951538020731), (771, 0.031597837613984804), (1705, 0.031584282982854296), (2190, 0.03150759754507945), (4402, 0.031371028654258906), (1760, 0.03136749046068483), (4478, 0.03135668547529527), (3650, 0.031347569721836444), (1698, 0.03132731794437231), (361, 0.03130943906032676), (2786, 0.03130243614721561), (1099, 0.03127576455986608), (1712, 0.03124428849568417), (3512, 0.03122435244505449), (314, 0.031198396475000934), (3503, 0.031175132475074026), (83, 0.031155237837169027), (1306, 0.03115040390136096), (389, 0.031119787111257645), (781, 0.0310621216000117), (309, 0.03106205921870869), (353, 0.031060430349015036), (3149, 0.03104022059552373), (2647, 0.03097486554842715), (1578, 0.030890237794090423), (1792, 0.030861989018952825), (3591, 0.03078362123647787), (325, 0.030722096181451473), (3095, 0.03067178130408565), (1964, 0.030668342149364525), (1719, 0.030542013901483138), (569, 0.030511212534582756), (3780, 0.030503978170267315), (4500, 0.030501096943928017), (212, 0.030425577877402313), (2405, 0.030401377267602447), (4676, 0.03039173257886811), (1429, 0.03038660052350235), (3847, 0.03037644410130536), (2744, 0.03029414210761456), (3626, 0.03026652734679258), (1984, 0.030250751255602608), (2332, 0.030224054268204344), (2807, 0.03016163754336192), (3283, 0.030130114146848963), (4157, 0.03012820029550012), (1585, 0.030012695215172035), (3063, 0.02997760072023293), (4288, 0.029955908915761068), (2582, 0.02992103487741654), (4660, 0.02986728631569629), (4313, 0.02986220215589624), (580, 0.029853648522034947), (3706, 0.029846394689794997), (3872, 0.029811902035958637), (127, 0.029777967707373336), (2492, 0.029765818994583373), (2411, 0.029737029642277223), (3993, 0.029732518939658087), (1053, 0.029729880895512466), (1473, 0.029707086115201342), (2182, 0.029656172786969665), (1410, 0.029542732172578745), (4737, 0.029534991323468672), (1172, 0.029530855641725168), (1724, 0.029502810128983023), (182, 0.029463431498782788), (1828, 0.029440332616322916), (753, 0.02942878981612859), (2999, 0.029412946605119998), (3016, 0.029328894482559438), (307, 0.029248125810898955), (4100, 0.029248118129158337), (1659, 0.02920569967634734), (1363, 0.02917799483187931), (1867, 0.02912903951569464), (4109, 0.02911780332010415), (535, 0.029102867120762665), (27, 0.02908510570767487), (3548, 0.029080370303805534), (508, 0.02906346626794681), (274, 0.02902233084078171), (3441, 0.028990267701223583), (577, 0.02894114881756847), (3808, 0.02892128584202469), (174, 0.028872266713384134), (3313, 0.028870904131615135), (209, 0.028827987425633153), (1180, 0.028816631162787716), (1888, 0.028810991866147283), (24, 0.028777850801381212), (2939, 0.02874496875425252), (2463, 0.028732192420027548), (810, 0.028724450090638145), (2437, 0.02868986393785567), (1905, 0.028631240085755297), (1481, 0.028630046537804037), (851, 0.028626324702421414), (478, 0.028606348857120593), (2722, 0.028585676164923038), (3992, 0.028571787590233943), (659, 0.028487380057143515), (1068, 0.028432669521124252), (2326, 0.028430019423530496), (358, 0.02842857511627246), (3025, 0.028427978014283862), (1949, 0.02840660944476601), (2477, 0.028373684654049134), (3893, 0.028370424493957408), (924, 0.028318860947140923), (3032, 0.02829244495836651), (1207, 0.028177915726096268), (3197, 0.028115980347392797), (1755, 0.02806705119391093), (1568, 0.028056334601400158), (1073, 0.02804140177646996), (116, 0.027918364962356928), (4042, 0.0279172699632278), (4514, 0.02791632792030919), (1785, 0.027909509994419428), (939, 0.027900891454848625), (2983, 0.027884605247572452), (4027, 0.027875429211114557), (1896, 0.027859786761284044), (741, 0.027849145648118887), (432, 0.02779897534696278), (587, 0.027798452651469567), (3203, 0.027795537043465077), (3208, 0.02775043975375738), (2739, 0.027738546085314796), (437, 0.027735584823080472), (1503, 0.02772819983283744), (4408, 0.027709773953197094), (320, 0.027675082613144015), (3934, 0.027660953872286818), (76, 0.027659290515848867), (896, 0.027612547179611233), (2870, 0.027604042769251456), (1866, 0.027599808341486464), (197, 0.027599591641128716), (327, 0.02750348335867289), (1673, 0.027458621413015073), (396, 0.02745401796814248), (3057, 0.02742106427431863), (4636, 0.02741675199415526), (4341, 0.0273773121968937), (2370, 0.02736011663609605), (3224, 0.027341598969374988), (1851, 0.027340583632757803), (1457, 0.027313570971187872), (3421, 0.027293006790435243), (4468, 0.027292515557039227), (157, 0.027209074135715466), (2201, 0.027191418735830128), (4421, 0.02719131908969564), (1614, 0.027158639248636197), (2988, 0.027085869260585635), (3781, 0.02708243218884415), (2047, 0.027024715412767738), (4616, 0.02700166808489586), (1199, 0.026978233265456713), (228, 0.026883196433549455), (205, 0.026882219477220984), (3571, 0.02685405909533899), (1936, 0.026840517359875242), (730, 0.026821179950656013), (1784, 0.026782854241053027), (814, 0.026757839803562705), (2953, 0.026754430072363212), (618, 0.02674966986825522), (1942, 0.02671844589463724), (3530, 0.02670293114791248), (667, 0.026690856356153942), (2385, 0.026622329979583356), (3912, 0.02661208447715151), (3386, 0.026609449520470865), (4331, 0.026585162005749254), (935, 0.02657295456664735), (4757, 0.02654384395651033), (4527, 0.02653743916596109), (531, 0.02652724003461358), (3500, 0.026505340547430048), (315, 0.026479783698111648), (214, 0.026447153045241145), (1756, 0.026403646052747073), (3849, 0.026368166506201815), (3369, 0.026352289432535883), (4087, 0.026329862101454993), (1542, 0.02628452739362468), (2212, 0.026204702788804376), (1601, 0.026180602575953327), (1137, 0.026156161254973297), (1906, 0.026136626382000334), (2161, 0.026115257278629952), (3343, 0.02602191171310574), (1133, 0.025992244797683237), (1832, 0.02592811210566887), (3000, 0.025879639574571595), (1553, 0.02579751966728059), (4101, 0.02578205751479425), (1913, 0.025705550693082696), (3914, 0.025673193765463266), (3128, 0.02566833760989052), (160, 0.02566416346463399), (2029, 0.025639089801265134), (202, 0.025625819480632018), (4549, 0.025602929699195302), (799, 0.02560108866102376), (1722, 0.025524630799213972), (1773, 0.02552105844747789), (1121, 0.02551120553589379), (2554, 0.025498962337488), (2056, 0.02543868997171672), (2314, 0.025389072391446058), (3028, 0.025377862729087788), (3664, 0.0253746692575067), (310, 0.025363283193246225), (1648, 0.02533611564896875), (2626, 0.02532987839549359), (2756, 0.025327071937199776), (772, 0.0253252292012405), (3223, 0.02529000289672311), (1657, 0.02528787200476076), (404, 0.02527854917135759), (4343, 0.025269916597972234), (2001, 0.025255230514911523), (366, 0.025229547297715826), (4335, 0.025166003023911594), (2409, 0.02514260567808672), (1076, 0.025109006281526482), (2143, 0.025108581437775498), (105, 0.025068205115119317), (4459, 0.025059415531266605), (3443, 0.02504043704740404), (445, 0.025023212227023296), (1088, 0.024987261729786523), (1154, 0.024956748873863246), (3409, 0.02493819509407943), (3154, 0.02492275938547413), (1825, 0.024917027396699824), (2957, 0.02491161519929045), (633, 0.024870806757605432), (2687, 0.024867915661966444), (2311, 0.024832712232391824), (4610, 0.024826103985126694), (388, 0.02479149301896831), (2459, 0.02478467179527668), (1957, 0.024779189186515303), (276, 0.024761800238909355), (2945, 0.024742320435742014), (1177, 0.024738535252048548), (1376, 0.024734260084282582), (2938, 0.0247131667838467), (1365, 0.024683351118434206), (2630, 0.02458114375347295), (2277, 0.024552395925825674), (196, 0.0245517582749614), (2693, 0.024541453045637516), (3821, 0.024513884996547546), (316, 0.024466092114958087), (1925, 0.024442448958397762), (3321, 0.02442542644844577), (2080, 0.024421479145982635), (1992, 0.024335170301169048), (1975, 0.024309623165234162), (2482, 0.024206718749063202), (532, 0.024187966327215198), (1027, 0.024170046413853542), (958, 0.02412879498752066), (1877, 0.024119736318552364), (4649, 0.024117644798990055), (1588, 0.024115017240749083), (248, 0.024097542430745127), (1929, 0.024096497155868028), (1624, 0.024071210056065617), (994, 0.024005522808670812), (2376, 0.02399746424340656), (1801, 0.02399271034068839), (2258, 0.023958209564623054), (3524, 0.02395778162374353), (1331, 0.023875270940283053), (1335, 0.023857077360625856), (2303, 0.023838976679211782), (146, 0.02383238404277255), (2252, 0.023805330475775495), (3927, 0.023779528219692495), (4075, 0.02375989943347616), (3540, 0.023749818106903617), (156, 0.02374547677494131), (1220, 0.02370285441120393), (2992, 0.023671124587026682), (975, 0.02366252232480107), (3450, 0.023649143054954476), (3522, 0.023620942200820845), (1653, 0.023619448661181763), (3865, 0.023542530660049476), (1069, 0.023539038402860455), (2429, 0.023533162610185086), (1166, 0.023526077548939), (4560, 0.023496333588489397), (3600, 0.023488276551531927), (2403, 0.02346909227599352), (4499, 0.023439320972176776), (3355, 0.023426552780406187), (2625, 0.023394829892806713), (4267, 0.023381830638621273), (657, 0.023320871609423102), (1522, 0.023305948495541445), (1864, 0.023296099122913666), (669, 0.02325707172586441), (30, 0.02325686972744746), (876, 0.023242205628133374), (4609, 0.023238196481789347), (4181, 0.02319050438436382), (143, 0.023177290331275475), (1509, 0.023177037994363506), (1554, 0.02316375221132288), (1084, 0.023146353862224585), (3362, 0.023146183528290405), (3453, 0.023140711142888067), (4091, 0.023116983868979576), (2936, 0.02305068257943434), (1091, 0.0230327489972867), (802, 0.02302034675106255), (3204, 0.0229984618441388), (3895, 0.022989251508109435), (102, 0.02298514435567985), (235, 0.022983452343750668), (2542, 0.022978315534944435), (2336, 0.02295000149995348), (977, 0.02294873608140781), (1967, 0.022947967693590626), (2810, 0.022907747356542038), (1056, 0.022890452785334886), (1816, 0.022884701630928934), (3515, 0.02287380712158225), (813, 0.022870153658903616), (473, 0.022867704303704377), (1265, 0.022866006477212146), (1492, 0.02284508991141124), (3096, 0.022828449619088167), (167, 0.022820116251803305), (2281, 0.022793250637493392), (3593, 0.022730844966809664), (4051, 0.022717560889483842), (4329, 0.022686103875215708), (1219, 0.022675506544248006), (3468, 0.022674473067196277), (2929, 0.022642169410361866), (963, 0.022640610424158568), (6, 0.022636168162162525), (4706, 0.02262269321533002), (4113, 0.02261697737864606), (2156, 0.022605915033433885), (908, 0.02257125764836989), (2163, 0.022553692978290296), (3122, 0.0225345507885621), (857, 0.022486098132536637), (60, 0.02246491618071629), (2283, 0.022420504381804124), (603, 0.02237731231779498), (1031, 0.02236890502437764), (15, 0.022340513779951318), (2689, 0.02230226055504137), (2465, 0.02224366291032885), (2608, 0.02223564230101534), (3813, 0.02221775305084627), (1502, 0.022217243839508738), (4133, 0.022203206396183603), (891, 0.022161609167670702), (3534, 0.02213275177368088), (2790, 0.022120562172771925), (3608, 0.02209819010382693), (3333, 0.022081859017269286), (3416, 0.022073565717089783), (391, 0.022003814182600452), (99, 0.021955969592765606), (2814, 0.021934689851513325), (3700, 0.02192221334986405), (589, 0.02189206818302812), (4269, 0.021841675274938355), (2094, 0.021840129809124677), (981, 0.0218054932073033), (1119, 0.021740519632617028), (2563, 0.021719603753029046), (206, 0.021600350181643135), (113, 0.02159569556963789), (3212, 0.021593889551855514), (3840, 0.02156750104992103), (4073, 0.021534694935100684), (3277, 0.021522006393733296), (3777, 0.02151450847926334), (621, 0.021479691366502386), (1608, 0.021379355950161112), (1279, 0.021374358848828417), (556, 0.021357448348780745), (4624, 0.021352589060834346), (256, 0.021343643128763447), (4372, 0.02133048474651036), (502, 0.02131742937262399), (3437, 0.02131701418615226), (1736, 0.021316831876608842), (3908, 0.02131560875428313), (4199, 0.02131363922489382), (914, 0.021272321182182276), (1125, 0.021231425673938768), (1908, 0.02115059207334196), (2876, 0.021110392834913318), (347, 0.0211100196207984), (685, 0.02099691936383353), (3153, 0.02096820759038677), (2334, 0.020958715966915113), (1022, 0.020942556301078954), (3456, 0.02093961064696782), (439, 0.02091496565573765), (65, 0.020863291863964732), (2280, 0.020841025678822046), (969, 0.02078380157380196), (3937, 0.020763754257745654), (3736, 0.020749039082215863), (3622, 0.020709522107604218), (1087, 0.02070173171248133), (2917, 0.020685168419705382), (3909, 0.0206137684835357), (1098, 0.02061136495064282), (2144, 0.020539612609921376), (696, 0.020496145373807145), (3436, 0.020493571706440623), (4744, 0.020490365921936524), (1501, 0.020413906212626343), (280, 0.020309410570580486), (2432, 0.020279213164892347), (4642, 0.020275241923011292), (571, 0.02024812827784283), (1252, 0.02017456279326184), (93, 0.020150724122346496), (2038, 0.02014268786660486), (1810, 0.020114198945085204), (3237, 0.020112345396265628), (3885, 0.020099188660680695), (2118, 0.020097251001786866), (1200, 0.020082283948646595), (1550, 0.020078926058595667), (609, 0.020055124069563966), (3400, 0.01998906181408037), (3051, 0.01997151104864097), (3379, 0.01996371262796216), (1286, 0.019962517821004278), (2039, 0.019869932418637683), (2005, 0.019866893308170055), (3921, 0.019797197532756487), (2211, 0.019793108147372312), (3765, 0.01977994025175433), (4576, 0.01977785317448708), (2359, 0.019716117312259772), (488, 0.01969580332403722), (2205, 0.0196932139836046), (4504, 0.01965301721199668), (3100, 0.019652461349569814), (2653, 0.019649684362059334), (1277, 0.019638582763798998), (3253, 0.019537416320089613), (18, 0.0195255000588216), (424, 0.019507387437127537), (425, 0.019490462608896995), (4523, 0.019479065332371582), (4607, 0.019461179431826243), (1201, 0.019457435615638948), (2576, 0.01943637386862939), (4165, 0.019401612142783915), (164, 0.019375881669629953), (3168, 0.019345886507214843), (3819, 0.019226178131387214), (4339, 0.019218199518675753), (2304, 0.01919604378311514), (2972, 0.019193793426966525), (2166, 0.019177191833738217), (1861, 0.019159233824139563), (2749, 0.019147371203614517), (734, 0.01907021782783738), (2099, 0.019032538163373462), (2231, 0.018985646844192357), (1134, 0.018964205895986404), (2801, 0.01895299663251414), (3829, 0.018928297001397), (997, 0.01892156797455229), (111, 0.018915773505457402), (1456, 0.01890037746697936), (2244, 0.01889539278552859), (141, 0.01887086718291993), (677, 0.01882851055713464), (1871, 0.01880101849006823), (1781, 0.01879920066472465), (1197, 0.018793182534588386), (191, 0.018771307286204117), (1803, 0.018762759871748597), (604, 0.018727347013063392), (2484, 0.018720268512729107), (829, 0.01870571663085255), (4565, 0.01864200185036838), (3971, 0.018612330995664988), (709, 0.01850108099496382), (1952, 0.01850052277872016), (3160, 0.018480291981497074), (340, 0.018459421837303612), (4492, 0.01845588865827433), (1676, 0.01842793411357968), (4347, 0.018384871899535842), (1366, 0.018368004998590662), (2227, 0.01835917786032434), (4201, 0.018304008384931274), (536, 0.01828405834485752), (158, 0.018265402993815436), (2539, 0.018263648693085006), (392, 0.018249853862343283), (4510, 0.01823545070300963), (607, 0.01820216453615225), (297, 0.0181761812102661), (856, 0.018176018481593243), (275, 0.018168326206976972), (234, 0.018107005546987104), (4546, 0.018097725166488554), (1389, 0.018091654393635193), (703, 0.018087667042821835), (1449, 0.01808696793827707), (1603, 0.018029680347637973), (752, 0.01797873711591926), (2380, 0.01797070486725637), (1965, 0.017945420776762342), (2753, 0.017938734135543685), (3, 0.017900977494322446), (2286, 0.017892672820187663), (386, 0.01788979483007571), (3405, 0.017881626066734085), (1602, 0.01782541454078875), (555, 0.017797314231436576), (2780, 0.0177891079704), (3287, 0.017761029416256395), (2519, 0.017721669551447827), (1535, 0.01769111782364293), (1919, 0.017666627658436494), (64, 0.017620821989839695), (3878, 0.017614338767248012), (3169, 0.017612831336883832), (642, 0.017588521219496858), (3486, 0.01754183846820434), (3603, 0.01750845287274246), (2789, 0.01748777491857385), (269, 0.01747253168073766), (3569, 0.017458408721261753), (3833, 0.01744758542925982), (4476, 0.017424356654820342), (1351, 0.017420469708028047), (3282, 0.017380436148569614), (1741, 0.017319567450887235), (736, 0.01729575887336369), (1341, 0.017267468315952682), (1297, 0.0171949489499685), (3123, 0.017077759552599617), (1329, 0.016954020685406298), (44, 0.01695044459219553), (1852, 0.016942276964786368), (1508, 0.016919626828691876), (1849, 0.016913440763304755), (4211, 0.016864881411049488), (1635, 0.01684920765456102), (2844, 0.016817715012125915), (1427, 0.016692054991091165), (4682, 0.016670849244775646), (3555, 0.01665133510756507), (4490, 0.016604095958239414), (4216, 0.016603332771880017), (1113, 0.01658545982098882), (475, 0.016560262162206067), (3786, 0.016484607384472046), (4209, 0.01642253072603827), (2865, 0.01638657117008683), (1915, 0.016338877291192308), (1630, 0.016301769047663194), (2269, 0.016249736440363184), (3206, 0.016215033047333734), (4012, 0.01621479192788569), (3408, 0.01619107748948696), (2160, 0.016166693663293655), (1168, 0.016093487559424236), (426, 0.01606964741083857), (614, 0.01606408266861203), (4701, 0.01597295621858981), (3143, 0.015956357979060424), (916, 0.015919458605240078), (978, 0.01589117854572054), (4594, 0.015785755602136495), (4633, 0.015750276818095193), (4535, 0.015670874785561457), (4401, 0.015642858826512798), (352, 0.015615076535101668), (3884, 0.015592962229576648), (4002, 0.015564229705040407), (3754, 0.015542424199050053), (3825, 0.015511925966858828), (3797, 0.01549341626383377), (3364, 0.0154713821563699), (3506, 0.01545710073965747), (3903, 0.015350861947596637), (4046, 0.015348860686252916), (1924, 0.015310992199432945), (3714, 0.015303535808802383), (4110, 0.015247986472910039), (3889, 0.015184284901918126), (2400, 0.015158350562166106), (952, 0.015134897190504577), (683, 0.015129851586066239), (1405, 0.015104274161962321), (3587, 0.015096930954333324), (2500, 0.015094711273599687), (3692, 0.01507493633551869), (430, 0.015069640578708146), (436, 0.014994516109338902), (553, 0.014961789528541837), (1474, 0.014946045649537977), (4593, 0.01490258180744064), (1498, 0.014899652425977971), (74, 0.014890553639863274), (4531, 0.01485256151286403), (4054, 0.014845944060397197), (62, 0.01479652530971374), (2428, 0.01479023292523997), (48, 0.01476697496171081), (4602, 0.014704164334676988), (2352, 0.01468297360481929), (4601, 0.014669064231632098), (3919, 0.01463608677004515), (675, 0.014615342813418135), (3642, 0.014532966993228164), (3233, 0.01440363805521608), (791, 0.014397375298102071), (3184, 0.014394674540679747), (1798, 0.014387509746294951), (509, 0.01435828299474015), (1409, 0.014337742214219903), (3542, 0.014325092452315297), (2964, 0.014321317515886394), (12, 0.014311723276366622), (3235, 0.014287017826123249), (4355, 0.01427762448038301), (750, 0.014263854890384923), (680, 0.014252777056884344), (2715, 0.014242718263875832), (3618, 0.014205922671687377), (2091, 0.014195854635889765), (1234, 0.014191788700488706), (3483, 0.014189852370276196), (2061, 0.014180895379368876), (193, 0.014169790047895892), (4014, 0.014166186994911616), (3264, 0.014151223828022575), (4677, 0.014151221424837154), (4391, 0.014149361591327894), (4566, 0.014127904451222277), (3388, 0.014120462520424752), (3654, 0.014094840495816708), (1902, 0.01408687185766818), (2521, 0.01408520641543865), (1821, 0.014063600557206523), (378, 0.014060944508755252), (20, 0.014018003819663253), (3382, 0.013984494424031838), (4136, 0.013961295907670118), (79, 0.013957323776338609), (1506, 0.013944608861131998), (884, 0.013943507660510609), (588, 0.013926356552487652), (1124, 0.01389446660393405), (2072, 0.013887261599359272), (774, 0.013886415830047566), (3517, 0.01387651356741251), (3888, 0.013853248104665398), (980, 0.013851294071218611), (1629, 0.013834155326774332), (769, 0.013817694028706367), (4487, 0.013793927453092103), (1860, 0.013782791189904641), (871, 0.013770285786888633), (2230, 0.01376363733319835), (2746, 0.01362670063631338), (4302, 0.013597333160800341), (2374, 0.013582409580707576), (1245, 0.013571648772859025), (2571, 0.013526991309610544), (3551, 0.013526395918142455), (1645, 0.013525778657272447), (3298, 0.013524605588682374), (3641, 0.01352185403053848), (4139, 0.013520131572031536), (3210, 0.01351842746093963), (4503, 0.013516285567633967), (19, 0.01350849502222874), (897, 0.013503904923643815), (4517, 0.013483046795802837), (2067, 0.013482556984288732), (2826, 0.013473543008742612), (3900, 0.01346322911841007), (3564, 0.013453977092320685), (4670, 0.01341157856341319), (226, 0.013400143233245607), (1179, 0.013400121941810398), (1163, 0.013378359520567212), (2250, 0.013373051446967687), (2195, 0.0133666428883953), (4152, 0.013358070026889142), (689, 0.01332847390396494), (1483, 0.01329803029252816), (4000, 0.013293356808074367), (2995, 0.013269436288353215), (1831, 0.013251209694054716), (3734, 0.013205362253288782), (282, 0.013203048775270955), (3173, 0.01319846704929056), (31, 0.013167518248804029), (3744, 0.0131667600624425), (2899, 0.013161488078074136), (3089, 0.013144871681049634), (903, 0.013124072108014341), (2910, 0.01311273952068127), (2927, 0.013110512802171261), (3502, 0.013095044309777294), (2496, 0.013093366413018925), (2632, 0.013086959823207154), (2553, 0.013065708378768894), (2698, 0.01305759475569476), (3452, 0.013055628981990443), (1408, 0.013052583287333566), (1284, 0.013046176792017396), (4395, 0.013038042885399994), (2837, 0.013033743334509754), (4646, 0.013030361242171325), (1017, 0.013026459809302773), (1433, 0.013025680642466871), (329, 0.013000962028125045), (368, 0.012986341105815192), (1030, 0.012972996322433079), (4069, 0.012944877453508804), (1463, 0.012921633306060536), (1477, 0.012913931885084646), (1597, 0.01290999006964356), (923, 0.012906405963490348), (85, 0.012892863777858938), (3389, 0.012876811519980037), (3246, 0.012847998423256214), (3844, 0.012806743842413624), (4638, 0.012771716361940967), (3390, 0.012769253512225222), (984, 0.012748042376731617), (2242, 0.012738542348295072), (2892, 0.012721724064080496), (4374, 0.012721676474089299), (4285, 0.012696179268597547), (1742, 0.012671980977711482), (878, 0.012658343252097453), (4154, 0.012651466544338963), (491, 0.01264797282842744), (4238, 0.01262475305646516), (2023, 0.01262057716301825), (3022, 0.012586331826946007), (1041, 0.012580101334256893), (2730, 0.012556855482354546), (4346, 0.012551704085528775), (1014, 0.012534384463217488), (4276, 0.01253139146320249), (4194, 0.012517451050141671), (4547, 0.012480784178820174), (3942, 0.012466563031032158), (4356, 0.012463960257720216), (3532, 0.012456362630692202), (868, 0.012443217440941776), (2724, 0.012441238505958687), (380, 0.012428790997545177), (463, 0.012420567470686057), (1381, 0.01241530838788249), (252, 0.01240184250054677), (1519, 0.012393215540824006), (805, 0.012393160147070637), (3972, 0.012391633415905136), (4714, 0.012386206653747229), (2180, 0.012367023514517008), (1114, 0.01234406763718461), (3460, 0.012323820256793627), (537, 0.0123150048750322), (2982, 0.01231229577757531), (2357, 0.012282194103200741), (2301, 0.012259408605169829), (1782, 0.012257601167433267), (681, 0.012248616124992558), (957, 0.012237598275786393), (1796, 0.01222806285067344), (1011, 0.012218274485671853), (3563, 0.01221469188766796), (1675, 0.012209164259617798), (759, 0.012202106147739401), (2803, 0.01219635326530832), (512, 0.012146907311582378), (2402, 0.012137131169556422), (3304, 0.012135321140925897), (3158, 0.01212587443795942), (3385, 0.012125570459863053), (1827, 0.012119166861657647), (3469, 0.012115804390284606), (2338, 0.012108450723077955), (1976, 0.012085819063393762), (2479, 0.012081151494001158), (4453, 0.012079728210684565), (747, 0.01206198069408314), (3080, 0.012059079261147873), (3986, 0.012058541225332502), (364, 0.012045116938376572), (2527, 0.012041910783729721), (3180, 0.012036430495284528), (904, 0.012030352401790722), (3108, 0.01202858292022832), (663, 0.01202435930049908), (2843, 0.012014001361633383), (1836, 0.01201229651119897), (128, 0.012002154006197122), (3001, 0.01198922789993313), (3688, 0.01198781271678386), (3384, 0.011981482433813796), (4344, 0.011968248587815332), (732, 0.011963946146799588), (1414, 0.011956218771813068), (4077, 0.011920913050823078), (1486, 0.01191470519385328), (1466, 0.011913998680845944), (591, 0.011881236874726787), (69, 0.011879171679722975), (2233, 0.011872699024443911), (3741, 0.011871372113509956), (1799, 0.011849319266353455), (3802, 0.01184647640389695), (3634, 0.011837756430123459), (2898, 0.011789878777979528), (4247, 0.011779317365069313), (1186, 0.011767753474761965), (4747, 0.011761767059528722), (2240, 0.01176090675155734), (225, 0.01175360107850143), (303, 0.011739996238138104), (2860, 0.011738064601435944), (4432, 0.011730395777247868), (2136, 0.011725371550715152), (4493, 0.011716736963922426), (1301, 0.011708628927517502), (3759, 0.011700786627740638), (2599, 0.0116931982589751), (3977, 0.011684757721431203), (2355, 0.011672554767163543), (3331, 0.011671087830576788), (1150, 0.011669124903870422), (3655, 0.011663381734925125), (4076, 0.011655279768418668), (2221, 0.011639569237817561), (4312, 0.011623659970806438), (1465, 0.011619246281828385), (1057, 0.011608738640372063), (242, 0.011603486250553081), (4150, 0.01160104160493171), (3059, 0.011590249588107724), (1575, 0.011583945464630471), (3131, 0.011574786894449601), (992, 0.011574277734944455), (413, 0.011552689413301653), (4015, 0.01154946437133782), (2729, 0.011542240268047763), (89, 0.01152311891229928), (1280, 0.01152045175804579), (1791, 0.011517740191138954), (3997, 0.011517712868219843), (1205, 0.01151148538876758), (251, 0.011486863255770183), (4622, 0.011484058567938868), (913, 0.011475939097263507), (3724, 0.01147157276404221), (3897, 0.011470694673081741), (3048, 0.011460388366093813), (2337, 0.011454246253242718), (4406, 0.011443588287940506), (1904, 0.011441461302921271), (2330, 0.011438788330451569), (2799, 0.011438539161224554), (220, 0.011437982694504072), (1013, 0.011431613127366264), (3747, 0.011426757755070202), (1050, 0.011417479595806567), (3305, 0.011400670823380879), (1332, 0.011386698388030077), (600, 0.011384076809953196), (2384, 0.011382271201970197), (599, 0.011381919240346277), (656, 0.011366173191285743), (3968, 0.011361222791821708), (4119, 0.011358854522847682), (4463, 0.011344001298331808), (1233, 0.011335697627680566), (3513, 0.01133523437619342), (2217, 0.011326068386735999), (4626, 0.01131967816545496), (2605, 0.011293758707280268), (2090, 0.011291353004623993), (516, 0.011277211858977777), (4250, 0.011274722623454178), (2157, 0.011269215984537999), (4466, 0.01126560753124507), (1613, 0.011253335285195055), (3347, 0.011248468315979136), (517, 0.011243036888259466), (1786, 0.011240157562149645), (3207, 0.011230808065837847), (3907, 0.01122454295764209), (841, 0.011221773735789328), (1681, 0.011220147904899058), (1195, 0.011214577277946221), (189, 0.0112034076078512), (1469, 0.011200174231522357), (918, 0.011196169380318633), (3743, 0.011194335677788034), (1042, 0.011193118680625381), (3695, 0.011178487747824043), (4467, 0.011175384080218695), (3730, 0.011171944581830245), (3463, 0.011160346418433675), (3430, 0.011155381249467158), (678, 0.011141393708431575), (3191, 0.0111380453445063), (778, 0.011133949350441246), (95, 0.011128958657340596), (1829, 0.011124389177072135), (3056, 0.011102533128651868), (902, 0.011098051209370059), (572, 0.011091000388125058), (1571, 0.011080263963890368), (4595, 0.011058531552926203), (3690, 0.011056371581620518), (1111, 0.01105566373932989), (2955, 0.011047996088072783), (1246, 0.011040565560890066), (1108, 0.011038927692548973), (4659, 0.011028465957223574), (2708, 0.011027691399040676), (1250, 0.011026920299892329), (2421, 0.011023164701523173), (4656, 0.011020375814417584), (4436, 0.011020266577285852), (1677, 0.011015113397935341), (3586, 0.010998615157369955), (1101, 0.010996720791499274), (1361, 0.010989777283665535), (3576, 0.010988129609911666), (28, 0.010984509502482406), (2637, 0.010972530766240036), (3254, 0.010958058113011234), (3467, 0.01095718622880334), (3520, 0.010952236729707993), (3332, 0.010948449187141574), (4041, 0.010942716608581607), (4581, 0.010919661800552188), (3438, 0.010910355952785172), (2817, 0.010897539458451788), (258, 0.010892709595537677), (1515, 0.010889385654370129), (3109, 0.01088438887331659), (2501, 0.010870925994574981), (39, 0.010863297947486153), (3427, 0.010859756547387757), (4383, 0.010856677978186815), (17, 0.010856214003420357), (4683, 0.010855326201360555), (2441, 0.010852591133713185), (1074, 0.010852122654162674), (1505, 0.010850207691846766), (1151, 0.010848294965326638), (748, 0.010844564838549354), (3367, 0.010835908170219583), (264, 0.010833781519880107), (4364, 0.010829166230922933), (1566, 0.010827577825201065), (4613, 0.010818890572283375), (3982, 0.01081617843027914), (4662, 0.01081340279186689), (135, 0.010809586195300975), (1269, 0.010801443994937234), (3955, 0.010796532412094056), (1262, 0.01079005352341079), (4128, 0.010779383594987845), (1380, 0.01077823361293345), (3594, 0.010776149469294054), (654, 0.010771435354861752), (619, 0.010768749105482502), (460, 0.010768602912745763), (1185, 0.010767141557336633), (4674, 0.010764053750937108), (2959, 0.010758723622360074), (259, 0.010756943640724773), (2850, 0.010752735220510238), (3270, 0.010748544251496794), (22, 0.010742295308288321), (674, 0.010724517468171407), (1271, 0.010722720003872234), (453, 0.010706091521836943), (2471, 0.010694701881660147), (375, 0.01069208465221712), (3538, 0.010686294439914541), (3870, 0.010684295655236245), (2000, 0.010679881416980983), (55, 0.01067869986107446), (298, 0.01067579439073793), (3378, 0.010664401005595271), (613, 0.010663911764944555), (1358, 0.010662635762485818), (4264, 0.010661433316509992), (1047, 0.010647950280408977), (1534, 0.010636089277396574), (1082, 0.010625496686327927), (2259, 0.010624321385308756), (3685, 0.010613750137330832), (1696, 0.010608990313194932), (2713, 0.010598683533831015), (150, 0.010590591560231061), (3930, 0.010580436656465693), (90, 0.010579475586505816), (2232, 0.010569709274021722), (2106, 0.010564959855683467), (3368, 0.010562686428070182), (567, 0.010550152842863734), (2456, 0.010548101549466136), (3709, 0.010544910204973572), (1244, 0.010541627290360693), (2824, 0.010540262734187265), (3398, 0.010540223352724865), (3625, 0.010531643750426692), (2178, 0.010523303193531824), (3994, 0.010513693024304159), (1966, 0.010512601969166516), (152, 0.01050645731606281), (554, 0.010494727817621403), (1592, 0.01049271691196688), (809, 0.01049206557897119), (4376, 0.010477933974746598), (4588, 0.010477738037414705), (2062, 0.010475796625763029), (1146, 0.01046080011121025), (4678, 0.010445375053123067), (3720, 0.010440499251665285), (546, 0.010438522519764943), (261, 0.010438157722479207), (2290, 0.010428999015207163), (3141, 0.010423261748245842), (2732, 0.010422810125686502), (390, 0.01041288975946375), (56, 0.010405292463257604), (4380, 0.010400555352730457), (219, 0.010398281227503938), (1495, 0.01039751736825481), (3886, 0.010390124014610062), (2551, 0.010384111190000126), (427, 0.01037729206331109), (2685, 0.010371805258649348), (1105, 0.010371637356366266), (2680, 0.010370528315377206), (367, 0.010364246775813062), (811, 0.010361191341680395), (1285, 0.01035788681016084), (3595, 0.010351160450515547), (3605, 0.0103425923810424), (3965, 0.010332501179839205), (3105, 0.010330907547768272), (284, 0.010317755435442192), (266, 0.01031191676823476), (2618, 0.010303884892470335), (1945, 0.010297469806754674), (2644, 0.01029437619198531), (2711, 0.010294372611346126), (2950, 0.010281240298466124), (171, 0.010269669379486139), (45, 0.010267918053841082), (451, 0.01026403546189452), (260, 0.010261621310009088), (4184, 0.010261595264725093), (1664, 0.010246498426739345), (938, 0.010244117949349653), (3361, 0.01024139556229038), (263, 0.010238195289771832), (812, 0.01022965153298325), (1374, 0.01022727783863955), (272, 0.01021683530803147), (763, 0.010213746195744914), (4736, 0.010213662655945935), (3021, 0.010210625826032245), (3188, 0.01020824211890374), (2246, 0.010200686810856818), (1783, 0.010179652613520308), (3518, 0.010172468584669662), (1579, 0.010169421019833612), (4182, 0.010167858971294557), (562, 0.010167412144957852), (2014, 0.01016467189943492), (3193, 0.010162996755130936), (2503, 0.010134282543326031), (702, 0.01012208066827122), (2578, 0.010112637235896033), (1986, 0.0101072070287949), (565, 0.010104919591765203), (492, 0.01010094315513122), (3966, 0.010090102586542941), (1662, 0.010083391919725977), (1649, 0.010082802426978208), (322, 0.010063657205599257), (2442, 0.010061803858905876), (530, 0.010060234834132063), (7, 0.01005777624487958), (2450, 0.010057396503474753), (4697, 0.010056566830707315), (46, 0.010055581480035273), (3602, 0.010048815986245147), (3644, 0.010041030461657937), (3718, 0.010032118079952452), (745, 0.010002917151435167), (3114, 0.01000158154382329), (2616, 0.009992525146560011), (4063, 0.009984420459283716), (1354, 0.009980324218692086), (3294, 0.00997861009674872), (3079, 0.009970734985035912), (2239, 0.009968996258782259), (3528, 0.009966100361944844), (1066, 0.00996423188482711), (379, 0.009963406386798176), (2677, 0.009957481715131914), (2666, 0.009945488424363748), (3923, 0.009940855880153062), (1471, 0.009938384247804683), (94, 0.009935244682809442), (80, 0.009913022103181093), (72, 0.009911563842831544), (1982, 0.009909523934418995), (3127, 0.0098994220057261), (2125, 0.009894815115163475), (397, 0.009891964212042243), (1584, 0.00988029198098427), (1055, 0.0098787780454863), (1281, 0.009874675108576723), (776, 0.009874498512801375), (4153, 0.009859048836636942), (3156, 0.00984329473955853), (223, 0.009841240943130622), (3047, 0.009824449729380279), (2167, 0.009820557454067295), (1996, 0.00981981884693612), (1651, 0.00981750365053041), (3490, 0.009814221300522119), (67, 0.009810487130409384), (1171, 0.009800134160668815), (3247, 0.0097848347109594), (2058, 0.009763158367808238), (3824, 0.009754270607227007), (3881, 0.009746062421412557), (713, 0.009729899264362475), (2962, 0.009725283558725498), (4441, 0.009708206541914996), (1631, 0.009696167923319586), (1487, 0.009689633315132493), (3231, 0.009688221061267512), (53, 0.00968426816394963), (932, 0.009671293372003571), (1750, 0.00966875408320876), (1095, 0.009668542171544727), (3899, 0.009666237972010064), (1, 0.009663407754477988), (859, 0.00966046406346689), (3201, 0.009643372459401786), (497, 0.009627615910032012), (333, 0.009623193470266312), (3823, 0.009609013349894153), (1468, 0.00958973396642011), (548, 0.009583644499935567), (91, 0.009577928375434074), (3788, 0.009553158237420555), (648, 0.009551068807996544), (3136, 0.0095318263211915), (4365, 0.00952933089769384), (2327, 0.009528457096085147), (3732, 0.009521473252456083), (3426, 0.009506955140777564), (1430, 0.009502867207796514), (756, 0.009500221964405874), (710, 0.009494299877516951), (4305, 0.00949419815876476), (3550, 0.009493206592107799), (417, 0.009492953852434432), (187, 0.009489765387367264), (3775, 0.009484048657513112), (568, 0.009478645697124343), (2093, 0.0094519040022635), (3365, 0.009451127059003615), (770, 0.009439474395903947), (1590, 0.009432718308287534), (4664, 0.00943271605517461), (3711, 0.009416112322324473), (376, 0.009398008906695988), (3395, 0.009388451717023266), (1772, 0.009388242643828886), (762, 0.009377587186682747), (73, 0.00936649186932285), (2207, 0.00935640607916454), (354, 0.009352525177807203), (1259, 0.009340996776833985), (1974, 0.009339738615229092), (1212, 0.009333340369620701), (824, 0.009332700847288336), (37, 0.009329576374376604), (291, 0.009315512401492828), (625, 0.009310287915838825), (1546, 0.009307249938516416), (2177, 0.009301037443257986), (3945, 0.00926592096112151), (1745, 0.009260128394559565), (394, 0.009245847529755383), (3693, 0.009230866868713368), (601, 0.009229395343294056), (1120, 0.009223825859642522), (4018, 0.009221204212770064), (893, 0.009215535936942918), (898, 0.009206485003427994), (334, 0.009196096863290412), (2443, 0.009195055768501893), (4366, 0.009189192846872132), (1046, 0.009189159877830538), (2622, 0.00917888812545867), (3633, 0.00915299997815296), (2114, 0.009108213740736075), (78, 0.009094198696702015), (1994, 0.009093239771095057), (75, 0.009086927174525247), (3559, 0.00906819727062262), (4450, 0.009059464845645121), (820, 0.009027623982888084), (2074, 0.00902226415406926), (3484, 0.008997291329877775), (740, 0.00899059517134676), (2770, 0.008946513699917506), (4553, 0.008936265242504404), (3045, 0.008934324432263075), (3392, 0.008904948545952035), (862, 0.008903361943814738), (1296, 0.008892061338919684), (2439, 0.008882457550582278), (3480, 0.008870949418438292), (2573, 0.00886835094996522), (1530, 0.00886006008600786), (438, 0.008844528102721665), (3748, 0.008842466786508966), (602, 0.008833256157119522), (2294, 0.008828965105917344), (2018, 0.008824518369837558), (1164, 0.008797108706698859), (3129, 0.008780481082450723), (779, 0.00873604934717048), (877, 0.008651902691992295), (1300, 0.008641669498386366), (3806, 0.008621747051108387), (2078, 0.00860433878644267), (2877, 0.008580043456270604), (1701, 0.008543089831315213), (3713, 0.008520806215372823), (1467, 0.008511139185616941), (2665, 0.00841524975920548), (369, 0.008279966084818395), (1344, 0.00826401798849912), (2524, 0.00823514018476215), (2324, 0.008211265424094177), (77, 0.008153889980741796), (477, 0.00815214297090347), (4373, 0.008144335504936082), (2013, 0.008142655261248988), (294, 0.008137301805275134), (168, 0.008032102470789159), (4261, 0.008026758400176763), (561, 0.00797789235448391), (421, 0.007903941011392253), (3574, 0.007849133029934792), (2388, 0.007813371275429786), (2841, 0.007485767025008759), (336, 0.007329573574577219), (2555, 0.007237111583143565), (3391, 0.007094248534683018), (2544, 0.006920356250008457), (3750, 0.006911022586217954), (2614, 0.006910337152000524), (844, 0.006859655356810021), (2809, 0.006698836544883155), (4739, 0.0064889475459070645), (2440, 0.006463246623867504), (1442, 0.006300625053476027), (4719, 0.006163002559214876), (3240, 0.0061499577656309685), (1019, 0.0060391927609541405), (3137, 0.005906823298815334), (3932, 0.005869882283366954), (3226, 0.005853335402754157), (788, 0.005843359493149724), (3325, 0.005685292281535769), (4151, 0.005467267733346201), (2678, 0.0051823776424533945), (3552, 0.005175343370318257), (611, 0.005112486966141544), (2299, 0.005088505728613882), (4571, 0.0050564138380002), (3178, 0.005031054204155822), (2757, 0.004870426684883571), (3667, 0.004865678534825054), (3276, 0.004803492623603621), (2998, 0.004777146559878487), (3925, 0.004736456373763855), (2379, 0.00459235452040533), (2490, 0.004586391346701816), (2937, 0.004569349650919596), (3523, 0.00456160056829399), (4705, 0.004549563923214866), (2768, 0.004523315421897561), (3672, 0.0045216816822809), (2858, 0.0045103069245747964), (2137, 0.004510055149988007), (3139, 0.004505240452254227), (4082, 0.004495260818614782), (2649, 0.004494829320633531), (2189, 0.004466812456509313), (4202, 0.004449470720691195), (3040, 0.004443847583768836), (2989, 0.0044339660234195164), (2251, 0.00442746343409332), (3166, 0.00441393608652449), (2349, 0.004405888266647453), (1145, 0.004400223128727639), (2407, 0.004398631440260806), (3990, 0.004392200603548292), (2889, 0.004380475777715595), (2537, 0.0043652066764983425), (3119, 0.004362466631817705), (4617, 0.004352098684254468), (3052, 0.004346404251059165), (735, 0.004345149185791355), (3055, 0.004330014083191521), (2404, 0.004328092350836212), (4017, 0.004318136336418776), (3561, 0.004313647661811727), (3042, 0.0043115319355984645), (3030, 0.004310774878904381), (627, 0.004308814156329758), (2883, 0.0043061328793289905), (3635, 0.004302211781204066), (947, 0.004292418406798417), (2923, 0.004287443186621923), (3291, 0.004276178321590447), (2731, 0.004271348325659354), (4749, 0.004270478299895191), (4222, 0.004267639176011084), (2310, 0.004254537751635241), (4221, 0.004254452001915083), (3479, 0.004249602478080358), (4484, 0.004242626957193608), (4611, 0.004241455284672186), (3939, 0.004238179076422981), (2673, 0.004233045153093921), (2861, 0.004217793063697851), (2655, 0.004216981200106811), (2932, 0.004207235275856775), (4172, 0.004206774464770884), (2559, 0.004183072442029502), (4418, 0.004179221799393346), (2832, 0.004176017046420886), (2075, 0.004169492695229815), (4696, 0.0041687993526802955), (4444, 0.004168362913135164), (2628, 0.004165624114994035), (3076, 0.004164467774071369), (4407, 0.004162255518202456), (3219, 0.00415850911923597), (2392, 0.004154792723080146), (3292, 0.004153958222452774), (3762, 0.004145602659606829), (2199, 0.004142188126982293), (3892, 0.004136605668468188), (4423, 0.004126295434114578), (4019, 0.004125022071572678), (2425, 0.004124104403572795), (2643, 0.004115409258296881), (2255, 0.004105431183417525), (2257, 0.004096885239130176), (3322, 0.004095389970751627), (889, 0.004095245625273754), (2645, 0.0040951986417842486), (3262, 0.004094420615787701), (2350, 0.004088970141251578), (2901, 0.004085516066772634), (4230, 0.004077232822422306), (2154, 0.004075925312450424), (4142, 0.0040683137589233994), (1208, 0.004056878084002724), (4400, 0.004056449533767945), (4403, 0.004055817343667733), (2530, 0.004044410530541348), (4102, 0.004040283555409311), (3848, 0.004037083179921479), (3015, 0.004032319412933706), (4606, 0.004028517992123377), (2306, 0.004025959204594926), (3828, 0.004024383726974709), (4710, 0.004022236129730596), (2795, 0.004018565641592576), (3239, 0.004011878045949695), (2423, 0.004010221131830291), (3354, 0.0040062915439882775), (3140, 0.004004649068313755), (526, 0.0040014256196383765), (3249, 0.003979880335608281), (4469, 0.003975817334796505), (3687, 0.0039744627026767655), (4692, 0.003972114563594083), (4521, 0.003971838950290311), (4544, 0.003969604208685324), (3363, 0.003968573578687769), (4612, 0.003961401628011326), (3357, 0.003955369292736647), (4242, 0.003953195692640032), (2834, 0.00394779882335347), (3537, 0.003946897858182435), (2557, 0.003946517341567723), (2438, 0.003941488396229314), (3159, 0.003938314628333863), (4306, 0.00393408683421208), (3577, 0.003932536864936247), (4107, 0.00392920947277958), (3922, 0.003928206927506407), (2857, 0.003927930867234129), (4724, 0.00392258202682405), (670, 0.003921564915108807), (3521, 0.003920184367857849), (3004, 0.003919359204642587), (2266, 0.003918169329988713), (3999, 0.003918157331650443), (4572, 0.0039053570068548565), (3074, 0.0039040801209424677), (4298, 0.0039038339076567113), (4443, 0.003898130637474653), (2797, 0.003894843776681305), (2568, 0.003891802715346634), (3874, 0.0038911775475808214), (4723, 0.003890637820856904), (2488, 0.0038888640660302717), (3031, 0.003887092335442581), (3832, 0.003884666465014439), (2188, 0.0038834841437364637), (3302, 0.003877083292803523), (2879, 0.0038752915132705536), (3620, 0.003874807737163348), (4147, 0.0038746071669975945), (3544, 0.00387341903405939), (1655, 0.003870755694383329), (2966, 0.003868309641848321), (3358, 0.0038631779219311276), (3020, 0.0038630261998645163), (3228, 0.0038617006756893296), (2415, 0.0038612433026882324), (1593, 0.003856297346159273), (1064, 0.0038552104321763255), (4062, 0.0038541685267745474), (2778, 0.003847702158484229), (2454, 0.0038424668843901927), (2993, 0.00383810464136301), (3901, 0.0038376020122713626), (3257, 0.003834260409872698), (1264, 0.0038330660878232357), (2619, 0.003832030426341846), (777, 0.00382451678638984), (3413, 0.0038220706675603823), (2895, 0.003808868270358387), (2434, 0.0038041299568119537), (3911, 0.003802331543497134), (4458, 0.0037951365646984384), (3766, 0.0037947428772366204), (949, 0.0037849709281581614), (4554, 0.0037825468705926513), (4637, 0.003775869234757775), (1049, 0.0037732281549987382), (4280, 0.0037712090591863028), (2772, 0.00376942649799803), (3308, 0.0037672265301330245), (4735, 0.003765468246609064), (2986, 0.003763917179494587), (4023, 0.0037578776623548044), (4717, 0.0037573588670077335), (2769, 0.0037559092317773326), (2738, 0.0037552015902301335), (431, 0.0037527170510414606), (4632, 0.0037515055036356068), (3763, 0.0037501839959961304), (3935, 0.003749616438270384), (2613, 0.0037487682271527753), (4416, 0.0037456314851453732), (3081, 0.0037448856026444113), (2378, 0.003744839644254714), (3621, 0.003744391299928942), (3745, 0.003743226214179694), (4584, 0.003741010066947829), (2089, 0.0037390967926766174), (4694, 0.003738863846195544), (1187, 0.003738651856111495), (4145, 0.003737920959805921), (2406, 0.00373775174340445), (1968, 0.0037369439913594264), (2707, 0.003734685556604902), (518, 0.003730458247626608), (2720, 0.003729484071819608), (1885, 0.003728452381765556), (4412, 0.0037275528155396305), (2417, 0.003725755586994871), (4030, 0.0037245231300556195), (4589, 0.003724504566638826), (1169, 0.003724195187831136), (2846, 0.0037233748411326538), (937, 0.0037177175485461522), (3951, 0.003712949937896862), (2142, 0.003711226013232687), (1547, 0.0037061527869563502), (3019, 0.003704351468592802), (3359, 0.0037032216748669926), (4126, 0.0037028109806232683), (2696, 0.003699055824331355), (3072, 0.00369843951259627), (3307, 0.0036963124533293985), (2427, 0.0036962200046966407), (1947, 0.0036939823865019886), (2924, 0.0036904010117781508), (4163, 0.003689261488059659), (4203, 0.0036885079247911193), (3729, 0.003687758666324446), (3425, 0.003687071374271188), (860, 0.00368689423500519), (1398, 0.0036836417553364497), (4713, 0.003683634181767853), (4398, 0.0036769781416644627), (3230, 0.0036736861657426212), (2987, 0.0036735990682133027), (2884, 0.0036733499039832305), (1275, 0.0036716643015965904), (3337, 0.003671639724835865), (3396, 0.0036703766929608913), (3866, 0.0036679692343745615), (823, 0.003667840623822194), (4650, 0.0036671623821254145), (2872, 0.0036628874978078554), (4369, 0.003660928064906664), (925, 0.0036588702830139593), (4507, 0.0036549875081524122), (3165, 0.0036548739191774194), (2478, 0.0036529454311960644), (2560, 0.0036521341292964186), (2187, 0.003652054697315723), (3952, 0.003649170812047201), (847, 0.0036490062269878922), (4516, 0.003648902947046318), (1656, 0.0036482364024529334), (4465, 0.0036469134020468245), (721, 0.003645999784021192), (4244, 0.0036454652070992783), (3639, 0.0036418078695938435), (2796, 0.0036416041466358785), (3423, 0.003641024892523214), (3651, 0.0036401847258204084), (985, 0.0036400752767355954), (4117, 0.0036324245900363436), (1497, 0.0036316216670467367), (739, 0.0036310526580221303), (3661, 0.0036291596427279085), (4753, 0.003628463671923574), (3883, 0.0036272135820178165), (4243, 0.0036225603585434817), (3772, 0.003621208773329348), (3296, 0.0036192040750357576), (2223, 0.003618061077778571), (2346, 0.003618007720759832), (3611, 0.0036155687607153206), (2302, 0.003614294970030245), (2629, 0.003612195521470805), (1909, 0.003611787581841246), (4187, 0.0036105983441960384), (1843, 0.0036091607686388172), (2893, 0.0036085570099911196), (3186, 0.0036080598650174525), (3960, 0.0036075014133271402), (998, 0.003607319619947505), (1887, 0.0036060643096464534), (999, 0.0036043672802548755), (2881, 0.0036039229640488146), (4731, 0.0036027965880025183), (2623, 0.003602361901632797), (4092, 0.003601049076435169), (2914, 0.003598732281387528), (3680, 0.0035983223644898334), (4494, 0.0035948323069279384), (281, 0.0035922559619528055), (4699, 0.003590294992732752), (3013, 0.003589653711009167), (737, 0.003589059084999449), (576, 0.003587122455511606), (1349, 0.0035854022821908468), (3274, 0.0035853360296016143), (419, 0.0035838710270088545), (3373, 0.0035815086828334276), (4368, 0.003581281890577413), (4333, 0.0035806439207849024), (533, 0.003579051433032271), (1023, 0.0035768878272543292), (1489, 0.003575601549616018), (3560, 0.0035753728146944307), (3962, 0.0035738128266704704), (2974, 0.003572630562058705), (922, 0.0035700999793647215), (4718, 0.0035688162872159904), (2903, 0.003568497693938413), (4160, 0.0035677238491211294), (3012, 0.0035676035468100433), (2579, 0.0035668029698796362), (596, 0.0035653768643000294), (2916, 0.0035642944915763148), (1862, 0.003563811063351784), (1594, 0.003562742770228213), (1499, 0.003562112565079354), (3414, 0.003562012157668249), (3146, 0.003559324135974026), (2134, 0.003559298427327688), (308, 0.0035583154448109644), (2356, 0.0035572219689955975), (2436, 0.0035565163484270524), (3737, 0.003553196400929775), (701, 0.0035520928725642576), (4293, 0.0035508244304993147), (3804, 0.0035496554612710176), (2840, 0.003549038937986015), (3248, 0.0035488498948934707), (3640, 0.003548767559865679), (729, 0.003548389168549813), (3273, 0.0035426242533875794), (2585, 0.0035423552997948956), (2782, 0.003542189463856076), (3157, 0.00354183506713743), (2830, 0.0035414720141553413), (4397, 0.003541433533424039), (41, 0.003540777337275006), (3003, 0.003534896339729128), (4259, 0.003534568083293068), (3857, 0.003534332316899529), (2854, 0.0035340172961559413), (1923, 0.003534011640262656), (2505, 0.0035339308099725125), (2108, 0.00353187779767283), (1109, 0.003528471946036664), (3062, 0.003527859693000968), (4138, 0.003527119434856537), (2535, 0.0035268630240546666), (688, 0.003525024697412269), (1960, 0.0035231829926877624), (2592, 0.0035227786080099526), (3967, 0.003517670374386707), (3026, 0.003515689029702943), (2040, 0.003515459419773847), (967, 0.003513205371970055), (2176, 0.0035127696700665133), (3961, 0.003512246810180591), (2112, 0.0035121394019567713), (715, 0.0035114106226657436), (1580, 0.0035113154508434356), (2890, 0.0035112916664532794), (4619, 0.0035109100561828057), (2159, 0.0035088850212715616), (3097, 0.003508814512308566), (2049, 0.003508079754809535), (254, 0.003507315986537217), (1754, 0.00350536028156568), (4263, 0.0035047847845819965), (3417, 0.003504702103693896), (2996, 0.0035018760871822763), (371, 0.003501539445857054), (3924, 0.0034979427601865946), (3116, 0.003496734308510884), (1454, 0.003495110939791533), (476, 0.003493001348131611), (3677, 0.0034929241442118127), (450, 0.0034916704418896665), (2410, 0.0034908482083142447), (4446, 0.0034907015599384503), (1479, 0.0034900765815372163), (2464, 0.0034899035287241755), (4308, 0.0034896126609495677), (1733, 0.0034890324579100952), (2390, 0.003488371747184749), (3183, 0.0034845384464848995), (4048, 0.003483556426239026), (2624, 0.0034818940847260514), (123, 0.003481450925294518), (4130, 0.0034780044147467667), (318, 0.0034774915793111677), (1043, 0.003477367174764415), (4140, 0.0034768049912557585), (3497, 0.003476768039664524), (1243, 0.003470781768820412), (3749, 0.003469536112345736), (4116, 0.0034692011009700026), (2293, 0.0034685454266404855), (4522, 0.003467761896741567), (342, 0.003466443091084973), (350, 0.0034642155221678997), (499, 0.003462964408599547), (3064, 0.0034624963973203717), (481, 0.0034605468136736837), (2748, 0.003460256095200283), (3258, 0.0034601838424952614), (887, 0.0034599932458109135), (2214, 0.0034598145853978004), (2882, 0.0034578566339785602), (2507, 0.0034567008897102435), (3915, 0.003456293324848875), (8, 0.0034558008965410573), (4528, 0.0034557522343997725), (2595, 0.0034513893039635297), (1897, 0.003450162048340235), (4722, 0.0034497225464330157), (1325, 0.0034490082131532055), (2888, 0.0034469518080407035), (3771, 0.0034466012571466504), (2705, 0.0034455056056843522), (3694, 0.0034437530718048727), (4545, 0.0034435186597272923), (1959, 0.003442128004597336), (3269, 0.0034420993401638794), (192, 0.003441651154895012), (794, 0.0034388794665387045), (4734, 0.003438857949189986), (3704, 0.0034387358104551236), (3449, 0.0034385526131619232), (3271, 0.0034382455099002843), (3086, 0.003437507657040208), (4024, 0.0034363336635708777), (2116, 0.003434374867747532), (3757, 0.003432562407084388), (728, 0.003432092991351118), (2494, 0.003430738020282437), (4579, 0.0034298958044748713), (210, 0.003429493950747611), (2776, 0.0034271844028942815), (1907, 0.0034252016306795187), (4132, 0.0034251636742648746), (4161, 0.0034232997543623693), (4657, 0.003422346013779186), (2475, 0.003422056498610309), (3112, 0.0034217360043886443), (1995, 0.003421644934157445), (1359, 0.0034193186281274777), (4540, 0.0034191543191074525), (4245, 0.003418873380765383), (1708, 0.0034177228636835), (2162, 0.003417178362378138), (2661, 0.003415981484413399), (991, 0.003415740036756223), (3496, 0.0034156694758314715), (2254, 0.003414687229422996), (395, 0.0034140598588703877), (2723, 0.0034127205596217575), (4371, 0.003412324864446344), (485, 0.0034100890820270555), (4495, 0.0034083745796563395), (4574, 0.003407131906138552), (1537, 0.0034068440143495246), (4111, 0.0034064889293910433), (1683, 0.003405125492989447), (2260, 0.0034040186239199088), (3904, 0.003403581000981395), (2725, 0.0034031364373411344), (21, 0.003402881518753913), (3728, 0.003402729217360527), (4680, 0.003402273368847286), (4038, 0.0034019218908222923), (2940, 0.003401145625453633), (227, 0.003400746378095375), (1141, 0.0034006109968755874), (2949, 0.003399991143066785), (2712, 0.0033999039718064805), (3007, 0.0033994586261382903), (2391, 0.003398642760518258), (2104, 0.003398372283754106), (2393, 0.0033958527284355445), (1071, 0.0033957801767789965), (4231, 0.0033944409419686783), (1324, 0.0033943526643122105), (2609, 0.003394086399759526), (826, 0.0033936712654901668), (3601, 0.0033936484007641744), (2151, 0.0033927041410229813), (3218, 0.003392432162254827), (2664, 0.0033924313862541875), (4357, 0.003391980941195364), (2970, 0.0033917639081576315), (2522, 0.003391384205231075), (1619, 0.0033911098509334845), (4169, 0.003389605593469921), (3987, 0.003389150340895415), (2105, 0.003388455663532629), (1779, 0.0033878611720596446), (1572, 0.0033858852724078905), (3434, 0.0033853194420232014), (3678, 0.00338523847869661), (792, 0.0033848771663588196), (1339, 0.003382302984590394), (3297, 0.0033812018687118584), (623, 0.0033796321211479255), (612, 0.0033785089521265344), (208, 0.003378307246576131), (2821, 0.0033781316983352134), (1951, 0.0033761224185730626), (2565, 0.003375583634451911), (2361, 0.003375243927651541), (3084, 0.00337495773814778), (4489, 0.00337490376261585), (3314, 0.0033748443967882664), (68, 0.003374769948099376), (4471, 0.0033743948168171393), (2418, 0.003372994486027013), (456, 0.0033713804961244907), (2792, 0.003371252720102099), (3326, 0.0033702548979083766), (4505, 0.00336823338197912), (1853, 0.0033681994025921303), (2714, 0.003367719395427609), (4575, 0.003366872099621294), (1685, 0.0033667004000391978), (1484, 0.003366013601689133), (2288, 0.0033658195652974355), (4286, 0.0033643316815136085), (2849, 0.0033640785517213543), (4052, 0.003363088064937301), (2610, 0.003362894391193636), (4318, 0.0033624770631279174), (1822, 0.003359081983887964), (3037, 0.0033588738016043815), (3406, 0.003358232768617513), (4033, 0.0033570106457475163), (1225, 0.003356922978665583), (1893, 0.0033562381359118917), (470, 0.003356099637141029), (4420, 0.0033553604674522422), (2878, 0.003354346054769527), (1400, 0.003354275442016301), (1916, 0.0033532706610207713), (2394, 0.0033529784940101535), (1075, 0.003352108202682855), (783, 0.0033520694400077564), (4474, 0.0033504846680814577), (1007, 0.003349949364194269), (3511, 0.0033495846763217673), (1670, 0.003349181644946557), (3882, 0.0033490176931626607), (3187, 0.003348606264507587), (178, 0.0033474362681858976), (3984, 0.0033465187651570126), (1570, 0.0033465164533583286), (262, 0.0033428829248831884), (3372, 0.0033419480454945174), (4178, 0.0033412570155211163), (3242, 0.0033408604702690583), (1643, 0.003340739018203398), (2633, 0.0033406748698503936), (4225, 0.003340332431518817), (1188, 0.003339927857197433), (716, 0.0033368569878071586), (173, 0.003334994559226497), (1192, 0.003333959140643842), (2088, 0.0033338967064857803), (564, 0.0033337136071405083), (4363, 0.0033327759229431343), (255, 0.003332176293088165), (4430, 0.003331623057549525), (4497, 0.0033314969317149975), (845, 0.00333135411752074), (2083, 0.0033301045300251435), (2640, 0.003329454738860835), (3150, 0.0033293251961627355), (4354, 0.003328805638831777), (270, 0.00332795331858932), (2926, 0.0033278772537868703), (3770, 0.003327569694851534), (1006, 0.003324471744451528), (204, 0.0033244139076864065), (3862, 0.00332335983224221), (4448, 0.0033231695417498077), (4083, 0.003322139056992493), (1229, 0.003322085696015147), (3514, 0.003321994166004467), (482, 0.0033213727631033084), (879, 0.003319824024894893), (2561, 0.0033198018705558018), (3241, 0.0033197425873739473), (4629, 0.0033195266877868433), (890, 0.0033187115988730508), (2601, 0.0033185943139549994), (717, 0.0033183886809002535), (4419, 0.00331733271050288), (1475, 0.003317271491953342), (2531, 0.0033163100220736904), (2545, 0.003315244640279971), (1513, 0.003314792043527391), (543, 0.0033141891956511857), (1983, 0.0033140919005408063), (4089, 0.0033132635399380464), (2546, 0.0033126067554406263), (2911, 0.0033117547375835707), (34, 0.0033111841989492802), (3902, 0.0033108842505975246), (4361, 0.0033106346039625365), (1727, 0.003308503224030272), (3353, 0.0033082121864298412), (1048, 0.0033067146946960803), (2650, 0.0033061045343138534), (2319, 0.0033056943885807484), (3778, 0.0033053007026957975), (551, 0.003304738502525506), (447, 0.003304189319308058), (4625, 0.003304006170012159), (3666, 0.0033040034672839782), (4262, 0.0033036261749515568), (2016, 0.00330340896814096), (3536, 0.0033017111327680896), (3349, 0.0033013580350784084), (4025, 0.003301243817188314), (216, 0.0032989882199746232), (4079, 0.0032986945004428807), (2148, 0.0032982173586861667), (4379, 0.0032969480733515367), (3920, 0.0032960195386450434), (3959, 0.0032958059071419707), (637, 0.0032951938752081807), (11, 0.0032951814038352694), (584, 0.0032925787535042707), (1703, 0.0032923754799489605), (3689, 0.003291384485582758), (1765, 0.003291120149699531), (4340, 0.003291092878962733), (3527, 0.003289304791634728), (4422, 0.003288364025094564), (4287, 0.00328749579310125), (3198, 0.0032872236331097896), (2053, 0.0032852533918778623), (1382, 0.0032845037773337744), (4249, 0.003283253207388551), (120, 0.0032817760974143293), (2126, 0.003281648615747948), (2863, 0.0032809794158033022), (4470, 0.0032807016905059567), (3636, 0.0032792734925639767), (377, 0.0032786412689261913), (1717, 0.0032772019029042635), (1516, 0.00327711391974308), (2048, 0.0032751825298121167), (3290, 0.0032747125841781897), (2668, 0.003274134952227876), (4643, 0.003273198698066843), (631, 0.0032717895651103905), (743, 0.003269888575701028), (1946, 0.0032698841785249377), (176, 0.003269729406584568), (2466, 0.003267959894831346), (1294, 0.003266638862241912), (1334, 0.0032665861224287648), (2894, 0.0032654588964051274), (4563, 0.00326300266485465), (3701, 0.0032622348968339297), (4098, 0.0032617835755520933), (1254, 0.0032612753189380245), (3289, 0.00326109115006269), (3809, 0.003260271726616014), (71, 0.003259945060401497), (3445, 0.0032588684108788616), (1355, 0.003258622754221377), (2977, 0.0032581611733549843), (4533, 0.0032566949589781127), (4273, 0.0032562785323993182), (4189, 0.003254922448751722), (652, 0.003254789729012523), (115, 0.0032537559468489197), (2386, 0.0032533134086140942), (1174, 0.003253052032501148), (2784, 0.003252461188378605), (1931, 0.0032511965134383665), (1077, 0.003250865151256053), (3699, 0.0032501723908648157), (933, 0.0032497939495975243), (1176, 0.0032481768635323574), (1337, 0.003247342261440982), (1182, 0.003246594444651572), (406, 0.0032465793341662852), (1740, 0.0032460547200339734), (593, 0.0032456306304898823), (3113, 0.003245568583215682), (1688, 0.003244811687124194), (3606, 0.003244465875454628), (4197, 0.0032439654364573825), (3653, 0.0032437158682922596), (4283, 0.003243644731103961), (2073, 0.003243079568049999), (2489, 0.0032428610330286637), (2292, 0.0032409360346552342), (1122, 0.0032396540488726267), (850, 0.0032394821635912817), (3303, 0.0032382150863473347), (2155, 0.003237715667064343), (2397, 0.0032362839561992994), (3792, 0.0032360290603415656), (832, 0.0032354968163666904), (2210, 0.0032353228566675547), (3501, 0.003234569496115491), (4068, 0.003232771228145144), (2295, 0.003232682050589399), (3643, 0.0032326754542785366), (2798, 0.0032313139546191636), (1440, 0.0032312141950912917), (2313, 0.003230683997308876), (4049, 0.0032294776465614443), (544, 0.003229156239664052), (198, 0.0032286073391509986), (1204, 0.0032285449343137), (2430, 0.0032284766003235735), (1533, 0.003227856091806267), (4135, 0.0032272247827145827), (4004, 0.003227076823349581), (4255, 0.003225755049925982), (579, 0.0032256853319129457), (2887, 0.0032242882688195817), (1476, 0.0032238851199880374), (1472, 0.003219085670022313), (1138, 0.0032189064821399535), (1872, 0.0032184308608174572), (2652, 0.0032169807406852557), (3335, 0.0032151101765072214), (4501, 0.0032149001847064525), (636, 0.0032136578212398365), (1510, 0.003212435843076205), (2122, 0.0032124001628946693), (1922, 0.003212240692620201), (2745, 0.0032118765633359237), (1175, 0.0032113647881443293), (4137, 0.003211298171432441), (1574, 0.003211151254248949), (1706, 0.0032110718928626244), (2193, 0.003211036450635372), (3670, 0.0032092941627756156), (3227, 0.0032084604959550047), (628, 0.0032082546764656984), (2109, 0.003207635209862751), (1232, 0.0032066368484190994), (343, 0.0032062213714529916), (993, 0.003205493136327195), (2934, 0.0032052739513063317), (2192, 0.003204536580854063), (3155, 0.003203857566670107), (2783, 0.003202364214603816), (104, 0.003202178870261163), (4686, 0.00320149001213134), (504, 0.003201320725455367), (2533, 0.0032004626476314206), (1876, 0.003200370213614442), (4081, 0.003199702371503004), (4604, 0.0031992781644030353), (2284, 0.0031992589824723357), (3125, 0.003197807712643085), (4435, 0.00319727087000212), (697, 0.0031953922402267556), (1223, 0.0031943979596509436), (1131, 0.0031927096236906197), (172, 0.003192180080538574), (5, 0.0031915580532745087), (3341, 0.003191001070357389), (4715, 0.003190299465545895), (1488, 0.0031900906999471406), (2340, 0.0031899730421860195), (2344, 0.0031887043326192088), (4640, 0.0031879750420562313), (1385, 0.0031860921066868544), (2695, 0.0031860154664491987), (2831, 0.003185746044503989), (1170, 0.003185665336850367), (2354, 0.0031852626264801368), (4330, 0.0031838646654375573), (3612, 0.003183306806008965), (761, 0.003182562700786012), (2558, 0.0031825091399267044), (3478, 0.003182097526032549), (2495, 0.0031818088085607227), (986, 0.0031796610961020827), (1378, 0.003179387566553233), (479, 0.003178332698814598), (3492, 0.0031781745933587608), (66, 0.0031758830396955433), (2387, 0.003175170332305693), (3665, 0.0031745173789180015), (4320, 0.00317400895141695), (3346, 0.0031736312133547073), (3174, 0.003173594773464993), (4016, 0.003173329298849932), (109, 0.0031724490024009834), (2900, 0.003171971078369718), (3330, 0.0031712533078838336), (2943, 0.0031706536100452945), (1021, 0.0031696268803651363), (1112, 0.003169366719861886), (4268, 0.0031692385582135674), (3673, 0.0031692028257240437), (1612, 0.0031686973941980104), (3216, 0.003166568345428201), (3807, 0.0031654055904956125), (4511, 0.0031649423079115166), (4056, 0.0031648953147787487), (1298, 0.00316446101432029), (1678, 0.00316390982222193), (4409, 0.0031632659023672306), (3299, 0.00316198127525726), (346, 0.0031619317354755075), (4060, 0.0031614621275324576), (2289, 0.003160054822597357), (1102, 0.0031581609128224536), (3374, 0.003157973960626308), (4394, 0.003157628875818832), (1811, 0.0031565005679458982), (3477, 0.003155349577805396), (3727, 0.00315501388225895), (1891, 0.003154480121891433), (2174, 0.003154137790546383), (1634, 0.0031538362229499156), (3553, 0.003153741869821978), (3624, 0.0031526034488876097), (894, 0.0031521978533481836), (1072, 0.003151711644856271), (1438, 0.0031513534372074135), (3435, 0.003151161561166769), (490, 0.0031510033654936873), (4520, 0.003150064565055693), (348, 0.0031500000356727573), (1059, 0.0031498710831425526), (2060, 0.0031497785360342884), (3565, 0.00314922681095623), (3596, 0.003149211527066416), (247, 0.003146291690532414), (466, 0.003145960048754443), (464, 0.003145340283144049), (1411, 0.003144439202808739), (2569, 0.0031442852782822017), (3381, 0.003144093548668688), (1500, 0.0031440680962032735), (4228, 0.003143734215568328), (3067, 0.0031435600290821058), (534, 0.003142833688333195), (61, 0.00314161928685719), (1598, 0.0031411835192188347), (374, 0.003139533648530054), (1666, 0.0031379892092170147), (1621, 0.0031369746317041042), (880, 0.0031363960166493087), (867, 0.0031360935999671857), (1257, 0.0031356593570014803), (1313, 0.0031356530918116837), (4668, 0.0031354272418367395), (973, 0.003135041823188377), (2173, 0.003133448073814147), (2961, 0.003132191018667061), (3093, 0.003131622707632232), (2946, 0.003131585979999536), (3195, 0.003131478914898207), (3906, 0.0031307817979196947), (3647, 0.003130767486545167), (989, 0.003129824974649929), (1100, 0.003129426468648601), (4349, 0.0031289855582800723), (1110, 0.003127790515291561), (2069, 0.003126457042452794), (727, 0.0031263429654128758), (215, 0.003126168148175737), (3499, 0.0031260457806789196), (4685, 0.0031241013472089315), (1026, 0.0031225031488326636), (4284, 0.003122222704125363), (3260, 0.0031220605439147525), (1319, 0.0031219469015029205), (119, 0.0031219188490405835), (4020, 0.003121774861951881), (1807, 0.0031212412414751618), (3046, 0.003120984358493464), (2980, 0.0031208197982504613), (3557, 0.0031204420586310342), (3827, 0.003119965094259883), (1882, 0.0031177686407984177), (98, 0.003115878386358693), (4362, 0.0031157562954972433), (26, 0.0031135077572727325), (2087, 0.0031123080966072598), (4530, 0.003112062022833763), (2226, 0.0031115236507553187), (2802, 0.0031115202658254203), (870, 0.003111506585608414), (4687, 0.003111438289506664), (3220, 0.0031099684708068565), (3447, 0.003109409442486895), (4036, 0.003109188496224993), (4641, 0.0031085195465452835), (3069, 0.0031074703465969467), (4299, 0.003106392017112079), (3719, 0.003105898190873309), (4309, 0.003105814251354462), (4743, 0.003104829346084819), (3412, 0.003103445396527349), (2909, 0.0031034376533060925), (4387, 0.0031027740499768052), (2279, 0.003100458199656322), (1350, 0.0030996335045812683), (2103, 0.0030984867283346284), (693, 0.003097104804363056), (1096, 0.003095737090705885), (2008, 0.0030945646466005922), (2401, 0.0030925664175013136), (755, 0.0030924439662215306), (1035, 0.00309132171414499), (4693, 0.0030909917848889966), (3075, 0.003090460787750523), (1813, 0.003089321999833292), (2422, 0.003088860553901612), (522, 0.003088854911550338), (3370, 0.003088754848755992), (292, 0.0030873129833701904), (4442, 0.003086496718117547), (4183, 0.0030863191722284586), (349, 0.0030862249820824356), (4381, 0.0030849119881346276), (4550, 0.003084844520904539), (4573, 0.0030847691045396896), (643, 0.0030835305864696677), (2808, 0.0030833865323818066), (4673, 0.0030820029424446413), (4192, 0.003081402480219998), (2912, 0.003081193880252283), (1261, 0.0030808977989787182), (1671, 0.003080803992984162), (4129, 0.00308004017105631), (3348, 0.003079498117133197), (817, 0.003079363913143024), (3890, 0.0030785432854929877), (541, 0.0030778828225755156), (4382, 0.003076968908224214), (4336, 0.003073625348966563), (2612, 0.0030732257707667097), (2268, 0.003073196939147064), (651, 0.0030721530682659946), (87, 0.00307182300918861), (1060, 0.003070177632449818), (2467, 0.003070085982358208), (2027, 0.0030694708208929894), (3696, 0.0030687335582195935), (3660, 0.003068600015803649), (3010, 0.0030684900957910874), (2716, 0.003065053856334867), (112, 0.003063507177971737), (4461, 0.00306336080098859), (3917, 0.0030610108668058236), (3352, 0.003060078280870993), (646, 0.0030600649554214303), (3487, 0.00305947493230367), (4658, 0.0030592055878538847), (3826, 0.0030591812702413495), (1248, 0.003057313728946348), (1117, 0.003056890329335111), (2131, 0.0030568423772121237), (4729, 0.0030565658154069674), (620, 0.0030562857551753504), (1582, 0.0030549390287994715), (782, 0.003053475577834129), (1020, 0.0030528620569565197), (2117, 0.0030523032955503465), (1033, 0.0030501151181173344), (1446, 0.0030493931870353196), (3504, 0.003047877278343397), (1034, 0.003047346844509088), (1478, 0.0030471581083346545), (2024, 0.0030471542883957767), (487, 0.003046146172880247), (3868, 0.003044720040133058), (852, 0.0030439097800477083), (731, 0.003043900667927521), (2752, 0.0030435136070811534), (52, 0.0030425387345674564), (2141, 0.003041491289040236), (4567, 0.0030412519983436907), (1416, 0.003040847201453671), (4536, 0.0030401465005660553), (4155, 0.0030399869537928795), (2309, 0.0030397058474381307), (4614, 0.0030394616942172868), (1854, 0.003038152792464011), (3214, 0.0030379116610117114), (2779, 0.0030376757751634335), (854, 0.003036838285014776), (2886, 0.0030358917099101864), (1744, 0.003035650863610183), (3978, 0.0030351436778443992), (2540, 0.003032777963611212), (1001, 0.0030327764375939993), (1002, 0.003031881636354261), (3151, 0.003031166486648107), (3733, 0.003030641149462677), (29, 0.003030262647890705), (4321, 0.003029489357067762), (2121, 0.0030293988914938982), (3035, 0.0030293247442399946), (3784, 0.0030288199156186008), (1273, 0.0030284527739523033), (3691, 0.0030279063697747736), (3170, 0.0030272480582400423), (3171, 0.003026939123008039), (4213, 0.0030258224830196955), (221, 0.0030254815031560025), (3036, 0.00302534699445467), (2706, 0.0030252027153505217), (2765, 0.0030247030765667847), (1123, 0.0030242283072195045), (1132, 0.0030241466062217747), (2068, 0.0030237301175508498), (1255, 0.003023472048243819), (505, 0.003022924109426042), (644, 0.0030228494267760387), (2965, 0.003022753482792528), (4206, 0.0030226180616795342), (4428, 0.0030215590624880595), (1878, 0.003021366908699532), (1160, 0.0030203301229460465), (2224, 0.0030195087354133888), (767, 0.003018542384162994), (4345, 0.003018353834223114), (962, 0.0030173092218436465), (2859, 0.0030168487540017737), (3799, 0.0030163677067810883), (373, 0.0030157355323634292), (911, 0.0030146601056221804), (4246, 0.003012899417303154), (3293, 0.003011833481884512), (2679, 0.003011109762118751), (4124, 0.0030109653119054594), (203, 0.0030108792122249895), (698, 0.003010655317808567), (2651, 0.003010633146149457), (2598, 0.003010604566338626), (2133, 0.003009795489323983), (3646, 0.0030088750838828202), (408, 0.0030085180030015378), (1404, 0.0030079222798725974), (2997, 0.0030076633435964224), (4399, 0.0030073046710316353), (1759, 0.0030066278521779333), (2800, 0.0030063795718587574), (828, 0.0030059532829607334), (1032, 0.003005505352024219), (966, 0.0030044556611483995), (3014, 0.003003981976023192), (3194, 0.0030034801748555847), (578, 0.0030032410306636602), (3954, 0.0030031915398207984), (126, 0.0030023238384010937), (1036, 0.00300118319438382), (3811, 0.0029997976149917695), (2812, 0.0029988688350097922), (1663, 0.002997760511980771), (4257, 0.002997619981123173), (2348, 0.0029972687105843223), (3615, 0.0029965427084531777), (3433, 0.002996232953426462), (742, 0.002991156905538108), (2004, 0.002990755826967685), (236, 0.0029889872467693005), (4011, 0.0029884648741579875), (507, 0.0029878935809110148), (4254, 0.002987834120256177), (1203, 0.0029877141756393943), (1693, 0.0029877116548511235), (3407, 0.0029873308356329863), (1682, 0.0029861227051802596), (287, 0.0029858141966811872), (886, 0.002983229385469228), (3941, 0.0029819487995959956), (140, 0.0029807558705794504), (3071, 0.002980518077268669), (941, 0.0029803436501684606), (3243, 0.0029803321831447308), (1665, 0.002979418832408577), (279, 0.0029789414938589955), (4059, 0.0029757844102407728), (1620, 0.002975436084710222), (900, 0.002975205754457954), (1206, 0.0029746626807722327), (1884, 0.002974200395366857), (2634, 0.00297329144400165), (2149, 0.002973176279782928), (3399, 0.0029729115644034467), (471, 0.0029716127834784646), (655, 0.002971525796462015), (4634, 0.002969241448173809), (4603, 0.00296825156319638), (229, 0.0029666413898569253), (2862, 0.0029655401989136963), (372, 0.002964894531061162), (944, 0.002964689792258511), (1819, 0.002964561014983576), (3725, 0.002962900585004392), (3147, 0.002962356271649976), (1555, 0.002962293076697909), (213, 0.0029616417938765596), (921, 0.0029615194749833184), (1107, 0.0029606412634657787), (410, 0.002960430466428074), (4591, 0.002959516555851242), (838, 0.002958897688359457), (866, 0.002958206272769444), (1558, 0.002958003638280004), (2446, 0.0029555111823908312), (2528, 0.002955058256317234), (1183, 0.002953613729373562), (2907, 0.002951185398561368), (1641, 0.0029508177398188625), (1650, 0.0029506930794996186), (2556, 0.0029506224291813155), (2129, 0.0029485445121319397), (399, 0.002948539667122345), (3120, 0.002946056835211233), (96, 0.002945102970242692), (1642, 0.002945068649606232), (1514, 0.00294492184789809), (2777, 0.0029443684920624183), (766, 0.0029443077617855528), (2317, 0.002944290234031793), (3627, 0.002944243348566092), (2868, 0.002944022535763203), (744, 0.0029427514113627862), (3854, 0.0029426297156955844), (1920, 0.002942203309798709), (1448, 0.002940273904123819), (136, 0.002938522518084075), (2735, 0.0029380214899947747), (3558, 0.002937747032999888), (3913, 0.002937702465138209), (2399, 0.0029373176181607106), (558, 0.002934262385346491), (355, 0.0029341898621864336), (899, 0.0029332980399545913), (324, 0.002932879966267567), (590, 0.0029328167044229), (638, 0.0029328098638127147), (1667, 0.0029326378224804133), (1357, 0.002932446140246138), (1814, 0.0029299180011282773), (2674, 0.0029291939580134993), (4282, 0.0029291385766841887), (4174, 0.0029288561381799337), (2845, 0.0029288327800342144), (4348, 0.002926322502736122), (907, 0.002926285568905253), (1079, 0.0029262295646524995), (4176, 0.002925974625668749), (2347, 0.002925196136532097), (2453, 0.0029246198808966666), (3767, 0.002923075152638891), (1875, 0.0029221094419936674), (3455, 0.0029217792642028074), (43, 0.002920763035128601), (457, 0.002920554466054826), (359, 0.002920222370114734), (1308, 0.002919442290962016), (524, 0.0029191689022352867), (1462, 0.0029186791520693796), (183, 0.0029183431172418737), (3306, 0.002917281374330785), (416, 0.00291598181177748), (3050, 0.0029153917427562335), (3284, 0.0029143676714841224), (1672, 0.0029130133299936816), (910, 0.002912877037170729), (1628, 0.0029115971407462364), (2920, 0.0029114929851438128), (624, 0.002910574509592851), (3329, 0.002909086189706515), (863, 0.002908695007109233), (1065, 0.0029084159162909937), (3742, 0.0029065919651025127), (4502, 0.0029062921305837708), (124, 0.0029056075346893346), (1434, 0.0029052405655590283), (4359, 0.0029051531626248933), (218, 0.0029051011666077105), (465, 0.00290509942130942), (199, 0.002901478525294423), (1730, 0.002901073827497639), (934, 0.0029000907917393955), (2728, 0.0028964238804982164), (1360, 0.002896082899555573), (3953, 0.002895253236280239), (2011, 0.002893481341377282), (3278, 0.002893423626497542), (3474, 0.0028914612502715163), (1528, 0.002890235462024497), (1892, 0.002889483458557678), (1237, 0.0028885697813355506), (1538, 0.002888351695139854), (3418, 0.0028877884944377243), (2236, 0.002887522257988727), (1216, 0.0028855162772459275), (608, 0.0028844754031469226), (2055, 0.002884011049084121), (968, 0.0028825016901099587), (285, 0.002881946171677593), (1869, 0.002881063890833699), (3614, 0.0028802335482552887), (1595, 0.002879696566407481), (3705, 0.002879422266660293), (3311, 0.00287846595541104), (2931, 0.0028784601308921953), (449, 0.0028779184288908544), (1826, 0.0028774435626350093), (1605, 0.0028747818582959203), (428, 0.002872900954868981), (1387, 0.0028726078023701682), (1161, 0.002872446400167507), (2323, 0.002871593454778265), (2031, 0.002871459914643586), (563, 0.0028693575433046676), (515, 0.0028682958436821926), (4350, 0.0028681556633473365), (3318, 0.0028679115873784587), (581, 0.0028675727170247617), (1690, 0.0028669527127862327), (4712, 0.0028665492314967444), (2741, 0.0028651178727513225), (1080, 0.0028646212671306895), (3336, 0.0028641309744245405), (3974, 0.002864067839226167), (4074, 0.0028636576571145407), (3027, 0.0028634351880901248), (2285, 0.0028633121031057455), (936, 0.002863145518586854), (2457, 0.0028624218663861113), (1000, 0.0028620979269997366), (804, 0.002862041760622381), (4475, 0.002861489782711591), (1625, 0.0028613749502928733), (1739, 0.002861174095761022), (2248, 0.002860766601887823), (597, 0.002860450525656501), (4143, 0.0028603580381941903), (161, 0.0028602306183056715), (800, 0.0028601665896848495), (3863, 0.0028594213820888107), (722, 0.002859237553006945), (2065, 0.0028588550277629196), (4304, 0.0028559514503322427), (2591, 0.0028548240588469644), (3327, 0.002854224493078269), (885, 0.002854186061813038), (1980, 0.0028541090384446247), (2191, 0.0028537678059612566), (4080, 0.00285315063678033), (2607, 0.0028522517852428175), (1004, 0.002852165616327997), (3801, 0.0028509317187457184), (3167, 0.0028497288096712005), (4590, 0.0028493780349397933), (917, 0.00284826517554486), (3111, 0.002848030343290194), (3795, 0.0028464687184903857), (3556, 0.0028452053582346203), (594, 0.0028442065994388204), (1921, 0.002843835898139386), (815, 0.0028428615535870893), (4205, 0.0028422427205554613), (2580, 0.002841715783535084), (1934, 0.0028412883234887887), (1762, 0.002838750078339173), (268, 0.0028381116670420973), (1318, 0.0028379177459601904), (2213, 0.0028376645132328466), (672, 0.00283747309934375), (1539, 0.002837431745419654), (4141, 0.0028371730248509374), (3956, 0.002836189736132085), (1977, 0.002833179242780842), (1392, 0.0028291942981897382), (2264, 0.0028270021725251486), (3360, 0.00282656486954665), (1423, 0.002824076949761447), (2587, 0.002823875016650152), (4608, 0.002823800376243847), (1009, 0.002822915685290543), (132, 0.002821147327603963), (4661, 0.0028206520321040988), (1830, 0.002819534638756365), (1394, 0.0028192635096650244), (1290, 0.0028191100475287913), (1954, 0.002818781092537262), (705, 0.002817106470898598), (495, 0.0028144382515175414), (3755, 0.002812311243037544), (33, 0.0028121560925633993), (200, 0.002811714667884502), (712, 0.002811355579608391), (166, 0.0028102791102501074), (519, 0.0028096171070252653), (2502, 0.002807528358376478), (4220, 0.002807163280311984), (2617, 0.0028055112243705054), (808, 0.0028052738272744244), (1776, 0.002802408444353742), (184, 0.0028020962774570903), (222, 0.0028007493915736094), (92, 0.002800363103790705), (605, 0.0027999783869887126), (4679, 0.0027975615376171813), (1616, 0.002796391093824426), (4066, 0.0027944835533370137), (3910, 0.002793671361239143), (97, 0.0027925010891888813), (480, 0.0027922774380492025), (2237, 0.002792233733444777), (647, 0.002791969173243144), (3894, 0.0027907618567600385), (32, 0.002790502413108493), (1136, 0.0027896899595332607), (4156, 0.0027893504464373293), (3403, 0.0027878677919385107), (317, 0.002786311831261851), (3637, 0.002782794950067213), (3880, 0.002776188680268748), (4296, 0.002771735895076901), (4473, 0.0027713927002597422), (1943, 0.0027697084375226913), (2621, 0.0027684669484186616), (4232, 0.0027663830282373667), (2721, 0.0027649650576407865), (2692, 0.0027632161822077734), (2412, 0.0027630213113671452), (4429, 0.0027628787890224375), (1217, 0.002762572094992964), (2520, 0.0027584963512074403), (1764, 0.0027582732902530676), (2747, 0.002757251519954482), (103, 0.0027561466585737143), (4748, 0.002755903974483691), (2942, 0.0027535335034521995), (147, 0.002753023421546434), (1397, 0.0027517594703205203), (165, 0.0027507941010843813), (357, 0.0027459451005853275), (4386, 0.002744415367629141), (874, 0.0027441573237299327), (1370, 0.002743746185111512), (1450, 0.002742196953842213), (861, 0.0027401779527681984), (3393, 0.0027367699735400103), (3629, 0.0027328223863266063), (2611, 0.0027299476787688713), (2743, 0.0027282068098090652), (4411, 0.0027261017919705333), (2382, 0.002725850416986486), (1763, 0.002724969791615044), (1833, 0.0027247852266507307), (1215, 0.002723752634731738), (2070, 0.0027217883658128294), (1627, 0.002720075701397722), (2146, 0.002719395713313969), (3376, 0.002717275778877815), (496, 0.002716708611018321), (3579, 0.0027161678372868356), (190, 0.0027154731157544403), (1691, 0.0027151451531149005), (1743, 0.0027085623760683118), (1352, 0.0027029880603197947), (3065, 0.0027028516106250835), (2758, 0.0027025219269620664), (1340, 0.0027023689224917966), (2933, 0.002702337965541202), (4095, 0.0027005034722026866), (2771, 0.0027000969468169095), (1202, 0.0026991207617888683), (1971, 0.002697133690724059), (403, 0.002697109686556606), (626, 0.0026966773087929315), (3669, 0.002696673497312561), (267, 0.0026966381424920255), (2035, 0.0026957206080484137), (3668, 0.002693387534388646), (1356, 0.0026932834259659217), (1845, 0.002690922004647152), (175, 0.0026869708031081636), (617, 0.00268660776119078), (951, 0.0026862823062409357), (3657, 0.00268531812642978), (2076, 0.002683772064624155), (547, 0.002682849953137176), (707, 0.0026764608878682827), (195, 0.002674649515275531), (2603, 0.0026725687823772547), (2127, 0.002671345067765294), (566, 0.002669649409789486), (3091, 0.002663455306457789), (2132, 0.00265842030651451), (3928, 0.0026580416834549037), (4733, 0.0026550958320687235), (2287, 0.002654785101314628), (16, 0.0026522325067101097), (616, 0.002651775599521203), (1209, 0.002651715690166409), (3252, 0.0026514933859361927), (1078, 0.002649989915746023), (2481, 0.002649936086895299), (796, 0.002641839606065232), (2602, 0.0026403377669271446), (2969, 0.0026391892060863707), (442, 0.0026385030612758415), (901, 0.002635647606775802), (142, 0.0026327311367245945), (3024, 0.002632321954255364), (1305, 0.002630671376770503), (441, 0.00262956708524959), (149, 0.0026277262444776945), (2034, 0.002621638398105407), (843, 0.0026168526996997936), (3751, 0.0026154374914309658), (2509, 0.002614967763306024), (1415, 0.0026071131792643836), (1464, 0.0026065849569576528), (3317, 0.0026063027515605716), (2697, 0.002605048640044323), (1369, 0.002604446192779581), (2526, 0.0026035606300819107), (433, 0.0026029303406502244), (3756, 0.0026028883101371814), (412, 0.0025996848835667112), (1950, 0.002599183848313483), (645, 0.0025989457322916805), (816, 0.0025899367735736094), (1037, 0.0025885142867397436), (942, 0.0025869327263399696), (3875, 0.002586417790592951), (4311, 0.00258527645953422), (1317, 0.0025782123263977013), (691, 0.0025718321877124246), (3575, 0.002570741051342726), (1377, 0.002566894703000944), (1303, 0.002565586184438079), (3410, 0.0025606547503218935), (2908, 0.0025571439002437914), (1989, 0.0025558127460540993), (3431, 0.002555312627251114), (2925, 0.002554887629271938), (407, 0.0025532025569857046), (194, 0.0025530680641259627), (510, 0.0025435672920489107), (757, 0.0025418062081015128), (1144, 0.0025369749356520884), (63, 0.0025325194830006503), (3471, 0.0025300916090744362), (1886, 0.0025291941318924542), (706, 0.0025274250088870936), (2766, 0.002524921630256046), (527, 0.0025191488909150276), (2010, 0.0025129425445971233), (4598, 0.002496442627382721), (3301, 0.002491842622132887), (2469, 0.0024913827224772576), (159, 0.002490463245993388), (1040, 0.00248534899536069), (1417, 0.0024839231760279356), (3152, 0.002483145838052396), (2767, 0.002482579584541382), (1747, 0.0024763861197742284), (3199, 0.002464187801929749), (853, 0.002460318945671397), (106, 0.0024495249877997368), (3316, 0.0024477606728328222), (1403, 0.002444845285052143), (2760, 0.002442381437165943), (2474, 0.002441353587604866), (271, 0.002438688308329684), (224, 0.0024346137039470256), (1005, 0.0024322222381498236), (1774, 0.002429661577156203), (351, 0.002427738389575086), (82, 0.002414739703267061), (3645, 0.00239847981265554), (452, 0.002396649870001199), (3285, 0.002392215159333954), (2636, 0.002388996591254097), (4445, 0.0023888255518843982), (296, 0.002384908613871669), (3983, 0.002383914254848647), (2550, 0.0023795019825306324), (3546, 0.0023740831844961474), (4301, 0.002360861822464654), (684, 0.0023349736142447924), (929, 0.002295447449888401), (4752, 0.002279352498005674), (641, 0.0022786888074226076), (108, 0.0022639631064916557), (293, 0.0022625518158229897), (4171, 0.0022489095864699), (243, 0.0022402884602845206), (542, 0.0022314285912883357), (940, 0.0022270069032976265), (129, 0.002222052515368691), (330, 0.002198695494086582), (3458, 0.002180065398242269), (858, 0.0021485398681391644), (3328, 0.002091543966083799), (1780, 0.002075795091897153), (787, 0.0019463919316921254), (3835, 0.0019164824166988607), (2538, 0.0019039420894692756), (2534, 0.0014194983232319615), (0, 0.0), (2, 0.0), (9, 0.0), (10, 0.0), (13, 0.0), (14, 0.0), (35, 0.0), (36, 0.0), (42, 0.0), (47, 0.0), (49, 0.0), (54, 0.0), (57, 0.0), (58, 0.0), (59, 0.0), (70, 0.0), (81, 0.0), (86, 0.0), (88, 0.0), (100, 0.0), (101, 0.0), (110, 0.0), (117, 0.0), (122, 0.0), (125, 0.0), (130, 0.0), (131, 0.0), (133, 0.0), (134, 0.0), (137, 0.0), (144, 0.0), (145, 0.0), (148, 0.0), (153, 0.0), (155, 0.0), (162, 0.0), (163, 0.0), (177, 0.0), (179, 0.0), (181, 0.0), (185, 0.0), (186, 0.0), (188, 0.0), (201, 0.0), (207, 0.0), (217, 0.0), (230, 0.0), (231, 0.0), (232, 0.0), (233, 0.0), (237, 0.0), (239, 0.0), (240, 0.0), (241, 0.0), (244, 0.0), (245, 0.0), (265, 0.0), (273, 0.0), (277, 0.0), (288, 0.0), (289, 0.0), (290, 0.0), (299, 0.0), (300, 0.0), (301, 0.0), (302, 0.0), (304, 0.0), (305, 0.0), (311, 0.0), (312, 0.0), (313, 0.0), (319, 0.0), (321, 0.0), (323, 0.0), (331, 0.0), (335, 0.0), (337, 0.0), (338, 0.0), (339, 0.0), (341, 0.0), (344, 0.0), (345, 0.0), (360, 0.0), (365, 0.0), (381, 0.0), (382, 0.0), (383, 0.0), (384, 0.0), (385, 0.0), (393, 0.0), (398, 0.0), (401, 0.0), (409, 0.0), (411, 0.0), (414, 0.0), (415, 0.0), (418, 0.0), (422, 0.0), (423, 0.0), (435, 0.0), (459, 0.0), (461, 0.0), (462, 0.0), (467, 0.0), (468, 0.0), (469, 0.0), (474, 0.0), (484, 0.0), (494, 0.0), (498, 0.0), (501, 0.0), (503, 0.0), (506, 0.0), (513, 0.0), (514, 0.0), (520, 0.0), (521, 0.0), (525, 0.0), (528, 0.0), (529, 0.0), (538, 0.0), (539, 0.0), (540, 0.0), (549, 0.0), (550, 0.0), (557, 0.0), (559, 0.0), (560, 0.0), (570, 0.0), (575, 0.0), (582, 0.0), (583, 0.0), (585, 0.0), (586, 0.0), (592, 0.0), (595, 0.0), (610, 0.0), (615, 0.0), (629, 0.0), (630, 0.0), (632, 0.0), (634, 0.0), (635, 0.0), (639, 0.0), (640, 0.0), (649, 0.0), (650, 0.0), (658, 0.0), (661, 0.0), (662, 0.0), (664, 0.0), (668, 0.0), (671, 0.0), (679, 0.0), (682, 0.0), (690, 0.0), (692, 0.0), (699, 0.0), (700, 0.0), (704, 0.0), (708, 0.0), (711, 0.0), (714, 0.0), (720, 0.0), (723, 0.0), (724, 0.0), (725, 0.0), (726, 0.0), (738, 0.0), (746, 0.0), (760, 0.0), (764, 0.0), (765, 0.0), (768, 0.0), (773, 0.0), (775, 0.0), (784, 0.0), (785, 0.0), (786, 0.0), (789, 0.0), (793, 0.0), (795, 0.0), (801, 0.0), (803, 0.0), (807, 0.0), (819, 0.0), (821, 0.0), (822, 0.0), (825, 0.0), (827, 0.0), (833, 0.0), (834, 0.0), (835, 0.0), (836, 0.0), (839, 0.0), (840, 0.0), (842, 0.0), (849, 0.0), (855, 0.0), (869, 0.0), (873, 0.0), (875, 0.0), (881, 0.0), (882, 0.0), (892, 0.0), (905, 0.0), (906, 0.0), (919, 0.0), (920, 0.0), (927, 0.0), (928, 0.0), (931, 0.0), (943, 0.0), (945, 0.0), (946, 0.0), (948, 0.0), (954, 0.0), (955, 0.0), (956, 0.0), (960, 0.0), (961, 0.0), (964, 0.0), (965, 0.0), (970, 0.0), (971, 0.0), (972, 0.0), (974, 0.0), (976, 0.0), (979, 0.0), (982, 0.0), (983, 0.0), (990, 0.0), (995, 0.0), (996, 0.0), (1008, 0.0), (1010, 0.0), (1012, 0.0), (1016, 0.0), (1018, 0.0), (1024, 0.0), (1025, 0.0), (1028, 0.0), (1029, 0.0), (1038, 0.0), (1039, 0.0), (1045, 0.0), (1051, 0.0), (1054, 0.0), (1058, 0.0), (1061, 0.0), (1062, 0.0), (1063, 0.0), (1070, 0.0), (1081, 0.0), (1085, 0.0), (1086, 0.0), (1089, 0.0), (1090, 0.0), (1092, 0.0), (1093, 0.0), (1094, 0.0), (1103, 0.0), (1104, 0.0), (1115, 0.0), (1116, 0.0), (1118, 0.0), (1126, 0.0), (1127, 0.0), (1128, 0.0), (1130, 0.0), (1135, 0.0), (1139, 0.0), (1142, 0.0), (1143, 0.0), (1147, 0.0), (1149, 0.0), (1152, 0.0), (1153, 0.0), (1155, 0.0), (1156, 0.0), (1157, 0.0), (1158, 0.0), (1159, 0.0), (1162, 0.0), (1165, 0.0), (1167, 0.0), (1173, 0.0), (1178, 0.0), (1181, 0.0), (1189, 0.0), (1190, 0.0), (1193, 0.0), (1194, 0.0), (1196, 0.0), (1198, 0.0), (1210, 0.0), (1211, 0.0), (1213, 0.0), (1214, 0.0), (1221, 0.0), (1222, 0.0), (1226, 0.0), (1227, 0.0), (1228, 0.0), (1231, 0.0), (1235, 0.0), (1239, 0.0), (1240, 0.0), (1242, 0.0), (1253, 0.0), (1258, 0.0), (1263, 0.0), (1266, 0.0), (1268, 0.0), (1270, 0.0), (1272, 0.0), (1274, 0.0), (1276, 0.0), (1278, 0.0), (1282, 0.0), (1283, 0.0), (1287, 0.0), (1289, 0.0), (1291, 0.0), (1292, 0.0), (1293, 0.0), (1299, 0.0), (1302, 0.0), (1307, 0.0), (1311, 0.0), (1314, 0.0), (1316, 0.0), (1321, 0.0), (1322, 0.0), (1323, 0.0), (1326, 0.0), (1327, 0.0), (1328, 0.0), (1330, 0.0), (1333, 0.0), (1336, 0.0), (1342, 0.0), (1343, 0.0), (1346, 0.0), (1348, 0.0), (1353, 0.0), (1362, 0.0), (1368, 0.0), (1373, 0.0), (1379, 0.0), (1384, 0.0), (1386, 0.0), (1388, 0.0), (1390, 0.0), (1391, 0.0), (1393, 0.0), (1395, 0.0), (1399, 0.0), (1401, 0.0), (1406, 0.0), (1407, 0.0), (1418, 0.0), (1420, 0.0), (1425, 0.0), (1426, 0.0), (1428, 0.0), (1431, 0.0), (1432, 0.0), (1436, 0.0), (1437, 0.0), (1441, 0.0), (1443, 0.0), (1444, 0.0), (1447, 0.0), (1451, 0.0), (1452, 0.0), (1453, 0.0), (1455, 0.0), (1458, 0.0), (1459, 0.0), (1460, 0.0), (1461, 0.0), (1470, 0.0), (1480, 0.0), (1482, 0.0), (1485, 0.0), (1490, 0.0), (1491, 0.0), (1493, 0.0), (1496, 0.0), (1504, 0.0), (1507, 0.0), (1512, 0.0), (1517, 0.0), (1520, 0.0), (1521, 0.0), (1523, 0.0), (1524, 0.0), (1525, 0.0), (1526, 0.0), (1529, 0.0), (1531, 0.0), (1532, 0.0), (1540, 0.0), (1541, 0.0), (1544, 0.0), (1545, 0.0), (1548, 0.0), (1549, 0.0), (1551, 0.0), (1552, 0.0), (1556, 0.0), (1557, 0.0), (1559, 0.0), (1560, 0.0), (1561, 0.0), (1562, 0.0), (1563, 0.0), (1564, 0.0), (1569, 0.0), (1573, 0.0), (1576, 0.0), (1581, 0.0), (1583, 0.0), (1587, 0.0), (1589, 0.0), (1591, 0.0), (1596, 0.0), (1599, 0.0), (1600, 0.0), (1604, 0.0), (1606, 0.0), (1607, 0.0), (1609, 0.0), (1610, 0.0), (1611, 0.0), (1615, 0.0), (1618, 0.0), (1623, 0.0), (1632, 0.0), (1636, 0.0), (1638, 0.0), (1639, 0.0), (1640, 0.0), (1644, 0.0), (1646, 0.0), (1647, 0.0), (1652, 0.0), (1654, 0.0), (1661, 0.0), (1668, 0.0), (1674, 0.0), (1679, 0.0), (1684, 0.0), (1686, 0.0), (1689, 0.0), (1692, 0.0), (1694, 0.0), (1695, 0.0), (1697, 0.0), (1699, 0.0), (1700, 0.0), (1702, 0.0), (1704, 0.0), (1709, 0.0), (1713, 0.0), (1714, 0.0), (1715, 0.0), (1718, 0.0), (1720, 0.0), (1721, 0.0), (1723, 0.0), (1726, 0.0), (1728, 0.0), (1729, 0.0), (1731, 0.0), (1732, 0.0), (1734, 0.0), (1735, 0.0), (1737, 0.0), (1738, 0.0), (1746, 0.0), (1749, 0.0), (1751, 0.0), (1752, 0.0), (1753, 0.0), (1757, 0.0), (1758, 0.0), (1761, 0.0), (1767, 0.0), (1769, 0.0), (1770, 0.0), (1771, 0.0), (1775, 0.0), (1777, 0.0), (1778, 0.0), (1787, 0.0), (1788, 0.0), (1789, 0.0), (1790, 0.0), (1794, 0.0), (1795, 0.0), (1797, 0.0), (1800, 0.0), (1806, 0.0), (1809, 0.0), (1812, 0.0), (1817, 0.0), (1818, 0.0), (1820, 0.0), (1823, 0.0), (1834, 0.0), (1837, 0.0), (1838, 0.0), (1839, 0.0), (1841, 0.0), (1842, 0.0), (1846, 0.0), (1847, 0.0), (1850, 0.0), (1855, 0.0), (1856, 0.0), (1857, 0.0), (1859, 0.0), (1863, 0.0), (1868, 0.0), (1870, 0.0), (1873, 0.0), (1879, 0.0), (1880, 0.0), (1883, 0.0), (1894, 0.0), (1895, 0.0), (1898, 0.0), (1899, 0.0), (1900, 0.0), (1901, 0.0), (1910, 0.0), (1912, 0.0), (1914, 0.0), (1917, 0.0), (1926, 0.0), (1927, 0.0), (1930, 0.0), (1932, 0.0), (1933, 0.0), (1935, 0.0), (1937, 0.0), (1938, 0.0), (1939, 0.0), (1940, 0.0), (1941, 0.0), (1944, 0.0), (1953, 0.0), (1955, 0.0), (1958, 0.0), (1961, 0.0), (1962, 0.0), (1972, 0.0), (1973, 0.0), (1978, 0.0), (1979, 0.0), (1981, 0.0), (1987, 0.0), (1988, 0.0), (1990, 0.0), (1993, 0.0), (1998, 0.0), (2002, 0.0), (2003, 0.0), (2006, 0.0), (2007, 0.0), (2009, 0.0), (2012, 0.0), (2015, 0.0), (2017, 0.0), (2019, 0.0), (2020, 0.0), (2022, 0.0), (2026, 0.0), (2028, 0.0), (2030, 0.0), (2032, 0.0), (2033, 0.0), (2036, 0.0), (2042, 0.0), (2043, 0.0), (2044, 0.0), (2050, 0.0), (2052, 0.0), (2054, 0.0), (2057, 0.0), (2059, 0.0), (2063, 0.0), (2064, 0.0), (2066, 0.0), (2071, 0.0), (2077, 0.0), (2079, 0.0), (2081, 0.0), (2082, 0.0), (2084, 0.0), (2085, 0.0), (2092, 0.0), (2098, 0.0), (2100, 0.0), (2107, 0.0), (2113, 0.0), (2115, 0.0), (2120, 0.0), (2128, 0.0), (2130, 0.0), (2138, 0.0), (2139, 0.0), (2140, 0.0), (2145, 0.0), (2147, 0.0), (2150, 0.0), (2152, 0.0), (2153, 0.0), (2158, 0.0), (2164, 0.0), (2165, 0.0), (2170, 0.0), (2171, 0.0), (2172, 0.0), (2175, 0.0), (2179, 0.0), (2181, 0.0), (2183, 0.0), (2184, 0.0), (2185, 0.0), (2186, 0.0), (2194, 0.0), (2197, 0.0), (2198, 0.0), (2200, 0.0), (2202, 0.0), (2204, 0.0), (2206, 0.0), (2208, 0.0), (2215, 0.0), (2218, 0.0), (2220, 0.0), (2222, 0.0), (2228, 0.0), (2234, 0.0), (2235, 0.0), (2243, 0.0), (2245, 0.0), (2253, 0.0), (2256, 0.0), (2261, 0.0), (2262, 0.0), (2263, 0.0), (2267, 0.0), (2271, 0.0), (2273, 0.0), (2274, 0.0), (2275, 0.0), (2282, 0.0), (2291, 0.0), (2296, 0.0), (2297, 0.0), (2298, 0.0), (2300, 0.0), (2305, 0.0), (2307, 0.0), (2312, 0.0), (2315, 0.0), (2316, 0.0), (2318, 0.0), (2322, 0.0), (2325, 0.0), (2329, 0.0), (2331, 0.0), (2333, 0.0), (2335, 0.0), (2339, 0.0), (2341, 0.0), (2342, 0.0), (2343, 0.0), (2345, 0.0), (2351, 0.0), (2353, 0.0), (2358, 0.0), (2360, 0.0), (2363, 0.0), (2364, 0.0), (2365, 0.0), (2366, 0.0), (2368, 0.0), (2369, 0.0), (2372, 0.0), (2373, 0.0), (2381, 0.0), (2383, 0.0), (2389, 0.0), (2395, 0.0), (2398, 0.0), (2408, 0.0), (2414, 0.0), (2420, 0.0), (2424, 0.0), (2426, 0.0), (2431, 0.0), (2433, 0.0), (2435, 0.0), (2444, 0.0), (2449, 0.0), (2452, 0.0), (2455, 0.0), (2458, 0.0), (2460, 0.0), (2462, 0.0), (2468, 0.0), (2470, 0.0), (2472, 0.0), (2476, 0.0), (2480, 0.0), (2483, 0.0), (2485, 0.0), (2486, 0.0), (2487, 0.0), (2491, 0.0), (2493, 0.0), (2497, 0.0), (2499, 0.0), (2504, 0.0), (2506, 0.0), (2508, 0.0), (2510, 0.0), (2511, 0.0), (2513, 0.0), (2514, 0.0), (2515, 0.0), (2516, 0.0), (2517, 0.0), (2518, 0.0), (2523, 0.0), (2532, 0.0), (2536, 0.0), (2541, 0.0), (2543, 0.0), (2548, 0.0), (2549, 0.0), (2562, 0.0), (2564, 0.0), (2566, 0.0), (2567, 0.0), (2574, 0.0), (2575, 0.0), (2577, 0.0), (2581, 0.0), (2583, 0.0), (2584, 0.0), (2586, 0.0), (2589, 0.0), (2590, 0.0), (2594, 0.0), (2600, 0.0), (2604, 0.0), (2615, 0.0), (2620, 0.0), (2627, 0.0), (2631, 0.0), (2635, 0.0), (2639, 0.0), (2641, 0.0), (2646, 0.0), (2648, 0.0), (2654, 0.0), (2656, 0.0), (2657, 0.0), (2658, 0.0), (2659, 0.0), (2660, 0.0), (2662, 0.0), (2663, 0.0), (2667, 0.0), (2669, 0.0), (2670, 0.0), (2672, 0.0), (2676, 0.0), (2681, 0.0), (2683, 0.0), (2684, 0.0), (2686, 0.0), (2688, 0.0), (2690, 0.0), (2700, 0.0), (2701, 0.0), (2704, 0.0), (2709, 0.0), (2710, 0.0), (2717, 0.0), (2718, 0.0), (2719, 0.0), (2726, 0.0), (2727, 0.0), (2733, 0.0), (2734, 0.0), (2736, 0.0), (2737, 0.0), (2742, 0.0), (2750, 0.0), (2751, 0.0), (2754, 0.0), (2759, 0.0), (2763, 0.0), (2773, 0.0), (2774, 0.0), (2781, 0.0), (2785, 0.0), (2787, 0.0), (2788, 0.0), (2791, 0.0), (2793, 0.0), (2794, 0.0), (2805, 0.0), (2806, 0.0), (2811, 0.0), (2813, 0.0), (2815, 0.0), (2816, 0.0), (2818, 0.0), (2819, 0.0), (2820, 0.0), (2822, 0.0), (2823, 0.0), (2825, 0.0), (2827, 0.0), (2829, 0.0), (2833, 0.0), (2835, 0.0), (2836, 0.0), (2842, 0.0), (2847, 0.0), (2851, 0.0), (2855, 0.0), (2856, 0.0), (2864, 0.0), (2866, 0.0), (2867, 0.0), (2869, 0.0), (2871, 0.0), (2873, 0.0), (2874, 0.0), (2875, 0.0), (2880, 0.0), (2885, 0.0), (2891, 0.0), (2896, 0.0), (2897, 0.0), (2905, 0.0), (2906, 0.0), (2913, 0.0), (2918, 0.0), (2921, 0.0), (2922, 0.0), (2928, 0.0), (2935, 0.0), (2941, 0.0), (2947, 0.0), (2948, 0.0), (2951, 0.0), (2952, 0.0), (2956, 0.0), (2958, 0.0), (2960, 0.0), (2963, 0.0), (2967, 0.0), (2968, 0.0), (2971, 0.0), (2973, 0.0), (2978, 0.0), (2979, 0.0), (2984, 0.0), (2990, 0.0), (2991, 0.0), (2994, 0.0), (3002, 0.0), (3005, 0.0), (3006, 0.0), (3008, 0.0), (3009, 0.0), (3011, 0.0), (3017, 0.0), (3018, 0.0), (3023, 0.0), (3029, 0.0), (3033, 0.0), (3034, 0.0), (3038, 0.0), (3039, 0.0), (3049, 0.0), (3053, 0.0), (3054, 0.0), (3058, 0.0), (3060, 0.0), (3066, 0.0), (3070, 0.0), (3077, 0.0), (3078, 0.0), (3082, 0.0), (3083, 0.0), (3085, 0.0), (3087, 0.0), (3088, 0.0), (3090, 0.0), (3092, 0.0), (3098, 0.0), (3099, 0.0), (3102, 0.0), (3103, 0.0), (3104, 0.0), (3106, 0.0), (3107, 0.0), (3110, 0.0), (3115, 0.0), (3117, 0.0), (3118, 0.0), (3121, 0.0), (3124, 0.0), (3126, 0.0), (3135, 0.0), (3142, 0.0), (3144, 0.0), (3145, 0.0), (3161, 0.0), (3162, 0.0), (3163, 0.0), (3164, 0.0), (3172, 0.0), (3175, 0.0), (3176, 0.0), (3177, 0.0), (3179, 0.0), (3189, 0.0), (3190, 0.0), (3192, 0.0), (3202, 0.0), (3205, 0.0), (3209, 0.0), (3213, 0.0), (3215, 0.0), (3217, 0.0), (3221, 0.0), (3222, 0.0), (3229, 0.0), (3232, 0.0), (3236, 0.0), (3244, 0.0), (3245, 0.0), (3250, 0.0), (3251, 0.0), (3255, 0.0), (3256, 0.0), (3259, 0.0), (3261, 0.0), (3263, 0.0), (3265, 0.0), (3266, 0.0), (3272, 0.0), (3279, 0.0), (3280, 0.0), (3281, 0.0), (3286, 0.0), (3288, 0.0), (3295, 0.0), (3309, 0.0), (3310, 0.0), (3312, 0.0), (3319, 0.0), (3320, 0.0), (3324, 0.0), (3334, 0.0), (3338, 0.0), (3339, 0.0), (3340, 0.0), (3345, 0.0), (3350, 0.0), (3356, 0.0), (3366, 0.0), (3371, 0.0), (3377, 0.0), (3383, 0.0), (3387, 0.0), (3394, 0.0), (3397, 0.0), (3401, 0.0), (3404, 0.0), (3411, 0.0), (3415, 0.0), (3420, 0.0), (3422, 0.0), (3424, 0.0), (3428, 0.0), (3432, 0.0), (3439, 0.0), (3440, 0.0), (3442, 0.0), (3444, 0.0), (3446, 0.0), (3448, 0.0), (3451, 0.0), (3454, 0.0), (3457, 0.0), (3459, 0.0), (3461, 0.0), (3462, 0.0), (3464, 0.0), (3465, 0.0), (3466, 0.0), (3470, 0.0), (3472, 0.0), (3473, 0.0), (3475, 0.0), (3476, 0.0), (3481, 0.0), (3482, 0.0), (3485, 0.0), (3488, 0.0), (3489, 0.0), (3494, 0.0), (3495, 0.0), (3507, 0.0), (3508, 0.0), (3509, 0.0), (3519, 0.0), (3525, 0.0), (3529, 0.0), (3531, 0.0), (3533, 0.0), (3535, 0.0), (3539, 0.0), (3543, 0.0), (3545, 0.0), (3547, 0.0), (3549, 0.0), (3554, 0.0), (3562, 0.0), (3566, 0.0), (3567, 0.0), (3568, 0.0), (3570, 0.0), (3572, 0.0), (3573, 0.0), (3578, 0.0), (3580, 0.0), (3581, 0.0), (3582, 0.0), (3583, 0.0), (3584, 0.0), (3585, 0.0), (3588, 0.0), (3589, 0.0), (3592, 0.0), (3597, 0.0), (3598, 0.0), (3604, 0.0), (3609, 0.0), (3610, 0.0), (3617, 0.0), (3619, 0.0), (3628, 0.0), (3630, 0.0), (3631, 0.0), (3632, 0.0), (3648, 0.0), (3649, 0.0), (3652, 0.0), (3658, 0.0), (3659, 0.0), (3662, 0.0), (3663, 0.0), (3671, 0.0), (3674, 0.0), (3676, 0.0), (3679, 0.0), (3681, 0.0), (3682, 0.0), (3684, 0.0), (3686, 0.0), (3697, 0.0), (3702, 0.0), (3703, 0.0), (3708, 0.0), (3710, 0.0), (3715, 0.0), (3716, 0.0), (3717, 0.0), (3721, 0.0), (3722, 0.0), (3723, 0.0), (3726, 0.0), (3731, 0.0), (3738, 0.0), (3740, 0.0), (3746, 0.0), (3752, 0.0), (3753, 0.0), (3758, 0.0), (3760, 0.0), (3761, 0.0), (3764, 0.0), (3768, 0.0), (3774, 0.0), (3776, 0.0), (3782, 0.0), (3785, 0.0), (3789, 0.0), (3790, 0.0), (3791, 0.0), (3793, 0.0), (3794, 0.0), (3796, 0.0), (3800, 0.0), (3803, 0.0), (3805, 0.0), (3810, 0.0), (3812, 0.0), (3814, 0.0), (3815, 0.0), (3816, 0.0), (3817, 0.0), (3818, 0.0), (3820, 0.0), (3830, 0.0), (3831, 0.0), (3836, 0.0), (3837, 0.0), (3838, 0.0), (3842, 0.0), (3843, 0.0), (3846, 0.0), (3851, 0.0), (3853, 0.0), (3856, 0.0), (3858, 0.0), (3859, 0.0), (3860, 0.0), (3861, 0.0), (3871, 0.0), (3879, 0.0), (3887, 0.0), (3891, 0.0), (3896, 0.0), (3916, 0.0), (3918, 0.0), (3926, 0.0), (3929, 0.0), (3931, 0.0), (3933, 0.0), (3936, 0.0), (3938, 0.0), (3940, 0.0), (3943, 0.0), (3944, 0.0), (3946, 0.0), (3947, 0.0), (3948, 0.0), (3949, 0.0), (3950, 0.0), (3958, 0.0), (3963, 0.0), (3964, 0.0), (3970, 0.0), (3976, 0.0), (3980, 0.0), (3981, 0.0), (3985, 0.0), (3988, 0.0), (3989, 0.0), (3991, 0.0), (3996, 0.0), (4001, 0.0), (4003, 0.0), (4006, 0.0), (4007, 0.0), (4008, 0.0), (4009, 0.0), (4010, 0.0), (4021, 0.0), (4026, 0.0), (4028, 0.0), (4029, 0.0), (4031, 0.0), (4034, 0.0), (4035, 0.0), (4037, 0.0), (4039, 0.0), (4040, 0.0), (4043, 0.0), (4044, 0.0), (4045, 0.0), (4047, 0.0), (4050, 0.0), (4055, 0.0), (4057, 0.0), (4058, 0.0), (4061, 0.0), (4064, 0.0), (4065, 0.0), (4067, 0.0), (4071, 0.0), (4072, 0.0), (4084, 0.0), (4086, 0.0), (4090, 0.0), (4093, 0.0), (4094, 0.0), (4096, 0.0), (4097, 0.0), (4099, 0.0), (4103, 0.0), (4105, 0.0), (4106, 0.0), (4108, 0.0), (4112, 0.0), (4114, 0.0), (4115, 0.0), (4118, 0.0), (4120, 0.0), (4121, 0.0), (4122, 0.0), (4125, 0.0), (4127, 0.0), (4131, 0.0), (4134, 0.0), (4144, 0.0), (4146, 0.0), (4148, 0.0), (4149, 0.0), (4158, 0.0), (4159, 0.0), (4162, 0.0), (4164, 0.0), (4166, 0.0), (4170, 0.0), (4173, 0.0), (4177, 0.0), (4179, 0.0), (4180, 0.0), (4185, 0.0), (4186, 0.0), (4188, 0.0), (4190, 0.0), (4191, 0.0), (4193, 0.0), (4195, 0.0), (4196, 0.0), (4198, 0.0), (4204, 0.0), (4207, 0.0), (4208, 0.0), (4210, 0.0), (4214, 0.0), (4215, 0.0), (4217, 0.0), (4218, 0.0), (4219, 0.0), (4223, 0.0), (4224, 0.0), (4226, 0.0), (4227, 0.0), (4229, 0.0), (4233, 0.0), (4234, 0.0), (4235, 0.0), (4236, 0.0), (4237, 0.0), (4239, 0.0), (4241, 0.0), (4248, 0.0), (4251, 0.0), (4252, 0.0), (4253, 0.0), (4256, 0.0), (4258, 0.0), (4260, 0.0), (4265, 0.0), (4270, 0.0), (4271, 0.0), (4272, 0.0), (4274, 0.0), (4275, 0.0), (4278, 0.0), (4279, 0.0), (4289, 0.0), (4290, 0.0), (4291, 0.0), (4294, 0.0), (4297, 0.0), (4300, 0.0), (4303, 0.0), (4307, 0.0), (4310, 0.0), (4314, 0.0), (4315, 0.0), (4316, 0.0), (4317, 0.0), (4319, 0.0), (4322, 0.0), (4323, 0.0), (4324, 0.0), (4325, 0.0), (4332, 0.0), (4338, 0.0), (4342, 0.0), (4351, 0.0), (4352, 0.0), (4353, 0.0), (4358, 0.0), (4360, 0.0), (4367, 0.0), (4370, 0.0), (4377, 0.0), (4378, 0.0), (4384, 0.0), (4385, 0.0), (4388, 0.0), (4389, 0.0), (4390, 0.0), (4392, 0.0), (4404, 0.0), (4405, 0.0), (4410, 0.0), (4413, 0.0), (4414, 0.0), (4415, 0.0), (4417, 0.0), (4424, 0.0), (4425, 0.0), (4426, 0.0), (4433, 0.0), (4434, 0.0), (4438, 0.0), (4439, 0.0), (4440, 0.0), (4447, 0.0), (4449, 0.0), (4451, 0.0), (4452, 0.0), (4454, 0.0), (4455, 0.0), (4456, 0.0), (4457, 0.0), (4460, 0.0), (4462, 0.0), (4464, 0.0), (4480, 0.0), (4481, 0.0), (4483, 0.0), (4485, 0.0), (4486, 0.0), (4488, 0.0), (4491, 0.0), (4496, 0.0), (4498, 0.0), (4506, 0.0), (4508, 0.0), (4509, 0.0), (4512, 0.0), (4513, 0.0), (4518, 0.0), (4519, 0.0), (4524, 0.0), (4525, 0.0), (4526, 0.0), (4532, 0.0), (4534, 0.0), (4537, 0.0), (4538, 0.0), (4539, 0.0), (4541, 0.0), (4542, 0.0), (4543, 0.0), (4548, 0.0), (4552, 0.0), (4556, 0.0), (4557, 0.0), (4559, 0.0), (4561, 0.0), (4562, 0.0), (4564, 0.0), (4568, 0.0), (4569, 0.0), (4570, 0.0), (4577, 0.0), (4578, 0.0), (4580, 0.0), (4582, 0.0), (4583, 0.0), (4585, 0.0), (4586, 0.0), (4587, 0.0), (4592, 0.0), (4596, 0.0), (4597, 0.0), (4600, 0.0), (4615, 0.0), (4618, 0.0), (4623, 0.0), (4628, 0.0), (4630, 0.0), (4631, 0.0), (4635, 0.0), (4639, 0.0), (4644, 0.0), (4645, 0.0), (4647, 0.0), (4648, 0.0), (4651, 0.0), (4653, 0.0), (4654, 0.0), (4655, 0.0), (4663, 0.0), (4665, 0.0), (4666, 0.0), (4667, 0.0), (4671, 0.0), (4672, 0.0), (4675, 0.0), (4681, 0.0), (4684, 0.0), (4688, 0.0), (4689, 0.0), (4690, 0.0), (4691, 0.0), (4695, 0.0), (4698, 0.0), (4700, 0.0), (4703, 0.0), (4707, 0.0), (4708, 0.0), (4709, 0.0), (4711, 0.0), (4716, 0.0), (4720, 0.0), (4721, 0.0), (4726, 0.0), (4727, 0.0), (4728, 0.0), (4738, 0.0), (4740, 0.0), (4741, 0.0), (4742, 0.0), (4745, 0.0), (4746, 0.0), (4750, 0.0), (4751, 0.0), (4754, 0.0), (4755, 0.0), (4758, 0.0), (4759, 0.0)]\n"
          ]
        }
      ]
    },
    {
      "cell_type": "code",
      "source": [
        "#print the name of similar movies based on the index\n",
        "\n",
        "print('Top 30 movies suggested for you : \\n')\n",
        "i = 1\n",
        "\n",
        "for movie in Sorted_Similar_Movies:\n",
        "  index = movie[0]\n",
        "  title_from_index = df[df.index==index]['Movie_Title'].values[0]\n",
        "  if(i<31):\n",
        "    print(i, '.',title_from_index)\n",
        "    i+=1"
      ],
      "metadata": {
        "colab": {
          "base_uri": "https://localhost:8080/"
        },
        "id": "HhEXi7m_w118",
        "outputId": "4a941965-d6cd-44b7-d06e-4e081e9e4bdc"
      },
      "execution_count": null,
      "outputs": [
        {
          "output_type": "stream",
          "name": "stdout",
          "text": [
            "Top 30 movies suggested for you : \n",
            "\n",
            "1 . Savage Grace\n",
            "2 . The Hours\n",
            "3 . The End of the Affair\n",
            "4 . Alatriste\n",
            "5 . Frost/Nixon\n",
            "6 . The Yellow Handkerchief\n",
            "7 . Still Alice\n",
            "8 . The Shipping News\n",
            "9 . My Week with Marilyn\n",
            "10 . The Greatest Game Ever Played\n",
            "11 . The Boy Next Door\n",
            "12 . The Theory of Everything\n",
            "13 . American Dreamz\n",
            "14 . Legends of Oz: Dorothy's Return\n",
            "15 . Jupiter Ascending\n",
            "16 . Adam\n",
            "17 . Michael Clayton\n",
            "18 . Déjà Vu\n",
            "19 . Far from Heaven\n",
            "20 . A Single Man\n",
            "21 . Auto Focus\n",
            "22 . Don Jon\n",
            "23 . Slacker Uprising\n",
            "24 . Ella Enchanted\n",
            "25 . Femme Fatale\n",
            "26 . Limbo\n",
            "27 . American Beauty\n",
            "28 . The Canyons\n",
            "29 . Escape from Tomorrow\n",
            "30 . Losin' It\n"
          ]
        }
      ]
    },
    {
      "cell_type": "code",
      "source": [],
      "metadata": {
        "id": "qYSL5bcMxhZc"
      },
      "execution_count": null,
      "outputs": []
    },
    {
      "cell_type": "markdown",
      "source": [
        "## **Top 10 Movie Recommendatiob System**"
      ],
      "metadata": {
        "id": "JhQKH7Hjy_Ek"
      }
    },
    {
      "cell_type": "code",
      "source": [
        "Movie_Name = input('Enter your favourite movies name :')\n",
        "\n",
        "list_of_all__titles = df['Movie_Title'].tolist()\n",
        "\n",
        "Find_Close_Match = difflib.get_close_matches(Movie_Name, list_of_all__titles)\n",
        "\n",
        "Close_MAtch = Find_Close_Match[0]\n",
        "\n",
        "Index_of_Movie = df[df.Movie_Title == Close_Match]['Movie_ID'].values[0]\n",
        "\n",
        "Recommendation_Score = list(enumerate(similarity_Score[Index_of_Movie]))\n",
        "\n",
        "Sorted_Similar_Movies = sorted(Recommendation_Score, key = lambda x:x[1],reverse = True)\n",
        "\n",
        "print(\"Top 10 movies suggested for you :\\n\")\n",
        "\n",
        "i = 1\n",
        "\n",
        "for movie in Sorted_Similar_Movies:\n",
        "  index = movie[0]\n",
        "  title_from_index = df[df.Movie_ID==index]['Movie_Title'].values\n",
        "  if (i<11):\n",
        "     print(i,'.',title_from_index)\n",
        "     i+=1\n"
      ],
      "metadata": {
        "colab": {
          "base_uri": "https://localhost:8080/"
        },
        "id": "ow0_UciNzPbp",
        "outputId": "0096b1bc-e68a-4ea6-a650-0ea6bd33d357"
      },
      "execution_count": null,
      "outputs": [
        {
          "output_type": "stream",
          "name": "stdout",
          "text": [
            "Enter your favourite movies name :Hridyam\n",
            "Top 10 movies suggested for you :\n",
            "\n",
            "1 . ['Dr. Dolittle 2']\n",
            "2 . ['Silent Hill']\n",
            "3 . ['Slackers']\n",
            "4 . ['Arn: The Knight Templar']\n",
            "5 . ['Firestarter']\n",
            "6 . ['Scott Pilgrim vs. the World']\n",
            "7 . []\n",
            "8 . ['Racing Stripes']\n",
            "9 . ['Act of Valor']\n",
            "10 . ['Owning Mahowny']\n"
          ]
        }
      ]
    },
    {
      "cell_type": "code",
      "source": [],
      "metadata": {
        "id": "2l2DL7Up4DqL"
      },
      "execution_count": null,
      "outputs": []
    }
  ]
}